{
 "cells": [
  {
   "cell_type": "markdown",
   "id": "698e59ff",
   "metadata": {},
   "source": [
    "## Imports"
   ]
  },
  {
   "cell_type": "code",
   "execution_count": 1,
   "id": "96f65c84",
   "metadata": {},
   "outputs": [],
   "source": [
    "using BenchmarkTools, Plots, Statistics\n",
    "include(\"primality_tests.jl\");"
   ]
  },
  {
   "cell_type": "code",
   "execution_count": 2,
   "id": "7f37f834",
   "metadata": {},
   "outputs": [
    {
     "data": {
      "text/plain": [
       "134217728:268435456"
      ]
     },
     "execution_count": 2,
     "metadata": {},
     "output_type": "execute_result"
    }
   ],
   "source": [
    "range_to_search = 2^27:2^28"
   ]
  },
  {
   "cell_type": "markdown",
   "id": "ecca56b5",
   "metadata": {},
   "source": [
    "## Generate primes with trial division"
   ]
  },
  {
   "cell_type": "code",
   "execution_count": 3,
   "id": "8ba1aee9",
   "metadata": {},
   "outputs": [
    {
     "name": "stdout",
     "output_type": "stream",
     "text": [
      "138.669811 seconds (86.62 k allocations: 78.263 MiB, 0.02% gc time, 0.02% compilation time)\n",
      "elapsed time (ns):  138669810900\n",
      "gc time (ns):       30444200\n",
      "bytes allocated:    82064325\n",
      "pool allocs:        86587\n",
      "non-pool GC allocs: 31\n",
      "malloc() calls:     1\n",
      "realloc() calls:    6\n",
      "free() calls:       9\n",
      "minor collections:  0\n",
      "full collections:   1\n"
     ]
    },
    {
     "data": {
      "text/plain": [
       "Set{Int64} with 7027290 elements:\n",
       "  160194443\n",
       "  257106557\n",
       "  263880713\n",
       "  208961549\n",
       "  246707863\n",
       "  232420219\n",
       "  243291443\n",
       "  146704793\n",
       "  260836091\n",
       "  152654641\n",
       "  186002497\n",
       "  248117167\n",
       "  139631017\n",
       "  189284699\n",
       "  174094913\n",
       "  232245389\n",
       "  201308183\n",
       "  263409343\n",
       "  238141619\n",
       "  148930361\n",
       "  189589571\n",
       "  265409407\n",
       "  218319809\n",
       "  217984939\n",
       "  189764101\n",
       "  ⋮ "
      ]
     },
     "execution_count": 3,
     "metadata": {},
     "output_type": "execute_result"
    }
   ],
   "source": [
    "@timev trial_division_primes = [n for n in range_to_search if trial_division_improved(n)]\n",
    "trial_division_primes_set = Set(trial_division_primes)"
   ]
  },
  {
   "cell_type": "markdown",
   "id": "2a0f115f",
   "metadata": {},
   "source": [
    "These numbers are guaranteed to be prime, but often take a while to execute"
   ]
  },
  {
   "cell_type": "markdown",
   "id": "3b28c1e6",
   "metadata": {},
   "source": [
    "## Find numbers that pass Fermat primality test"
   ]
  },
  {
   "cell_type": "code",
   "execution_count": 4,
   "id": "e49dedc5",
   "metadata": {},
   "outputs": [
    {
     "name": "stdout",
     "output_type": "stream",
     "text": [
      " 56.717420 seconds (201.58 M allocations: 7.022 GiB, 1.54% gc time, 0.13% compilation time)\n",
      "elapsed time (ns):  56717420100\n",
      "gc time (ns):       875304900\n",
      "bytes allocated:    7539772001\n",
      "pool allocs:        201575110\n",
      "non-pool GC allocs: 47\n",
      "malloc() calls:     1\n",
      "realloc() calls:    6\n",
      "free() calls:       53\n",
      "minor collections:  37\n",
      "full collections:   1\n"
     ]
    },
    {
     "data": {
      "text/plain": [
       "Set{Int64} with 7027376 elements:\n",
       "  160194443\n",
       "  257106557\n",
       "  263880713\n",
       "  208961549\n",
       "  246707863\n",
       "  232420219\n",
       "  243291443\n",
       "  146704793\n",
       "  260836091\n",
       "  152654641\n",
       "  186002497\n",
       "  248117167\n",
       "  139631017\n",
       "  189284699\n",
       "  174094913\n",
       "  232245389\n",
       "  201308183\n",
       "  263409343\n",
       "  238141619\n",
       "  148930361\n",
       "  189589571\n",
       "  265409407\n",
       "  218319809\n",
       "  217984939\n",
       "  189764101\n",
       "  ⋮ "
      ]
     },
     "execution_count": 4,
     "metadata": {},
     "output_type": "execute_result"
    }
   ],
   "source": [
    "k = 3\n",
    "@timev fermat_passing_numbers = [n for n in range_to_search if fermat_test(n,k)]\n",
    "fermat_passing_numbers_set = Set(fermat_passing_numbers)"
   ]
  },
  {
   "cell_type": "markdown",
   "id": "fa7570b7",
   "metadata": {},
   "source": [
    "Note that it ran significantly faster than trial division. However, some accuracy is lost. Let's compare to the primes guaranteed by trial division"
   ]
  },
  {
   "cell_type": "code",
   "execution_count": 5,
   "id": "339b4a0e",
   "metadata": {},
   "outputs": [
    {
     "data": {
      "text/plain": [
       "Set{Int64} with 86 elements:\n",
       "  151813201\n",
       "  176659201\n",
       "  196358977\n",
       "  150846961\n",
       "  257495641\n",
       "  158864833\n",
       "  186782401\n",
       "  186393481\n",
       "  163759753\n",
       "  206955841\n",
       "  226509361\n",
       "  181154701\n",
       "  157731841\n",
       "  180115489\n",
       "  221884001\n",
       "  266003101\n",
       "  140241361\n",
       "  172947529\n",
       "  184353001\n",
       "  170947105\n",
       "  185040703\n",
       "  232114433\n",
       "  172290241\n",
       "  166595131\n",
       "  139536865\n",
       "  ⋮ "
      ]
     },
     "execution_count": 5,
     "metadata": {},
     "output_type": "execute_result"
    }
   ],
   "source": [
    "fermat_false_positives = setdiff(fermat_passing_numbers_set, trial_division_primes_set)"
   ]
  },
  {
   "cell_type": "code",
   "execution_count": 6,
   "id": "6286122a",
   "metadata": {},
   "outputs": [
    {
     "data": {
      "text/plain": [
       "Set{Int64}()"
      ]
     },
     "execution_count": 6,
     "metadata": {},
     "output_type": "execute_result"
    }
   ],
   "source": [
    "fermat_false_negatives = setdiff(trial_division_primes_set, fermat_passing_numbers_set)"
   ]
  },
  {
   "cell_type": "markdown",
   "id": "a57d0ad2",
   "metadata": {},
   "source": [
    "As demonstrated, the Fermat test can often give false positive but not false negatives."
   ]
  },
  {
   "cell_type": "markdown",
   "id": "deb89754",
   "metadata": {},
   "source": [
    "## Find numbers that pass Miller-Rabin test"
   ]
  },
  {
   "cell_type": "code",
   "execution_count": 7,
   "id": "3173278a",
   "metadata": {},
   "outputs": [
    {
     "name": "stdout",
     "output_type": "stream",
     "text": [
      " 67.426702 seconds (201.47 M allocations: 8.026 GiB, 1.51% gc time, 0.07% compilation time)\n",
      "elapsed time (ns):  67426702200\n",
      "gc time (ns):       1015301300\n",
      "bytes allocated:    8617550401\n",
      "pool allocs:        201470839\n",
      "non-pool GC allocs: 42\n",
      "malloc() calls:     1\n",
      "realloc() calls:    6\n",
      "free() calls:       5\n",
      "minor collections:  17\n",
      "full collections:   2\n"
     ]
    },
    {
     "data": {
      "text/plain": [
       "Set{Int64} with 7027291 elements:\n",
       "  160194443\n",
       "  257106557\n",
       "  263880713\n",
       "  208961549\n",
       "  246707863\n",
       "  232420219\n",
       "  243291443\n",
       "  146704793\n",
       "  260836091\n",
       "  152654641\n",
       "  186002497\n",
       "  248117167\n",
       "  139631017\n",
       "  189284699\n",
       "  174094913\n",
       "  232245389\n",
       "  201308183\n",
       "  263409343\n",
       "  238141619\n",
       "  148930361\n",
       "  189589571\n",
       "  265409407\n",
       "  218319809\n",
       "  217984939\n",
       "  189764101\n",
       "  ⋮ "
      ]
     },
     "execution_count": 7,
     "metadata": {},
     "output_type": "execute_result"
    }
   ],
   "source": [
    "k = 4\n",
    "@timev mr_passing_numbers = [n for n in range_to_search if miller_rabin_test(n,k)]\n",
    "mr_passing_numbers_set = Set(mr_passing_numbers)"
   ]
  },
  {
   "cell_type": "code",
   "execution_count": 8,
   "id": "69b7e8d0",
   "metadata": {},
   "outputs": [
    {
     "data": {
      "text/plain": [
       "Set{Int64} with 1 element:\n",
       "  165938653"
      ]
     },
     "execution_count": 8,
     "metadata": {},
     "output_type": "execute_result"
    }
   ],
   "source": [
    "mr_false_positives = setdiff(mr_passing_numbers_set, trial_division_primes_set)"
   ]
  },
  {
   "cell_type": "code",
   "execution_count": 9,
   "id": "fd6aa3e5",
   "metadata": {},
   "outputs": [
    {
     "data": {
      "text/plain": [
       "Set{Int64}()"
      ]
     },
     "execution_count": 9,
     "metadata": {},
     "output_type": "execute_result"
    }
   ],
   "source": [
    "mr_false_negatives = setdiff(trial_division_primes_set, mr_passing_numbers_set)"
   ]
  },
  {
   "cell_type": "markdown",
   "id": "f7b1590b",
   "metadata": {},
   "source": [
    "Again, the Miller-Rabin test doesn't give false negatives. It is possible that it returns a false positive but the chance is much lower than the Fermat test. Increasing the number of trials increases confidence that a number is truely prime, but will cost more time. With the parameters I chose, it runs slightly longer than the Fermat test, but still significantly faster than trial division"
   ]
  },
  {
   "cell_type": "markdown",
   "id": "ca5f44dd",
   "metadata": {},
   "source": [
    "## Speed of a single test\n",
    "The prior cells showed the time taken to generate all primes in a certain range (and store them in a Vector). Now we will look closely at the speed performance of each test using BenchmarkTools"
   ]
  },
  {
   "cell_type": "code",
   "execution_count": 10,
   "id": "36c380ea",
   "metadata": {},
   "outputs": [
    {
     "data": {
      "text/plain": [
       "268435399"
      ]
     },
     "execution_count": 10,
     "metadata": {},
     "output_type": "execute_result"
    }
   ],
   "source": [
    "# Select a large (certainly prime) number\n",
    "prime_to_time = trial_division_primes[length(trial_division_primes)]"
   ]
  },
  {
   "cell_type": "code",
   "execution_count": 11,
   "id": "9a9b7d3c",
   "metadata": {},
   "outputs": [
    {
     "name": "stdout",
     "output_type": "stream",
     "text": [
      "  489.995 ms (0 allocations: 0 bytes)\n"
     ]
    },
    {
     "data": {
      "text/plain": [
       "true"
      ]
     },
     "execution_count": 11,
     "metadata": {},
     "output_type": "execute_result"
    }
   ],
   "source": [
    "@btime trial_division_basic(prime_to_time)"
   ]
  },
  {
   "cell_type": "code",
   "execution_count": 12,
   "id": "940c4327",
   "metadata": {},
   "outputs": [
    {
     "name": "stdout",
     "output_type": "stream",
     "text": [
      "  16.400 μs (0 allocations: 0 bytes)\n"
     ]
    },
    {
     "data": {
      "text/plain": [
       "true"
      ]
     },
     "execution_count": 12,
     "metadata": {},
     "output_type": "execute_result"
    }
   ],
   "source": [
    "@btime trial_division_improved(prime_to_time)"
   ]
  },
  {
   "cell_type": "markdown",
   "id": "08b99271",
   "metadata": {},
   "source": [
    "Here, the improved version of trial division was over 1000 times faster than the basic version."
   ]
  },
  {
   "cell_type": "code",
   "execution_count": 13,
   "id": "054eca52",
   "metadata": {},
   "outputs": [
    {
     "name": "stdout",
     "output_type": "stream",
     "text": [
      "  1.800 μs (1 allocation: 80 bytes)\n"
     ]
    },
    {
     "data": {
      "text/plain": [
       "true"
      ]
     },
     "execution_count": 13,
     "metadata": {},
     "output_type": "execute_result"
    }
   ],
   "source": [
    "k = 3\n",
    "@btime fermat_test(prime_to_time,k)"
   ]
  },
  {
   "cell_type": "code",
   "execution_count": 14,
   "id": "80105564",
   "metadata": {},
   "outputs": [
    {
     "name": "stdout",
     "output_type": "stream",
     "text": [
      "  1.830 μs (1 allocation: 80 bytes)\n"
     ]
    },
    {
     "data": {
      "text/plain": [
       "true"
      ]
     },
     "execution_count": 14,
     "metadata": {},
     "output_type": "execute_result"
    }
   ],
   "source": [
    "k = 3\n",
    "@btime miller_rabin_test(prime_to_time,k)"
   ]
  },
  {
   "cell_type": "markdown",
   "id": "5d99bf4b",
   "metadata": {},
   "source": [
    "Here, the times taken by the Fermat test and the Miller-Rabin test are very close since they each only used 3 bases."
   ]
  },
  {
   "cell_type": "markdown",
   "id": "0e071ffc",
   "metadata": {},
   "source": [
    "## Liars\n",
    "Both the Fermat test and the Miller-Rabin test are probabilistic tests. We will now examine a few composite numbers and how many bases they pass in each test."
   ]
  },
  {
   "cell_type": "code",
   "execution_count": 15,
   "id": "0cdd92b3",
   "metadata": {},
   "outputs": [],
   "source": [
    "composite1 = 35;#35=5*7"
   ]
  },
  {
   "cell_type": "code",
   "execution_count": 16,
   "id": "dd79fa70",
   "metadata": {},
   "outputs": [
    {
     "name": "stdout",
     "output_type": "stream",
     "text": [
      "Searching for Fermat liars for n=35\n",
      "Liar at a=6\n",
      "Liar at a=29\n",
      "30 witnesses, 2 liars\n"
     ]
    }
   ],
   "source": [
    "number_witnesses = number_liars = 0\n",
    "\n",
    "n = composite1\n",
    "println(\"Searching for Fermat liars for n=$(n)\")\n",
    "\n",
    "for a in 2:n-2\n",
    "    if _fermat_trial(n,a)\n",
    "        println(\"Liar at a=$(a)\")\n",
    "        number_liars += 1\n",
    "    else\n",
    "        number_witnesses += 1\n",
    "    end\n",
    "end\n",
    "\n",
    "println(\"$(number_witnesses) witnesses, $(number_liars) liars\")\n"
   ]
  },
  {
   "cell_type": "code",
   "execution_count": 17,
   "id": "f19c8c61",
   "metadata": {},
   "outputs": [
    {
     "name": "stdout",
     "output_type": "stream",
     "text": [
      "Searching for strong liars for n=35\n",
      "32 witnesses, 0 liars\n"
     ]
    }
   ],
   "source": [
    "number_witnesses = number_liars = 0\n",
    "\n",
    "n = composite1\n",
    "println(\"Searching for strong liars for n=$(n)\")\n",
    "\n",
    "for a in 2:n-2\n",
    "    if _miller_rabin_trial(n,a)\n",
    "        println(\"Liar at a=$(a)\")\n",
    "        number_liars += 1\n",
    "    else\n",
    "        number_witnesses += 1\n",
    "    end\n",
    "end\n",
    "\n",
    "println(\"$(number_witnesses) witnesses, $(number_liars) liars\")\n"
   ]
  },
  {
   "cell_type": "markdown",
   "id": "2d583069",
   "metadata": {},
   "source": [
    "For the Fermat test, there were 2 liars that allowed 35 to be marked as possibly prime. Meanwhile the Miller-Rabin test had none."
   ]
  },
  {
   "cell_type": "markdown",
   "id": "a7f47c45",
   "metadata": {},
   "source": [
    "Let's try another number."
   ]
  },
  {
   "cell_type": "code",
   "execution_count": 18,
   "id": "bae1b484",
   "metadata": {},
   "outputs": [],
   "source": [
    "composite2 = 221;#221=13*17"
   ]
  },
  {
   "cell_type": "code",
   "execution_count": 19,
   "id": "8f994498",
   "metadata": {},
   "outputs": [
    {
     "name": "stdout",
     "output_type": "stream",
     "text": [
      "Searching for Fermat liars for n=221\n",
      "Liar at a=18\n",
      "Liar at a=21\n",
      "Liar at a=38\n",
      "Liar at a=47\n",
      "Liar at a=64\n",
      "Liar at a=86\n",
      "Liar at a=103\n",
      "Liar at a=118\n",
      "Liar at a=135\n",
      "Liar at a=157\n",
      "Liar at a=174\n",
      "Liar at a=183\n",
      "Liar at a=200\n",
      "Liar at a=203\n",
      "204 witnesses, 14 liars\n"
     ]
    }
   ],
   "source": [
    "number_witnesses = number_liars = 0\n",
    "\n",
    "n = composite2\n",
    "println(\"Searching for Fermat liars for n=$(n)\")\n",
    "\n",
    "for a in 2:n-2\n",
    "    if _fermat_trial(n,a)\n",
    "        println(\"Liar at a=$(a)\")\n",
    "        number_liars += 1\n",
    "    else\n",
    "        number_witnesses += 1\n",
    "    end\n",
    "end\n",
    "\n",
    "println(\"$(number_witnesses) witnesses, $(number_liars) liars\")\n"
   ]
  },
  {
   "cell_type": "code",
   "execution_count": 20,
   "id": "a699fffe",
   "metadata": {},
   "outputs": [
    {
     "name": "stdout",
     "output_type": "stream",
     "text": [
      "Searching for strong liars for n=221\n",
      "Liar at a=21\n",
      "Liar at a=47\n",
      "Liar at a=174\n",
      "Liar at a=200\n",
      "214 witnesses, 4 liars\n"
     ]
    }
   ],
   "source": [
    "number_witnesses = number_liars = 0\n",
    "\n",
    "n = composite2\n",
    "println(\"Searching for strong liars for n=$(n)\")\n",
    "\n",
    "for a in 2:n-2\n",
    "    if _miller_rabin_trial(n,a)\n",
    "        println(\"Liar at a=$(a)\")\n",
    "        number_liars += 1\n",
    "    else\n",
    "        number_witnesses += 1\n",
    "    end\n",
    "end\n",
    "\n",
    "println(\"$(number_witnesses) witnesses, $(number_liars) liars\")\n"
   ]
  },
  {
   "cell_type": "markdown",
   "id": "305b3084",
   "metadata": {},
   "source": [
    "For 221, the Fermat test had 14 liars whereas the Miller-Rabin test had 4. Also note that for a fixed $n$, the set of Miller-Rabin liars is a subset of the Fermat liars."
   ]
  },
  {
   "cell_type": "code",
   "execution_count": 21,
   "id": "955d1999",
   "metadata": {},
   "outputs": [],
   "source": [
    "composite3 = 561;#561=3*11*17"
   ]
  },
  {
   "cell_type": "code",
   "execution_count": 22,
   "id": "86aa139f",
   "metadata": {},
   "outputs": [
    {
     "name": "stdout",
     "output_type": "stream",
     "text": [
      "Searching for Fermat liars for n=561\n",
      "Liar at a=2\n",
      "Liar at a=4\n",
      "Liar at a=5\n",
      "Liar at a=7\n",
      "Liar at a=8\n",
      "Liar at a=10\n",
      "Liar at a=13\n",
      "Liar at a=14\n",
      "Liar at a=16\n",
      "Liar at a=19\n",
      "Liar at a=20\n",
      "Liar at a=23\n",
      "Liar at a=25\n",
      "Liar at a=26\n",
      "Liar at a=28\n",
      "Liar at a=29\n",
      "Liar at a=31\n",
      "Liar at a=32\n",
      "Liar at a=35\n",
      "Liar at a=37\n",
      "Liar at a=38\n",
      "Liar at a=40\n",
      "Liar at a=41\n",
      "Liar at a=43\n",
      "Liar at a=46\n",
      "Liar at a=47\n",
      "Liar at a=49\n",
      "Liar at a=50\n",
      "Liar at a=52\n",
      "Liar at a=53\n",
      "Liar at a=56\n",
      "Liar at a=58\n",
      "Liar at a=59\n",
      "Liar at a=61\n",
      "Liar at a=62\n",
      "Liar at a=64\n",
      "Liar at a=65\n",
      "Liar at a=67\n",
      "Liar at a=70\n",
      "Liar at a=71\n",
      "Liar at a=73\n",
      "Liar at a=74\n",
      "Liar at a=76\n",
      "Liar at a=79\n",
      "Liar at a=80\n",
      "Liar at a=82\n",
      "Liar at a=83\n",
      "Liar at a=86\n",
      "Liar at a=89\n",
      "Liar at a=91\n",
      "Liar at a=92\n",
      "Liar at a=94\n",
      "Liar at a=95\n",
      "Liar at a=97\n",
      "Liar at a=98\n",
      "Liar at a=100\n",
      "Liar at a=101\n",
      "Liar at a=103\n",
      "Liar at a=104\n",
      "Liar at a=106\n",
      "Liar at a=107\n",
      "Liar at a=109\n",
      "Liar at a=112\n",
      "Liar at a=113\n",
      "Liar at a=115\n",
      "Liar at a=116\n",
      "Liar at a=118\n",
      "Liar at a=122\n",
      "Liar at a=124\n",
      "Liar at a=125\n",
      "Liar at a=127\n",
      "Liar at a=128\n",
      "Liar at a=130\n",
      "Liar at a=131\n",
      "Liar at a=133\n",
      "Liar at a=134\n",
      "Liar at a=137\n",
      "Liar at a=139\n",
      "Liar at a=140\n",
      "Liar at a=142\n",
      "Liar at a=145\n",
      "Liar at a=146\n",
      "Liar at a=148\n",
      "Liar at a=149\n",
      "Liar at a=151\n",
      "Liar at a=152\n",
      "Liar at a=155\n",
      "Liar at a=157\n",
      "Liar at a=158\n",
      "Liar at a=160\n",
      "Liar at a=161\n",
      "Liar at a=163\n",
      "Liar at a=164\n",
      "Liar at a=166\n",
      "Liar at a=167\n",
      "Liar at a=169\n",
      "Liar at a=172\n",
      "Liar at a=173\n",
      "Liar at a=175\n",
      "Liar at a=178\n",
      "Liar at a=179\n",
      "Liar at a=181\n",
      "Liar at a=182\n",
      "Liar at a=184\n",
      "Liar at a=185\n",
      "Liar at a=188\n",
      "Liar at a=190\n",
      "Liar at a=191\n",
      "Liar at a=193\n",
      "Liar at a=194\n",
      "Liar at a=196\n",
      "Liar at a=197\n",
      "Liar at a=199\n",
      "Liar at a=200\n",
      "Liar at a=202\n",
      "Liar at a=203\n",
      "Liar at a=205\n",
      "Liar at a=206\n",
      "Liar at a=208\n",
      "Liar at a=211\n",
      "Liar at a=212\n",
      "Liar at a=214\n",
      "Liar at a=215\n",
      "Liar at a=217\n",
      "Liar at a=218\n",
      "Liar at a=223\n",
      "Liar at a=224\n",
      "Liar at a=226\n",
      "Liar at a=227\n",
      "Liar at a=229\n",
      "Liar at a=230\n",
      "Liar at a=232\n",
      "Liar at a=233\n",
      "Liar at a=235\n",
      "Liar at a=236\n",
      "Liar at a=239\n",
      "Liar at a=241\n",
      "Liar at a=244\n",
      "Liar at a=245\n",
      "Liar at a=247\n",
      "Liar at a=248\n",
      "Liar at a=250\n",
      "Liar at a=251\n",
      "Liar at a=254\n",
      "Liar at a=256\n",
      "Liar at a=257\n",
      "Liar at a=259\n",
      "Liar at a=260\n",
      "Liar at a=262\n",
      "Liar at a=263\n",
      "Liar at a=265\n",
      "Liar at a=266\n",
      "Liar at a=268\n",
      "Liar at a=269\n",
      "Liar at a=271\n",
      "Liar at a=274\n",
      "Liar at a=277\n",
      "Liar at a=278\n",
      "Liar at a=280\n",
      "Liar at a=281\n",
      "Liar at a=283\n",
      "Liar at a=284\n",
      "Liar at a=287\n",
      "Liar at a=290\n",
      "Liar at a=292\n",
      "Liar at a=293\n",
      "Liar at a=295\n",
      "Liar at a=296\n",
      "Liar at a=298\n",
      "Liar at a=299\n",
      "Liar at a=301\n",
      "Liar at a=302\n",
      "Liar at a=304\n",
      "Liar at a=305\n",
      "Liar at a=307\n",
      "Liar at a=310\n",
      "Liar at a=311\n",
      "Liar at a=313\n",
      "Liar at a=314\n",
      "Liar at a=316\n",
      "Liar at a=317\n",
      "Liar at a=320\n",
      "Liar at a=322\n",
      "Liar at a=325\n",
      "Liar at a=326\n",
      "Liar at a=328\n",
      "Liar at a=329\n",
      "Liar at a=331\n",
      "Liar at a=332\n",
      "Liar at a=334\n",
      "Liar at a=335\n",
      "Liar at a=337\n",
      "Liar at a=338\n",
      "Liar at a=343\n",
      "Liar at a=344\n",
      "Liar at a=346\n",
      "Liar at a=347\n",
      "Liar at a=349\n",
      "Liar at a=350\n",
      "Liar at a=353\n",
      "Liar at a=355\n",
      "Liar at a=356\n",
      "Liar at a=358\n",
      "Liar at a=359\n",
      "Liar at a=361\n",
      "Liar at a=362\n",
      "Liar at a=364\n",
      "Liar at a=365\n",
      "Liar at a=367\n",
      "Liar at a=368\n",
      "Liar at a=370\n",
      "Liar at a=371\n",
      "Liar at a=373\n",
      "Liar at a=376\n",
      "Liar at a=377\n",
      "Liar at a=379\n",
      "Liar at a=380\n",
      "Liar at a=382\n",
      "Liar at a=383\n",
      "Liar at a=386\n",
      "Liar at a=388\n",
      "Liar at a=389\n",
      "Liar at a=392\n",
      "Liar at a=394\n",
      "Liar at a=395\n",
      "Liar at a=397\n",
      "Liar at a=398\n",
      "Liar at a=400\n",
      "Liar at a=401\n",
      "Liar at a=403\n",
      "Liar at a=404\n",
      "Liar at a=406\n",
      "Liar at a=409\n",
      "Liar at a=410\n",
      "Liar at a=412\n",
      "Liar at a=413\n",
      "Liar at a=415\n",
      "Liar at a=416\n",
      "Liar at a=419\n",
      "Liar at a=421\n",
      "Liar at a=422\n",
      "Liar at a=424\n",
      "Liar at a=427\n",
      "Liar at a=428\n",
      "Liar at a=430\n",
      "Liar at a=431\n",
      "Liar at a=433\n",
      "Liar at a=434\n",
      "Liar at a=436\n",
      "Liar at a=437\n",
      "Liar at a=439\n",
      "Liar at a=443\n",
      "Liar at a=445\n",
      "Liar at a=446\n",
      "Liar at a=448\n",
      "Liar at a=449\n",
      "Liar at a=452\n",
      "Liar at a=454\n",
      "Liar at a=455\n",
      "Liar at a=457\n",
      "Liar at a=458\n",
      "Liar at a=460\n",
      "Liar at a=461\n",
      "Liar at a=463\n",
      "Liar at a=464\n",
      "Liar at a=466\n",
      "Liar at a=467\n",
      "Liar at a=469\n",
      "Liar at a=470\n",
      "Liar at a=472\n",
      "Liar at a=475\n",
      "Liar at a=478\n",
      "Liar at a=479\n",
      "Liar at a=481\n",
      "Liar at a=482\n",
      "Liar at a=485\n",
      "Liar at a=487\n",
      "Liar at a=488\n",
      "Liar at a=490\n",
      "Liar at a=491\n",
      "Liar at a=494\n",
      "Liar at a=496\n",
      "Liar at a=497\n",
      "Liar at a=499\n",
      "Liar at a=500\n",
      "Liar at a=502\n",
      "Liar at a=503\n",
      "Liar at a=505\n",
      "Liar at a=508\n",
      "Liar at a=509\n",
      "Liar at a=511\n",
      "Liar at a=512\n",
      "Liar at a=514\n",
      "Liar at a=515\n",
      "Liar at a=518\n",
      "Liar at a=520\n",
      "Liar at a=521\n",
      "Liar at a=523\n",
      "Liar at a=524\n",
      "Liar at a=526\n",
      "Liar at a=529\n",
      "Liar at a=530\n",
      "Liar at a=532\n",
      "Liar at a=533\n",
      "Liar at a=535\n",
      "Liar at a=536\n",
      "Liar at a=538\n",
      "Liar at a=541\n",
      "Liar at a=542\n",
      "Liar at a=545\n",
      "Liar at a=547\n",
      "Liar at a=548\n",
      "Liar at a=551\n",
      "Liar at a=553\n",
      "Liar at a=554\n",
      "Liar at a=556\n",
      "Liar at a=557\n",
      "Liar at a=559\n",
      "240 witnesses, 318 liars\n"
     ]
    }
   ],
   "source": [
    "number_witnesses = number_liars = 0\n",
    "\n",
    "n = composite3\n",
    "println(\"Searching for Fermat liars for n=$(n)\")\n",
    "\n",
    "for a in 2:n-2\n",
    "    if _fermat_trial(n,a)\n",
    "        println(\"Liar at a=$(a)\")\n",
    "        number_liars += 1\n",
    "    else\n",
    "        number_witnesses += 1\n",
    "    end\n",
    "end\n",
    "\n",
    "println(\"$(number_witnesses) witnesses, $(number_liars) liars\")\n"
   ]
  },
  {
   "cell_type": "code",
   "execution_count": 23,
   "id": "014ffe42",
   "metadata": {},
   "outputs": [
    {
     "data": {
      "text/plain": [
       "318"
      ]
     },
     "execution_count": 23,
     "metadata": {},
     "output_type": "execute_result"
    }
   ],
   "source": [
    "sum(i->gcd(i,n)==1,2:n-2)"
   ]
  },
  {
   "cell_type": "code",
   "execution_count": 24,
   "id": "45658852",
   "metadata": {},
   "outputs": [
    {
     "name": "stdout",
     "output_type": "stream",
     "text": [
      "Searching for strong liars for n=561\n",
      "Liar at a=50\n",
      "Liar at a=101\n",
      "Liar at a=103\n",
      "Liar at a=256\n",
      "Liar at a=305\n",
      "Liar at a=458\n",
      "Liar at a=460\n",
      "Liar at a=511\n",
      "550 witnesses, 8 liars\n"
     ]
    }
   ],
   "source": [
    "number_witnesses = number_liars = 0\n",
    "\n",
    "n = composite3\n",
    "println(\"Searching for strong liars for n=$(n)\")\n",
    "\n",
    "for a in 2:n-2\n",
    "    if _miller_rabin_trial(n,a)\n",
    "        println(\"Liar at a=$(a)\")\n",
    "        number_liars += 1\n",
    "    else\n",
    "        number_witnesses += 1\n",
    "    end\n",
    "end\n",
    "\n",
    "println(\"$(number_witnesses) witnesses, $(number_liars) liars\")\n"
   ]
  },
  {
   "cell_type": "markdown",
   "id": "3f665f48",
   "metadata": {},
   "source": [
    "561 is a Carmichael number, which basically means that it fools the Fermat primality test whenever $(a,n)=1$. In this example, the chance that a single Fermat trial gives a false positive is $\\frac{318}{558}$. Meanwhile the Miller-Rabin test only has 8 liars in the range."
   ]
  },
  {
   "cell_type": "code",
   "execution_count": 25,
   "id": "a4ee8b8e",
   "metadata": {},
   "outputs": [],
   "source": [
    "composite4 = 196287391;#196287391=9907*19813\n",
    "bases_to_test = 10^6;"
   ]
  },
  {
   "cell_type": "code",
   "execution_count": 26,
   "id": "7eda6e1c",
   "metadata": {},
   "outputs": [
    {
     "name": "stdout",
     "output_type": "stream",
     "text": [
      "Searching for Fermat liars for n=196287391\n",
      "~49.9867% witnesses, ~50.01330000000001% liars\n"
     ]
    }
   ],
   "source": [
    "number_witnesses = number_liars = 0\n",
    "\n",
    "n = composite4\n",
    "println(\"Searching for Fermat liars for n=$(n)\")\n",
    "\n",
    "for a in rand(2:n-2,bases_to_test)\n",
    "    if _fermat_trial(n,a)\n",
    "        number_liars += 1\n",
    "    else\n",
    "        number_witnesses += 1\n",
    "    end\n",
    "end\n",
    "\n",
    "println(\"~$(number_witnesses/bases_to_test*100)% witnesses, ~$(number_liars/bases_to_test*100)% liars\")\n"
   ]
  },
  {
   "cell_type": "code",
   "execution_count": 27,
   "id": "f3c12668",
   "metadata": {},
   "outputs": [
    {
     "name": "stdout",
     "output_type": "stream",
     "text": [
      "Searching for strong liars for n=196287391\n",
      "~75.0371% witnesses, ~24.962899999999998% liars\n"
     ]
    }
   ],
   "source": [
    "number_witnesses = number_liars = 0\n",
    "\n",
    "n = composite4\n",
    "println(\"Searching for strong liars for n=$(n)\")\n",
    "\n",
    "for a in rand(2:n-2,bases_to_test)\n",
    "    if _miller_rabin_trial(n,a)\n",
    "        number_liars += 1\n",
    "    else\n",
    "        number_witnesses += 1\n",
    "    end\n",
    "end\n",
    "\n",
    "println(\"~$(number_witnesses/bases_to_test*100)% witnesses, ~$(number_liars/bases_to_test*100)% liars\")\n"
   ]
  },
  {
   "cell_type": "markdown",
   "id": "edafeccd",
   "metadata": {},
   "source": [
    "This demonstrates that for composite numbers, a single Miller-Rabin trial has at most a 25% of returning a false positive. Interestingly, 196287391 is not a Carmichael number."
   ]
  },
  {
   "cell_type": "code",
   "execution_count": 28,
   "id": "ada1e05f",
   "metadata": {},
   "outputs": [],
   "source": [
    "nums_to_test = 10^6\n",
    "bases_to_test = 10^2\n",
    "fermat_liar_rate = zeros(nums_to_test)\n",
    "miller_rabin_liar_rate = zeros(nums_to_test)\n",
    "range_to_test = 5:2^27\n",
    "\n",
    "for i in 1:nums_to_test\n",
    "    fermat_liars = 0\n",
    "    miller_rabin_liars = 0\n",
    "\n",
    "    n = rand(range_to_test)\n",
    "    while trial_division_improved(n)\n",
    "        n = rand(range_to_test)\n",
    "    end\n",
    "\n",
    "    for a in rand(2:n-2,bases_to_test)\n",
    "        if _miller_rabin_trial(n,a)\n",
    "            miller_rabin_liars += 1\n",
    "            fermat_liars += 1\n",
    "        elseif _fermat_trial(n,a)\n",
    "            fermat_liars += 1\n",
    "        end\n",
    "    end\n",
    "\n",
    "    fermat_liar_rate[i] = fermat_liars/bases_to_test\n",
    "    miller_rabin_liar_rate[i] = miller_rabin_liars/bases_to_test\n",
    "end"
   ]
  },
  {
   "cell_type": "code",
   "execution_count": 29,
   "id": "18379dba",
   "metadata": {},
   "outputs": [
    {
     "name": "stdout",
     "output_type": "stream",
     "text": [
      "0.84\n"
     ]
    },
    {
     "data": {
      "image/svg+xml": [
       "<?xml version=\"1.0\" encoding=\"utf-8\"?>\n",
       "<svg xmlns=\"http://www.w3.org/2000/svg\" xmlns:xlink=\"http://www.w3.org/1999/xlink\" width=\"600\" height=\"400\" viewBox=\"0 0 2400 1600\">\n",
       "<defs>\n",
       "  <clipPath id=\"clip820\">\n",
       "    <rect x=\"0\" y=\"0\" width=\"2400\" height=\"1600\"/>\n",
       "  </clipPath>\n",
       "</defs>\n",
       "<path clip-path=\"url(#clip820)\" d=\"M0 1600 L2400 1600 L2400 0 L0 0  Z\" fill=\"#ffffff\" fill-rule=\"evenodd\" fill-opacity=\"1\"/>\n",
       "<defs>\n",
       "  <clipPath id=\"clip821\">\n",
       "    <rect x=\"480\" y=\"0\" width=\"1681\" height=\"1600\"/>\n",
       "  </clipPath>\n",
       "</defs>\n",
       "<path clip-path=\"url(#clip820)\" d=\"M186.274 1486.45 L2352.76 1486.45 L2352.76 47.2441 L186.274 47.2441  Z\" fill=\"#ffffff\" fill-rule=\"evenodd\" fill-opacity=\"1\"/>\n",
       "<defs>\n",
       "  <clipPath id=\"clip822\">\n",
       "    <rect x=\"186\" y=\"47\" width=\"2167\" height=\"1440\"/>\n",
       "  </clipPath>\n",
       "</defs>\n",
       "<polyline clip-path=\"url(#clip822)\" style=\"stroke:#000000; stroke-linecap:round; stroke-linejoin:round; stroke-width:2; stroke-opacity:0.1; fill:none\" points=\"305.434,1486.45 305.434,47.2441 \"/>\n",
       "<polyline clip-path=\"url(#clip822)\" style=\"stroke:#000000; stroke-linecap:round; stroke-linejoin:round; stroke-width:2; stroke-opacity:0.1; fill:none\" points=\"764.52,1486.45 764.52,47.2441 \"/>\n",
       "<polyline clip-path=\"url(#clip822)\" style=\"stroke:#000000; stroke-linecap:round; stroke-linejoin:round; stroke-width:2; stroke-opacity:0.1; fill:none\" points=\"1223.61,1486.45 1223.61,47.2441 \"/>\n",
       "<polyline clip-path=\"url(#clip822)\" style=\"stroke:#000000; stroke-linecap:round; stroke-linejoin:round; stroke-width:2; stroke-opacity:0.1; fill:none\" points=\"1682.69,1486.45 1682.69,47.2441 \"/>\n",
       "<polyline clip-path=\"url(#clip822)\" style=\"stroke:#000000; stroke-linecap:round; stroke-linejoin:round; stroke-width:2; stroke-opacity:0.1; fill:none\" points=\"2141.78,1486.45 2141.78,47.2441 \"/>\n",
       "<polyline clip-path=\"url(#clip820)\" style=\"stroke:#000000; stroke-linecap:round; stroke-linejoin:round; stroke-width:4; stroke-opacity:1; fill:none\" points=\"186.274,1486.45 2352.76,1486.45 \"/>\n",
       "<polyline clip-path=\"url(#clip820)\" style=\"stroke:#000000; stroke-linecap:round; stroke-linejoin:round; stroke-width:4; stroke-opacity:1; fill:none\" points=\"305.434,1486.45 305.434,1467.55 \"/>\n",
       "<polyline clip-path=\"url(#clip820)\" style=\"stroke:#000000; stroke-linecap:round; stroke-linejoin:round; stroke-width:4; stroke-opacity:1; fill:none\" points=\"764.52,1486.45 764.52,1467.55 \"/>\n",
       "<polyline clip-path=\"url(#clip820)\" style=\"stroke:#000000; stroke-linecap:round; stroke-linejoin:round; stroke-width:4; stroke-opacity:1; fill:none\" points=\"1223.61,1486.45 1223.61,1467.55 \"/>\n",
       "<polyline clip-path=\"url(#clip820)\" style=\"stroke:#000000; stroke-linecap:round; stroke-linejoin:round; stroke-width:4; stroke-opacity:1; fill:none\" points=\"1682.69,1486.45 1682.69,1467.55 \"/>\n",
       "<polyline clip-path=\"url(#clip820)\" style=\"stroke:#000000; stroke-linecap:round; stroke-linejoin:round; stroke-width:4; stroke-opacity:1; fill:none\" points=\"2141.78,1486.45 2141.78,1467.55 \"/>\n",
       "<path clip-path=\"url(#clip820)\" d=\"M282.819 1517.37 Q279.208 1517.37 277.379 1520.93 Q275.573 1524.47 275.573 1531.6 Q275.573 1538.71 277.379 1542.27 Q279.208 1545.82 282.819 1545.82 Q286.453 1545.82 288.259 1542.27 Q290.087 1538.71 290.087 1531.6 Q290.087 1524.47 288.259 1520.93 Q286.453 1517.37 282.819 1517.37 M282.819 1513.66 Q288.629 1513.66 291.684 1518.27 Q294.763 1522.85 294.763 1531.6 Q294.763 1540.33 291.684 1544.94 Q288.629 1549.52 282.819 1549.52 Q277.009 1549.52 273.93 1544.94 Q270.874 1540.33 270.874 1531.6 Q270.874 1522.85 273.93 1518.27 Q277.009 1513.66 282.819 1513.66 Z\" fill=\"#000000\" fill-rule=\"nonzero\" fill-opacity=\"1\" /><path clip-path=\"url(#clip820)\" d=\"M302.981 1542.97 L307.865 1542.97 L307.865 1548.85 L302.981 1548.85 L302.981 1542.97 Z\" fill=\"#000000\" fill-rule=\"nonzero\" fill-opacity=\"1\" /><path clip-path=\"url(#clip820)\" d=\"M328.05 1517.37 Q324.439 1517.37 322.61 1520.93 Q320.805 1524.47 320.805 1531.6 Q320.805 1538.71 322.61 1542.27 Q324.439 1545.82 328.05 1545.82 Q331.684 1545.82 333.49 1542.27 Q335.318 1538.71 335.318 1531.6 Q335.318 1524.47 333.49 1520.93 Q331.684 1517.37 328.05 1517.37 M328.05 1513.66 Q333.86 1513.66 336.916 1518.27 Q339.994 1522.85 339.994 1531.6 Q339.994 1540.33 336.916 1544.94 Q333.86 1549.52 328.05 1549.52 Q322.24 1549.52 319.161 1544.94 Q316.106 1540.33 316.106 1531.6 Q316.106 1522.85 319.161 1518.27 Q322.24 1513.66 328.05 1513.66 Z\" fill=\"#000000\" fill-rule=\"nonzero\" fill-opacity=\"1\" /><path clip-path=\"url(#clip820)\" d=\"M742.703 1517.37 Q739.092 1517.37 737.264 1520.93 Q735.458 1524.47 735.458 1531.6 Q735.458 1538.71 737.264 1542.27 Q739.092 1545.82 742.703 1545.82 Q746.338 1545.82 748.143 1542.27 Q749.972 1538.71 749.972 1531.6 Q749.972 1524.47 748.143 1520.93 Q746.338 1517.37 742.703 1517.37 M742.703 1513.66 Q748.513 1513.66 751.569 1518.27 Q754.648 1522.85 754.648 1531.6 Q754.648 1540.33 751.569 1544.94 Q748.513 1549.52 742.703 1549.52 Q736.893 1549.52 733.815 1544.94 Q730.759 1540.33 730.759 1531.6 Q730.759 1522.85 733.815 1518.27 Q736.893 1513.66 742.703 1513.66 Z\" fill=\"#000000\" fill-rule=\"nonzero\" fill-opacity=\"1\" /><path clip-path=\"url(#clip820)\" d=\"M762.865 1542.97 L767.75 1542.97 L767.75 1548.85 L762.865 1548.85 L762.865 1542.97 Z\" fill=\"#000000\" fill-rule=\"nonzero\" fill-opacity=\"1\" /><path clip-path=\"url(#clip820)\" d=\"M781.962 1544.91 L798.282 1544.91 L798.282 1548.85 L776.337 1548.85 L776.337 1544.91 Q778.999 1542.16 783.583 1537.53 Q788.189 1532.88 789.37 1531.53 Q791.615 1529.01 792.495 1527.27 Q793.398 1525.51 793.398 1523.82 Q793.398 1521.07 791.453 1519.33 Q789.532 1517.6 786.43 1517.6 Q784.231 1517.6 781.777 1518.36 Q779.347 1519.13 776.569 1520.68 L776.569 1515.95 Q779.393 1514.82 781.847 1514.24 Q784.3 1513.66 786.337 1513.66 Q791.708 1513.66 794.902 1516.35 Q798.097 1519.03 798.097 1523.52 Q798.097 1525.65 797.286 1527.57 Q796.499 1529.47 794.393 1532.07 Q793.814 1532.74 790.712 1535.95 Q787.611 1539.15 781.962 1544.91 Z\" fill=\"#000000\" fill-rule=\"nonzero\" fill-opacity=\"1\" /><path clip-path=\"url(#clip820)\" d=\"M1200.75 1517.37 Q1197.14 1517.37 1195.31 1520.93 Q1193.5 1524.47 1193.5 1531.6 Q1193.5 1538.71 1195.31 1542.27 Q1197.14 1545.82 1200.75 1545.82 Q1204.38 1545.82 1206.19 1542.27 Q1208.02 1538.71 1208.02 1531.6 Q1208.02 1524.47 1206.19 1520.93 Q1204.38 1517.37 1200.75 1517.37 M1200.75 1513.66 Q1206.56 1513.66 1209.61 1518.27 Q1212.69 1522.85 1212.69 1531.6 Q1212.69 1540.33 1209.61 1544.94 Q1206.56 1549.52 1200.75 1549.52 Q1194.94 1549.52 1191.86 1544.94 Q1188.8 1540.33 1188.8 1531.6 Q1188.8 1522.85 1191.86 1518.27 Q1194.94 1513.66 1200.75 1513.66 Z\" fill=\"#000000\" fill-rule=\"nonzero\" fill-opacity=\"1\" /><path clip-path=\"url(#clip820)\" d=\"M1220.91 1542.97 L1225.79 1542.97 L1225.79 1548.85 L1220.91 1548.85 L1220.91 1542.97 Z\" fill=\"#000000\" fill-rule=\"nonzero\" fill-opacity=\"1\" /><path clip-path=\"url(#clip820)\" d=\"M1248.83 1518.36 L1237.02 1536.81 L1248.83 1536.81 L1248.83 1518.36 M1247.6 1514.29 L1253.48 1514.29 L1253.48 1536.81 L1258.41 1536.81 L1258.41 1540.7 L1253.48 1540.7 L1253.48 1548.85 L1248.83 1548.85 L1248.83 1540.7 L1233.22 1540.7 L1233.22 1536.19 L1247.6 1514.29 Z\" fill=\"#000000\" fill-rule=\"nonzero\" fill-opacity=\"1\" /><path clip-path=\"url(#clip820)\" d=\"M1660 1517.37 Q1656.38 1517.37 1654.56 1520.93 Q1652.75 1524.47 1652.75 1531.6 Q1652.75 1538.71 1654.56 1542.27 Q1656.38 1545.82 1660 1545.82 Q1663.63 1545.82 1665.44 1542.27 Q1667.26 1538.71 1667.26 1531.6 Q1667.26 1524.47 1665.44 1520.93 Q1663.63 1517.37 1660 1517.37 M1660 1513.66 Q1665.81 1513.66 1668.86 1518.27 Q1671.94 1522.85 1671.94 1531.6 Q1671.94 1540.33 1668.86 1544.94 Q1665.81 1549.52 1660 1549.52 Q1654.19 1549.52 1651.11 1544.94 Q1648.05 1540.33 1648.05 1531.6 Q1648.05 1522.85 1651.11 1518.27 Q1654.19 1513.66 1660 1513.66 Z\" fill=\"#000000\" fill-rule=\"nonzero\" fill-opacity=\"1\" /><path clip-path=\"url(#clip820)\" d=\"M1680.16 1542.97 L1685.04 1542.97 L1685.04 1548.85 L1680.16 1548.85 L1680.16 1542.97 Z\" fill=\"#000000\" fill-rule=\"nonzero\" fill-opacity=\"1\" /><path clip-path=\"url(#clip820)\" d=\"M1705.81 1529.7 Q1702.66 1529.7 1700.81 1531.86 Q1698.98 1534.01 1698.98 1537.76 Q1698.98 1541.49 1700.81 1543.66 Q1702.66 1545.82 1705.81 1545.82 Q1708.95 1545.82 1710.78 1543.66 Q1712.63 1541.49 1712.63 1537.76 Q1712.63 1534.01 1710.78 1531.86 Q1708.95 1529.7 1705.81 1529.7 M1715.09 1515.05 L1715.09 1519.31 Q1713.33 1518.48 1711.52 1518.04 Q1709.74 1517.6 1707.98 1517.6 Q1703.35 1517.6 1700.9 1520.72 Q1698.47 1523.85 1698.12 1530.17 Q1699.49 1528.15 1701.55 1527.09 Q1703.61 1526 1706.08 1526 Q1711.29 1526 1714.3 1529.17 Q1717.33 1532.32 1717.33 1537.76 Q1717.33 1543.08 1714.19 1546.3 Q1711.04 1549.52 1705.81 1549.52 Q1699.81 1549.52 1696.64 1544.94 Q1693.47 1540.33 1693.47 1531.6 Q1693.47 1523.41 1697.36 1518.55 Q1701.25 1513.66 1707.8 1513.66 Q1709.56 1513.66 1711.34 1514.01 Q1713.14 1514.36 1715.09 1515.05 Z\" fill=\"#000000\" fill-rule=\"nonzero\" fill-opacity=\"1\" /><path clip-path=\"url(#clip820)\" d=\"M2119.21 1517.37 Q2115.6 1517.37 2113.77 1520.93 Q2111.96 1524.47 2111.96 1531.6 Q2111.96 1538.71 2113.77 1542.27 Q2115.6 1545.82 2119.21 1545.82 Q2122.84 1545.82 2124.65 1542.27 Q2126.48 1538.71 2126.48 1531.6 Q2126.48 1524.47 2124.65 1520.93 Q2122.84 1517.37 2119.21 1517.37 M2119.21 1513.66 Q2125.02 1513.66 2128.07 1518.27 Q2131.15 1522.85 2131.15 1531.6 Q2131.15 1540.33 2128.07 1544.94 Q2125.02 1549.52 2119.21 1549.52 Q2113.4 1549.52 2110.32 1544.94 Q2107.26 1540.33 2107.26 1531.6 Q2107.26 1522.85 2110.32 1518.27 Q2113.4 1513.66 2119.21 1513.66 Z\" fill=\"#000000\" fill-rule=\"nonzero\" fill-opacity=\"1\" /><path clip-path=\"url(#clip820)\" d=\"M2139.37 1542.97 L2144.26 1542.97 L2144.26 1548.85 L2139.37 1548.85 L2139.37 1542.97 Z\" fill=\"#000000\" fill-rule=\"nonzero\" fill-opacity=\"1\" /><path clip-path=\"url(#clip820)\" d=\"M2164.44 1532.44 Q2161.11 1532.44 2159.19 1534.22 Q2157.29 1536 2157.29 1539.13 Q2157.29 1542.25 2159.19 1544.03 Q2161.11 1545.82 2164.44 1545.82 Q2167.77 1545.82 2169.69 1544.03 Q2171.62 1542.23 2171.62 1539.13 Q2171.62 1536 2169.69 1534.22 Q2167.8 1532.44 2164.44 1532.44 M2159.76 1530.45 Q2156.76 1529.7 2155.07 1527.64 Q2153.4 1525.58 2153.4 1522.62 Q2153.4 1518.48 2156.34 1516.07 Q2159.3 1513.66 2164.44 1513.66 Q2169.6 1513.66 2172.54 1516.07 Q2175.48 1518.48 2175.48 1522.62 Q2175.48 1525.58 2173.79 1527.64 Q2172.13 1529.7 2169.14 1530.45 Q2172.52 1531.23 2174.39 1533.52 Q2176.29 1535.82 2176.29 1539.13 Q2176.29 1544.15 2173.21 1546.83 Q2170.16 1549.52 2164.44 1549.52 Q2158.72 1549.52 2155.64 1546.83 Q2152.59 1544.15 2152.59 1539.13 Q2152.59 1535.82 2154.49 1533.52 Q2156.38 1531.23 2159.76 1530.45 M2158.05 1523.06 Q2158.05 1525.75 2159.72 1527.25 Q2161.41 1528.76 2164.44 1528.76 Q2167.45 1528.76 2169.14 1527.25 Q2170.85 1525.75 2170.85 1523.06 Q2170.85 1520.38 2169.14 1518.87 Q2167.45 1517.37 2164.44 1517.37 Q2161.41 1517.37 2159.72 1518.87 Q2158.05 1520.38 2158.05 1523.06 Z\" fill=\"#000000\" fill-rule=\"nonzero\" fill-opacity=\"1\" /><polyline clip-path=\"url(#clip822)\" style=\"stroke:#000000; stroke-linecap:round; stroke-linejoin:round; stroke-width:2; stroke-opacity:0.1; fill:none\" points=\"186.274,1445.72 2352.76,1445.72 \"/>\n",
       "<polyline clip-path=\"url(#clip822)\" style=\"stroke:#000000; stroke-linecap:round; stroke-linejoin:round; stroke-width:2; stroke-opacity:0.1; fill:none\" points=\"186.274,1105.85 2352.76,1105.85 \"/>\n",
       "<polyline clip-path=\"url(#clip822)\" style=\"stroke:#000000; stroke-linecap:round; stroke-linejoin:round; stroke-width:2; stroke-opacity:0.1; fill:none\" points=\"186.274,765.991 2352.76,765.991 \"/>\n",
       "<polyline clip-path=\"url(#clip822)\" style=\"stroke:#000000; stroke-linecap:round; stroke-linejoin:round; stroke-width:2; stroke-opacity:0.1; fill:none\" points=\"186.274,426.128 2352.76,426.128 \"/>\n",
       "<polyline clip-path=\"url(#clip822)\" style=\"stroke:#000000; stroke-linecap:round; stroke-linejoin:round; stroke-width:2; stroke-opacity:0.1; fill:none\" points=\"186.274,86.2661 2352.76,86.2661 \"/>\n",
       "<polyline clip-path=\"url(#clip820)\" style=\"stroke:#000000; stroke-linecap:round; stroke-linejoin:round; stroke-width:4; stroke-opacity:1; fill:none\" points=\"186.274,1486.45 186.274,47.2441 \"/>\n",
       "<polyline clip-path=\"url(#clip820)\" style=\"stroke:#000000; stroke-linecap:round; stroke-linejoin:round; stroke-width:4; stroke-opacity:1; fill:none\" points=\"186.274,1445.72 205.172,1445.72 \"/>\n",
       "<polyline clip-path=\"url(#clip820)\" style=\"stroke:#000000; stroke-linecap:round; stroke-linejoin:round; stroke-width:4; stroke-opacity:1; fill:none\" points=\"186.274,1105.85 205.172,1105.85 \"/>\n",
       "<polyline clip-path=\"url(#clip820)\" style=\"stroke:#000000; stroke-linecap:round; stroke-linejoin:round; stroke-width:4; stroke-opacity:1; fill:none\" points=\"186.274,765.991 205.172,765.991 \"/>\n",
       "<polyline clip-path=\"url(#clip820)\" style=\"stroke:#000000; stroke-linecap:round; stroke-linejoin:round; stroke-width:4; stroke-opacity:1; fill:none\" points=\"186.274,426.128 205.172,426.128 \"/>\n",
       "<polyline clip-path=\"url(#clip820)\" style=\"stroke:#000000; stroke-linecap:round; stroke-linejoin:round; stroke-width:4; stroke-opacity:1; fill:none\" points=\"186.274,86.2661 205.172,86.2661 \"/>\n",
       "<path clip-path=\"url(#clip820)\" d=\"M62.9365 1431.51 Q59.3254 1431.51 57.4967 1435.08 Q55.6912 1438.62 55.6912 1445.75 Q55.6912 1452.86 57.4967 1456.42 Q59.3254 1459.96 62.9365 1459.96 Q66.5707 1459.96 68.3763 1456.42 Q70.205 1452.86 70.205 1445.75 Q70.205 1438.62 68.3763 1435.08 Q66.5707 1431.51 62.9365 1431.51 M62.9365 1427.81 Q68.7467 1427.81 71.8022 1432.42 Q74.8809 1437 74.8809 1445.75 Q74.8809 1454.48 71.8022 1459.08 Q68.7467 1463.67 62.9365 1463.67 Q57.1264 1463.67 54.0477 1459.08 Q50.9921 1454.48 50.9921 1445.75 Q50.9921 1437 54.0477 1432.42 Q57.1264 1427.81 62.9365 1427.81 Z\" fill=\"#000000\" fill-rule=\"nonzero\" fill-opacity=\"1\" /><path clip-path=\"url(#clip820)\" d=\"M83.0984 1457.12 L87.9827 1457.12 L87.9827 1463 L83.0984 1463 L83.0984 1457.12 Z\" fill=\"#000000\" fill-rule=\"nonzero\" fill-opacity=\"1\" /><path clip-path=\"url(#clip820)\" d=\"M108.168 1431.51 Q104.557 1431.51 102.728 1435.08 Q100.922 1438.62 100.922 1445.75 Q100.922 1452.86 102.728 1456.42 Q104.557 1459.96 108.168 1459.96 Q111.802 1459.96 113.608 1456.42 Q115.436 1452.86 115.436 1445.75 Q115.436 1438.62 113.608 1435.08 Q111.802 1431.51 108.168 1431.51 M108.168 1427.81 Q113.978 1427.81 117.033 1432.42 Q120.112 1437 120.112 1445.75 Q120.112 1454.48 117.033 1459.08 Q113.978 1463.67 108.168 1463.67 Q102.358 1463.67 99.2789 1459.08 Q96.2234 1454.48 96.2234 1445.75 Q96.2234 1437 99.2789 1432.42 Q102.358 1427.81 108.168 1427.81 Z\" fill=\"#000000\" fill-rule=\"nonzero\" fill-opacity=\"1\" /><path clip-path=\"url(#clip820)\" d=\"M138.33 1431.51 Q134.719 1431.51 132.89 1435.08 Q131.084 1438.62 131.084 1445.75 Q131.084 1452.86 132.89 1456.42 Q134.719 1459.96 138.33 1459.96 Q141.964 1459.96 143.769 1456.42 Q145.598 1452.86 145.598 1445.75 Q145.598 1438.62 143.769 1435.08 Q141.964 1431.51 138.33 1431.51 M138.33 1427.81 Q144.14 1427.81 147.195 1432.42 Q150.274 1437 150.274 1445.75 Q150.274 1454.48 147.195 1459.08 Q144.14 1463.67 138.33 1463.67 Q132.519 1463.67 129.441 1459.08 Q126.385 1454.48 126.385 1445.75 Q126.385 1437 129.441 1432.42 Q132.519 1427.81 138.33 1427.81 Z\" fill=\"#000000\" fill-rule=\"nonzero\" fill-opacity=\"1\" /><path clip-path=\"url(#clip820)\" d=\"M63.9319 1091.65 Q60.3208 1091.65 58.4921 1095.22 Q56.6865 1098.76 56.6865 1105.89 Q56.6865 1112.99 58.4921 1116.56 Q60.3208 1120.1 63.9319 1120.1 Q67.5661 1120.1 69.3717 1116.56 Q71.2004 1112.99 71.2004 1105.89 Q71.2004 1098.76 69.3717 1095.22 Q67.5661 1091.65 63.9319 1091.65 M63.9319 1087.95 Q69.742 1087.95 72.7976 1092.55 Q75.8763 1097.14 75.8763 1105.89 Q75.8763 1114.61 72.7976 1119.22 Q69.742 1123.8 63.9319 1123.8 Q58.1217 1123.8 55.043 1119.22 Q51.9875 1114.61 51.9875 1105.89 Q51.9875 1097.14 55.043 1092.55 Q58.1217 1087.95 63.9319 1087.95 Z\" fill=\"#000000\" fill-rule=\"nonzero\" fill-opacity=\"1\" /><path clip-path=\"url(#clip820)\" d=\"M84.0938 1117.25 L88.978 1117.25 L88.978 1123.13 L84.0938 1123.13 L84.0938 1117.25 Z\" fill=\"#000000\" fill-rule=\"nonzero\" fill-opacity=\"1\" /><path clip-path=\"url(#clip820)\" d=\"M103.191 1119.2 L119.51 1119.2 L119.51 1123.13 L97.566 1123.13 L97.566 1119.2 Q100.228 1116.44 104.811 1111.81 Q109.418 1107.16 110.598 1105.82 Q112.844 1103.3 113.723 1101.56 Q114.626 1099.8 114.626 1098.11 Q114.626 1095.36 112.682 1093.62 Q110.76 1091.88 107.658 1091.88 Q105.459 1091.88 103.006 1092.65 Q100.575 1093.41 97.7974 1094.96 L97.7974 1090.24 Q100.621 1089.11 103.075 1088.53 Q105.529 1087.95 107.566 1087.95 Q112.936 1087.95 116.131 1090.63 Q119.325 1093.32 119.325 1097.81 Q119.325 1099.94 118.515 1101.86 Q117.728 1103.76 115.621 1106.35 Q115.043 1107.02 111.941 1110.24 Q108.839 1113.43 103.191 1119.2 Z\" fill=\"#000000\" fill-rule=\"nonzero\" fill-opacity=\"1\" /><path clip-path=\"url(#clip820)\" d=\"M129.371 1088.57 L147.728 1088.57 L147.728 1092.51 L133.654 1092.51 L133.654 1100.98 Q134.672 1100.63 135.691 1100.47 Q136.709 1100.29 137.728 1100.29 Q143.515 1100.29 146.894 1103.46 Q150.274 1106.63 150.274 1112.05 Q150.274 1117.62 146.802 1120.73 Q143.33 1123.8 137.01 1123.8 Q134.834 1123.8 132.566 1123.43 Q130.32 1123.06 127.913 1122.32 L127.913 1117.62 Q129.996 1118.76 132.219 1119.31 Q134.441 1119.87 136.918 1119.87 Q140.922 1119.87 143.26 1117.76 Q145.598 1115.66 145.598 1112.05 Q145.598 1108.43 143.26 1106.33 Q140.922 1104.22 136.918 1104.22 Q135.043 1104.22 133.168 1104.64 Q131.316 1105.05 129.371 1105.93 L129.371 1088.57 Z\" fill=\"#000000\" fill-rule=\"nonzero\" fill-opacity=\"1\" /><path clip-path=\"url(#clip820)\" d=\"M62.9365 751.79 Q59.3254 751.79 57.4967 755.354 Q55.6912 758.896 55.6912 766.026 Q55.6912 773.132 57.4967 776.697 Q59.3254 780.238 62.9365 780.238 Q66.5707 780.238 68.3763 776.697 Q70.205 773.132 70.205 766.026 Q70.205 758.896 68.3763 755.354 Q66.5707 751.79 62.9365 751.79 M62.9365 748.086 Q68.7467 748.086 71.8022 752.692 Q74.8809 757.276 74.8809 766.026 Q74.8809 774.752 71.8022 779.359 Q68.7467 783.942 62.9365 783.942 Q57.1264 783.942 54.0477 779.359 Q50.9921 774.752 50.9921 766.026 Q50.9921 757.276 54.0477 752.692 Q57.1264 748.086 62.9365 748.086 Z\" fill=\"#000000\" fill-rule=\"nonzero\" fill-opacity=\"1\" /><path clip-path=\"url(#clip820)\" d=\"M83.0984 777.391 L87.9827 777.391 L87.9827 783.271 L83.0984 783.271 L83.0984 777.391 Z\" fill=\"#000000\" fill-rule=\"nonzero\" fill-opacity=\"1\" /><path clip-path=\"url(#clip820)\" d=\"M98.2141 748.711 L116.57 748.711 L116.57 752.646 L102.496 752.646 L102.496 761.118 Q103.515 760.771 104.534 760.609 Q105.552 760.424 106.571 760.424 Q112.358 760.424 115.737 763.595 Q119.117 766.766 119.117 772.183 Q119.117 777.762 115.645 780.863 Q112.172 783.942 105.853 783.942 Q103.677 783.942 101.409 783.572 Q99.1632 783.201 96.7558 782.461 L96.7558 777.762 Q98.8391 778.896 101.061 779.451 Q103.284 780.007 105.76 780.007 Q109.765 780.007 112.103 777.901 Q114.441 775.794 114.441 772.183 Q114.441 768.572 112.103 766.465 Q109.765 764.359 105.76 764.359 Q103.885 764.359 102.01 764.776 Q100.159 765.192 98.2141 766.072 L98.2141 748.711 Z\" fill=\"#000000\" fill-rule=\"nonzero\" fill-opacity=\"1\" /><path clip-path=\"url(#clip820)\" d=\"M138.33 751.79 Q134.719 751.79 132.89 755.354 Q131.084 758.896 131.084 766.026 Q131.084 773.132 132.89 776.697 Q134.719 780.238 138.33 780.238 Q141.964 780.238 143.769 776.697 Q145.598 773.132 145.598 766.026 Q145.598 758.896 143.769 755.354 Q141.964 751.79 138.33 751.79 M138.33 748.086 Q144.14 748.086 147.195 752.692 Q150.274 757.276 150.274 766.026 Q150.274 774.752 147.195 779.359 Q144.14 783.942 138.33 783.942 Q132.519 783.942 129.441 779.359 Q126.385 774.752 126.385 766.026 Q126.385 757.276 129.441 752.692 Q132.519 748.086 138.33 748.086 Z\" fill=\"#000000\" fill-rule=\"nonzero\" fill-opacity=\"1\" /><path clip-path=\"url(#clip820)\" d=\"M63.9319 411.927 Q60.3208 411.927 58.4921 415.492 Q56.6865 419.034 56.6865 426.163 Q56.6865 433.27 58.4921 436.834 Q60.3208 440.376 63.9319 440.376 Q67.5661 440.376 69.3717 436.834 Q71.2004 433.27 71.2004 426.163 Q71.2004 419.034 69.3717 415.492 Q67.5661 411.927 63.9319 411.927 M63.9319 408.223 Q69.742 408.223 72.7976 412.83 Q75.8763 417.413 75.8763 426.163 Q75.8763 434.89 72.7976 439.496 Q69.742 444.08 63.9319 444.08 Q58.1217 444.08 55.043 439.496 Q51.9875 434.89 51.9875 426.163 Q51.9875 417.413 55.043 412.83 Q58.1217 408.223 63.9319 408.223 Z\" fill=\"#000000\" fill-rule=\"nonzero\" fill-opacity=\"1\" /><path clip-path=\"url(#clip820)\" d=\"M84.0938 437.529 L88.978 437.529 L88.978 443.408 L84.0938 443.408 L84.0938 437.529 Z\" fill=\"#000000\" fill-rule=\"nonzero\" fill-opacity=\"1\" /><path clip-path=\"url(#clip820)\" d=\"M97.9826 408.848 L120.205 408.848 L120.205 410.839 L107.658 443.408 L102.774 443.408 L114.58 412.784 L97.9826 412.784 L97.9826 408.848 Z\" fill=\"#000000\" fill-rule=\"nonzero\" fill-opacity=\"1\" /><path clip-path=\"url(#clip820)\" d=\"M129.371 408.848 L147.728 408.848 L147.728 412.784 L133.654 412.784 L133.654 421.256 Q134.672 420.909 135.691 420.747 Q136.709 420.561 137.728 420.561 Q143.515 420.561 146.894 423.733 Q150.274 426.904 150.274 432.321 Q150.274 437.899 146.802 441.001 Q143.33 444.08 137.01 444.08 Q134.834 444.08 132.566 443.709 Q130.32 443.339 127.913 442.598 L127.913 437.899 Q129.996 439.034 132.219 439.589 Q134.441 440.145 136.918 440.145 Q140.922 440.145 143.26 438.038 Q145.598 435.932 145.598 432.321 Q145.598 428.709 143.26 426.603 Q140.922 424.497 136.918 424.497 Q135.043 424.497 133.168 424.913 Q131.316 425.33 129.371 426.21 L129.371 408.848 Z\" fill=\"#000000\" fill-rule=\"nonzero\" fill-opacity=\"1\" /><path clip-path=\"url(#clip820)\" d=\"M53.7467 99.6109 L61.3856 99.6109 L61.3856 73.2453 L53.0754 74.912 L53.0754 70.6527 L61.3393 68.9861 L66.0152 68.9861 L66.0152 99.6109 L73.654 99.6109 L73.654 103.546 L53.7467 103.546 L53.7467 99.6109 Z\" fill=\"#000000\" fill-rule=\"nonzero\" fill-opacity=\"1\" /><path clip-path=\"url(#clip820)\" d=\"M83.0984 97.6665 L87.9827 97.6665 L87.9827 103.546 L83.0984 103.546 L83.0984 97.6665 Z\" fill=\"#000000\" fill-rule=\"nonzero\" fill-opacity=\"1\" /><path clip-path=\"url(#clip820)\" d=\"M108.168 72.0648 Q104.557 72.0648 102.728 75.6296 Q100.922 79.1712 100.922 86.3008 Q100.922 93.4073 102.728 96.972 Q104.557 100.514 108.168 100.514 Q111.802 100.514 113.608 96.972 Q115.436 93.4073 115.436 86.3008 Q115.436 79.1712 113.608 75.6296 Q111.802 72.0648 108.168 72.0648 M108.168 68.3611 Q113.978 68.3611 117.033 72.9675 Q120.112 77.5509 120.112 86.3008 Q120.112 95.0276 117.033 99.6341 Q113.978 104.217 108.168 104.217 Q102.358 104.217 99.2789 99.6341 Q96.2234 95.0276 96.2234 86.3008 Q96.2234 77.5509 99.2789 72.9675 Q102.358 68.3611 108.168 68.3611 Z\" fill=\"#000000\" fill-rule=\"nonzero\" fill-opacity=\"1\" /><path clip-path=\"url(#clip820)\" d=\"M138.33 72.0648 Q134.719 72.0648 132.89 75.6296 Q131.084 79.1712 131.084 86.3008 Q131.084 93.4073 132.89 96.972 Q134.719 100.514 138.33 100.514 Q141.964 100.514 143.769 96.972 Q145.598 93.4073 145.598 86.3008 Q145.598 79.1712 143.769 75.6296 Q141.964 72.0648 138.33 72.0648 M138.33 68.3611 Q144.14 68.3611 147.195 72.9675 Q150.274 77.5509 150.274 86.3008 Q150.274 95.0276 147.195 99.6341 Q144.14 104.217 138.33 104.217 Q132.519 104.217 129.441 99.6341 Q126.385 95.0276 126.385 86.3008 Q126.385 77.5509 129.441 72.9675 Q132.519 68.3611 138.33 68.3611 Z\" fill=\"#000000\" fill-rule=\"nonzero\" fill-opacity=\"1\" /><path clip-path=\"url(#clip822)\" d=\"M305.434 87.9763 L305.434 1445.72 L328.389 1445.72 L328.389 87.9763 L305.434 87.9763 L305.434 87.9763  Z\" fill=\"#009af9\" fill-rule=\"evenodd\" fill-opacity=\"1\"/>\n",
       "<polyline clip-path=\"url(#clip822)\" style=\"stroke:#000000; stroke-linecap:round; stroke-linejoin:round; stroke-width:4; stroke-opacity:1; fill:none\" points=\"305.434,87.9763 305.434,1445.72 328.389,1445.72 328.389,87.9763 305.434,87.9763 \"/>\n",
       "<path clip-path=\"url(#clip822)\" d=\"M328.389 1444.46 L328.389 1445.72 L351.343 1445.72 L351.343 1444.46 L328.389 1444.46 L328.389 1444.46  Z\" fill=\"#009af9\" fill-rule=\"evenodd\" fill-opacity=\"1\"/>\n",
       "<polyline clip-path=\"url(#clip822)\" style=\"stroke:#000000; stroke-linecap:round; stroke-linejoin:round; stroke-width:4; stroke-opacity:1; fill:none\" points=\"328.389,1444.46 328.389,1445.72 351.343,1445.72 351.343,1444.46 328.389,1444.46 \"/>\n",
       "<path clip-path=\"url(#clip822)\" d=\"M351.343 1445.49 L351.343 1445.72 L374.297 1445.72 L374.297 1445.49 L351.343 1445.49 L351.343 1445.49  Z\" fill=\"#009af9\" fill-rule=\"evenodd\" fill-opacity=\"1\"/>\n",
       "<polyline clip-path=\"url(#clip822)\" style=\"stroke:#000000; stroke-linecap:round; stroke-linejoin:round; stroke-width:4; stroke-opacity:1; fill:none\" points=\"351.343,1445.49 351.343,1445.72 374.297,1445.72 374.297,1445.49 351.343,1445.49 \"/>\n",
       "<path clip-path=\"url(#clip822)\" d=\"M374.297 1445.63 L374.297 1445.72 L397.252 1445.72 L397.252 1445.63 L374.297 1445.63 L374.297 1445.63  Z\" fill=\"#009af9\" fill-rule=\"evenodd\" fill-opacity=\"1\"/>\n",
       "<polyline clip-path=\"url(#clip822)\" style=\"stroke:#000000; stroke-linecap:round; stroke-linejoin:round; stroke-width:4; stroke-opacity:1; fill:none\" points=\"374.297,1445.63 374.297,1445.72 397.252,1445.72 397.252,1445.63 374.297,1445.63 \"/>\n",
       "<path clip-path=\"url(#clip822)\" d=\"M397.252 1445.67 L397.252 1445.72 L420.206 1445.72 L420.206 1445.67 L397.252 1445.67 L397.252 1445.67  Z\" fill=\"#009af9\" fill-rule=\"evenodd\" fill-opacity=\"1\"/>\n",
       "<polyline clip-path=\"url(#clip822)\" style=\"stroke:#000000; stroke-linecap:round; stroke-linejoin:round; stroke-width:4; stroke-opacity:1; fill:none\" points=\"397.252,1445.67 397.252,1445.72 420.206,1445.72 420.206,1445.67 397.252,1445.67 \"/>\n",
       "<path clip-path=\"url(#clip822)\" d=\"M420.206 1445.7 L420.206 1445.72 L443.16 1445.72 L443.16 1445.7 L420.206 1445.7 L420.206 1445.7  Z\" fill=\"#009af9\" fill-rule=\"evenodd\" fill-opacity=\"1\"/>\n",
       "<polyline clip-path=\"url(#clip822)\" style=\"stroke:#000000; stroke-linecap:round; stroke-linejoin:round; stroke-width:4; stroke-opacity:1; fill:none\" points=\"420.206,1445.7 420.206,1445.72 443.16,1445.72 443.16,1445.7 420.206,1445.7 \"/>\n",
       "<path clip-path=\"url(#clip822)\" d=\"M443.16 1445.7 L443.16 1445.72 L466.114 1445.72 L466.114 1445.7 L443.16 1445.7 L443.16 1445.7  Z\" fill=\"#009af9\" fill-rule=\"evenodd\" fill-opacity=\"1\"/>\n",
       "<polyline clip-path=\"url(#clip822)\" style=\"stroke:#000000; stroke-linecap:round; stroke-linejoin:round; stroke-width:4; stroke-opacity:1; fill:none\" points=\"443.16,1445.7 443.16,1445.72 466.114,1445.72 466.114,1445.7 443.16,1445.7 \"/>\n",
       "<path clip-path=\"url(#clip822)\" d=\"M466.114 1445.7 L466.114 1445.72 L489.069 1445.72 L489.069 1445.7 L466.114 1445.7 L466.114 1445.7  Z\" fill=\"#009af9\" fill-rule=\"evenodd\" fill-opacity=\"1\"/>\n",
       "<polyline clip-path=\"url(#clip822)\" style=\"stroke:#000000; stroke-linecap:round; stroke-linejoin:round; stroke-width:4; stroke-opacity:1; fill:none\" points=\"466.114,1445.7 466.114,1445.72 489.069,1445.72 489.069,1445.7 466.114,1445.7 \"/>\n",
       "<path clip-path=\"url(#clip822)\" d=\"M489.069 1445.71 L489.069 1445.72 L512.023 1445.72 L512.023 1445.71 L489.069 1445.71 L489.069 1445.71  Z\" fill=\"#009af9\" fill-rule=\"evenodd\" fill-opacity=\"1\"/>\n",
       "<polyline clip-path=\"url(#clip822)\" style=\"stroke:#000000; stroke-linecap:round; stroke-linejoin:round; stroke-width:4; stroke-opacity:1; fill:none\" points=\"489.069,1445.71 489.069,1445.72 512.023,1445.72 512.023,1445.71 489.069,1445.71 \"/>\n",
       "<path clip-path=\"url(#clip822)\" d=\"M512.023 1445.71 L512.023 1445.72 L534.977 1445.72 L534.977 1445.71 L512.023 1445.71 L512.023 1445.71  Z\" fill=\"#009af9\" fill-rule=\"evenodd\" fill-opacity=\"1\"/>\n",
       "<polyline clip-path=\"url(#clip822)\" style=\"stroke:#000000; stroke-linecap:round; stroke-linejoin:round; stroke-width:4; stroke-opacity:1; fill:none\" points=\"512.023,1445.71 512.023,1445.72 534.977,1445.72 534.977,1445.71 512.023,1445.71 \"/>\n",
       "<path clip-path=\"url(#clip822)\" d=\"M534.977 1445.71 L534.977 1445.72 L557.932 1445.72 L557.932 1445.71 L534.977 1445.71 L534.977 1445.71  Z\" fill=\"#009af9\" fill-rule=\"evenodd\" fill-opacity=\"1\"/>\n",
       "<polyline clip-path=\"url(#clip822)\" style=\"stroke:#000000; stroke-linecap:round; stroke-linejoin:round; stroke-width:4; stroke-opacity:1; fill:none\" points=\"534.977,1445.71 534.977,1445.72 557.932,1445.72 557.932,1445.71 534.977,1445.71 \"/>\n",
       "<path clip-path=\"url(#clip822)\" d=\"M557.932 1445.71 L557.932 1445.72 L580.886 1445.72 L580.886 1445.71 L557.932 1445.71 L557.932 1445.71  Z\" fill=\"#009af9\" fill-rule=\"evenodd\" fill-opacity=\"1\"/>\n",
       "<polyline clip-path=\"url(#clip822)\" style=\"stroke:#000000; stroke-linecap:round; stroke-linejoin:round; stroke-width:4; stroke-opacity:1; fill:none\" points=\"557.932,1445.71 557.932,1445.72 580.886,1445.72 580.886,1445.71 557.932,1445.71 \"/>\n",
       "<path clip-path=\"url(#clip822)\" d=\"M580.886 1445.71 L580.886 1445.72 L603.84 1445.72 L603.84 1445.71 L580.886 1445.71 L580.886 1445.71  Z\" fill=\"#009af9\" fill-rule=\"evenodd\" fill-opacity=\"1\"/>\n",
       "<polyline clip-path=\"url(#clip822)\" style=\"stroke:#000000; stroke-linecap:round; stroke-linejoin:round; stroke-width:4; stroke-opacity:1; fill:none\" points=\"580.886,1445.71 580.886,1445.72 603.84,1445.72 603.84,1445.71 580.886,1445.71 \"/>\n",
       "<path clip-path=\"url(#clip822)\" d=\"M603.84 1445.71 L603.84 1445.72 L626.795 1445.72 L626.795 1445.71 L603.84 1445.71 L603.84 1445.71  Z\" fill=\"#009af9\" fill-rule=\"evenodd\" fill-opacity=\"1\"/>\n",
       "<polyline clip-path=\"url(#clip822)\" style=\"stroke:#000000; stroke-linecap:round; stroke-linejoin:round; stroke-width:4; stroke-opacity:1; fill:none\" points=\"603.84,1445.71 603.84,1445.72 626.795,1445.72 626.795,1445.71 603.84,1445.71 \"/>\n",
       "<path clip-path=\"url(#clip822)\" d=\"M626.795 1445.71 L626.795 1445.72 L649.749 1445.72 L649.749 1445.71 L626.795 1445.71 L626.795 1445.71  Z\" fill=\"#009af9\" fill-rule=\"evenodd\" fill-opacity=\"1\"/>\n",
       "<polyline clip-path=\"url(#clip822)\" style=\"stroke:#000000; stroke-linecap:round; stroke-linejoin:round; stroke-width:4; stroke-opacity:1; fill:none\" points=\"626.795,1445.71 626.795,1445.72 649.749,1445.72 649.749,1445.71 626.795,1445.71 \"/>\n",
       "<path clip-path=\"url(#clip822)\" d=\"M649.749 1445.71 L649.749 1445.72 L672.703 1445.72 L672.703 1445.71 L649.749 1445.71 L649.749 1445.71  Z\" fill=\"#009af9\" fill-rule=\"evenodd\" fill-opacity=\"1\"/>\n",
       "<polyline clip-path=\"url(#clip822)\" style=\"stroke:#000000; stroke-linecap:round; stroke-linejoin:round; stroke-width:4; stroke-opacity:1; fill:none\" points=\"649.749,1445.71 649.749,1445.72 672.703,1445.72 672.703,1445.71 649.749,1445.71 \"/>\n",
       "<path clip-path=\"url(#clip822)\" d=\"M672.703 1445.71 L672.703 1445.72 L695.657 1445.72 L695.657 1445.71 L672.703 1445.71 L672.703 1445.71  Z\" fill=\"#009af9\" fill-rule=\"evenodd\" fill-opacity=\"1\"/>\n",
       "<polyline clip-path=\"url(#clip822)\" style=\"stroke:#000000; stroke-linecap:round; stroke-linejoin:round; stroke-width:4; stroke-opacity:1; fill:none\" points=\"672.703,1445.71 672.703,1445.72 695.657,1445.72 695.657,1445.71 672.703,1445.71 \"/>\n",
       "<path clip-path=\"url(#clip822)\" d=\"M695.657 1445.72 L695.657 1445.72 L718.612 1445.72 L718.612 1445.72 L695.657 1445.72 L695.657 1445.72  Z\" fill=\"#009af9\" fill-rule=\"evenodd\" fill-opacity=\"1\"/>\n",
       "<polyline clip-path=\"url(#clip822)\" style=\"stroke:#000000; stroke-linecap:round; stroke-linejoin:round; stroke-width:4; stroke-opacity:1; fill:none\" points=\"695.657,1445.72 695.657,1445.72 718.612,1445.72 695.657,1445.72 \"/>\n",
       "<path clip-path=\"url(#clip822)\" d=\"M718.612 1445.71 L718.612 1445.72 L741.566 1445.72 L741.566 1445.71 L718.612 1445.71 L718.612 1445.71  Z\" fill=\"#009af9\" fill-rule=\"evenodd\" fill-opacity=\"1\"/>\n",
       "<polyline clip-path=\"url(#clip822)\" style=\"stroke:#000000; stroke-linecap:round; stroke-linejoin:round; stroke-width:4; stroke-opacity:1; fill:none\" points=\"718.612,1445.71 718.612,1445.72 741.566,1445.72 741.566,1445.71 718.612,1445.71 \"/>\n",
       "<path clip-path=\"url(#clip822)\" d=\"M741.566 1445.71 L741.566 1445.72 L764.52 1445.72 L764.52 1445.71 L741.566 1445.71 L741.566 1445.71  Z\" fill=\"#009af9\" fill-rule=\"evenodd\" fill-opacity=\"1\"/>\n",
       "<polyline clip-path=\"url(#clip822)\" style=\"stroke:#000000; stroke-linecap:round; stroke-linejoin:round; stroke-width:4; stroke-opacity:1; fill:none\" points=\"741.566,1445.71 741.566,1445.72 764.52,1445.72 764.52,1445.71 741.566,1445.71 \"/>\n",
       "<path clip-path=\"url(#clip822)\" d=\"M764.52 1445.71 L764.52 1445.72 L787.475 1445.72 L787.475 1445.71 L764.52 1445.71 L764.52 1445.71  Z\" fill=\"#009af9\" fill-rule=\"evenodd\" fill-opacity=\"1\"/>\n",
       "<polyline clip-path=\"url(#clip822)\" style=\"stroke:#000000; stroke-linecap:round; stroke-linejoin:round; stroke-width:4; stroke-opacity:1; fill:none\" points=\"764.52,1445.71 764.52,1445.72 787.475,1445.72 787.475,1445.71 764.52,1445.71 \"/>\n",
       "<path clip-path=\"url(#clip822)\" d=\"M787.475 1445.71 L787.475 1445.72 L810.429 1445.72 L810.429 1445.71 L787.475 1445.71 L787.475 1445.71  Z\" fill=\"#009af9\" fill-rule=\"evenodd\" fill-opacity=\"1\"/>\n",
       "<polyline clip-path=\"url(#clip822)\" style=\"stroke:#000000; stroke-linecap:round; stroke-linejoin:round; stroke-width:4; stroke-opacity:1; fill:none\" points=\"787.475,1445.71 787.475,1445.72 810.429,1445.72 810.429,1445.71 787.475,1445.71 \"/>\n",
       "<path clip-path=\"url(#clip822)\" d=\"M810.429 1445.72 L810.429 1445.72 L833.383 1445.72 L833.383 1445.72 L810.429 1445.72 L810.429 1445.72  Z\" fill=\"#009af9\" fill-rule=\"evenodd\" fill-opacity=\"1\"/>\n",
       "<polyline clip-path=\"url(#clip822)\" style=\"stroke:#000000; stroke-linecap:round; stroke-linejoin:round; stroke-width:4; stroke-opacity:1; fill:none\" points=\"810.429,1445.72 810.429,1445.72 833.383,1445.72 810.429,1445.72 \"/>\n",
       "<path clip-path=\"url(#clip822)\" d=\"M833.383 1445.72 L833.383 1445.72 L856.338 1445.72 L856.338 1445.72 L833.383 1445.72 L833.383 1445.72  Z\" fill=\"#009af9\" fill-rule=\"evenodd\" fill-opacity=\"1\"/>\n",
       "<polyline clip-path=\"url(#clip822)\" style=\"stroke:#000000; stroke-linecap:round; stroke-linejoin:round; stroke-width:4; stroke-opacity:1; fill:none\" points=\"833.383,1445.72 833.383,1445.72 856.338,1445.72 833.383,1445.72 \"/>\n",
       "<path clip-path=\"url(#clip822)\" d=\"M856.338 1445.71 L856.338 1445.72 L879.292 1445.72 L879.292 1445.71 L856.338 1445.71 L856.338 1445.71  Z\" fill=\"#009af9\" fill-rule=\"evenodd\" fill-opacity=\"1\"/>\n",
       "<polyline clip-path=\"url(#clip822)\" style=\"stroke:#000000; stroke-linecap:round; stroke-linejoin:round; stroke-width:4; stroke-opacity:1; fill:none\" points=\"856.338,1445.71 856.338,1445.72 879.292,1445.72 879.292,1445.71 856.338,1445.71 \"/>\n",
       "<path clip-path=\"url(#clip822)\" d=\"M879.292 1445.72 L879.292 1445.72 L902.246 1445.72 L902.246 1445.72 L879.292 1445.72 L879.292 1445.72  Z\" fill=\"#009af9\" fill-rule=\"evenodd\" fill-opacity=\"1\"/>\n",
       "<polyline clip-path=\"url(#clip822)\" style=\"stroke:#000000; stroke-linecap:round; stroke-linejoin:round; stroke-width:4; stroke-opacity:1; fill:none\" points=\"879.292,1445.72 879.292,1445.72 902.246,1445.72 879.292,1445.72 \"/>\n",
       "<path clip-path=\"url(#clip822)\" d=\"M902.246 1445.71 L902.246 1445.72 L925.2 1445.72 L925.2 1445.71 L902.246 1445.71 L902.246 1445.71  Z\" fill=\"#009af9\" fill-rule=\"evenodd\" fill-opacity=\"1\"/>\n",
       "<polyline clip-path=\"url(#clip822)\" style=\"stroke:#000000; stroke-linecap:round; stroke-linejoin:round; stroke-width:4; stroke-opacity:1; fill:none\" points=\"902.246,1445.71 902.246,1445.72 925.2,1445.72 925.2,1445.71 902.246,1445.71 \"/>\n",
       "<path clip-path=\"url(#clip822)\" d=\"M925.2 1445.72 L925.2 1445.72 L948.155 1445.72 L948.155 1445.72 L925.2 1445.72 L925.2 1445.72  Z\" fill=\"#009af9\" fill-rule=\"evenodd\" fill-opacity=\"1\"/>\n",
       "<polyline clip-path=\"url(#clip822)\" style=\"stroke:#000000; stroke-linecap:round; stroke-linejoin:round; stroke-width:4; stroke-opacity:1; fill:none\" points=\"925.2,1445.72 925.2,1445.72 948.155,1445.72 925.2,1445.72 \"/>\n",
       "<path clip-path=\"url(#clip822)\" d=\"M948.155 1445.71 L948.155 1445.72 L971.109 1445.72 L971.109 1445.71 L948.155 1445.71 L948.155 1445.71  Z\" fill=\"#009af9\" fill-rule=\"evenodd\" fill-opacity=\"1\"/>\n",
       "<polyline clip-path=\"url(#clip822)\" style=\"stroke:#000000; stroke-linecap:round; stroke-linejoin:round; stroke-width:4; stroke-opacity:1; fill:none\" points=\"948.155,1445.71 948.155,1445.72 971.109,1445.72 971.109,1445.71 948.155,1445.71 \"/>\n",
       "<path clip-path=\"url(#clip822)\" d=\"M971.109 1445.72 L971.109 1445.72 L994.063 1445.72 L994.063 1445.72 L971.109 1445.72 L971.109 1445.72  Z\" fill=\"#009af9\" fill-rule=\"evenodd\" fill-opacity=\"1\"/>\n",
       "<polyline clip-path=\"url(#clip822)\" style=\"stroke:#000000; stroke-linecap:round; stroke-linejoin:round; stroke-width:4; stroke-opacity:1; fill:none\" points=\"971.109,1445.72 971.109,1445.72 994.063,1445.72 971.109,1445.72 \"/>\n",
       "<path clip-path=\"url(#clip822)\" d=\"M994.063 1445.72 L994.063 1445.72 L1017.02 1445.72 L1017.02 1445.72 L994.063 1445.72 L994.063 1445.72  Z\" fill=\"#009af9\" fill-rule=\"evenodd\" fill-opacity=\"1\"/>\n",
       "<polyline clip-path=\"url(#clip822)\" style=\"stroke:#000000; stroke-linecap:round; stroke-linejoin:round; stroke-width:4; stroke-opacity:1; fill:none\" points=\"994.063,1445.72 994.063,1445.72 1017.02,1445.72 994.063,1445.72 \"/>\n",
       "<path clip-path=\"url(#clip822)\" d=\"M1017.02 1445.72 L1017.02 1445.72 L1039.97 1445.72 L1039.97 1445.72 L1017.02 1445.72 L1017.02 1445.72  Z\" fill=\"#009af9\" fill-rule=\"evenodd\" fill-opacity=\"1\"/>\n",
       "<polyline clip-path=\"url(#clip822)\" style=\"stroke:#000000; stroke-linecap:round; stroke-linejoin:round; stroke-width:4; stroke-opacity:1; fill:none\" points=\"1017.02,1445.72 1017.02,1445.72 1039.97,1445.72 1017.02,1445.72 \"/>\n",
       "<path clip-path=\"url(#clip822)\" d=\"M1039.97 1445.72 L1039.97 1445.72 L1062.93 1445.72 L1062.93 1445.72 L1039.97 1445.72 L1039.97 1445.72  Z\" fill=\"#009af9\" fill-rule=\"evenodd\" fill-opacity=\"1\"/>\n",
       "<polyline clip-path=\"url(#clip822)\" style=\"stroke:#000000; stroke-linecap:round; stroke-linejoin:round; stroke-width:4; stroke-opacity:1; fill:none\" points=\"1039.97,1445.72 1039.97,1445.72 1062.93,1445.72 1039.97,1445.72 \"/>\n",
       "<path clip-path=\"url(#clip822)\" d=\"M1062.93 1445.72 L1062.93 1445.72 L1085.88 1445.72 L1085.88 1445.72 L1062.93 1445.72 L1062.93 1445.72  Z\" fill=\"#009af9\" fill-rule=\"evenodd\" fill-opacity=\"1\"/>\n",
       "<polyline clip-path=\"url(#clip822)\" style=\"stroke:#000000; stroke-linecap:round; stroke-linejoin:round; stroke-width:4; stroke-opacity:1; fill:none\" points=\"1062.93,1445.72 1062.93,1445.72 1085.88,1445.72 1062.93,1445.72 \"/>\n",
       "<path clip-path=\"url(#clip822)\" d=\"M1085.88 1445.72 L1085.88 1445.72 L1108.83 1445.72 L1108.83 1445.72 L1085.88 1445.72 L1085.88 1445.72  Z\" fill=\"#009af9\" fill-rule=\"evenodd\" fill-opacity=\"1\"/>\n",
       "<polyline clip-path=\"url(#clip822)\" style=\"stroke:#000000; stroke-linecap:round; stroke-linejoin:round; stroke-width:4; stroke-opacity:1; fill:none\" points=\"1085.88,1445.72 1085.88,1445.72 1108.83,1445.72 1085.88,1445.72 \"/>\n",
       "<path clip-path=\"url(#clip822)\" d=\"M1108.83 1445.72 L1108.83 1445.72 L1131.79 1445.72 L1131.79 1445.72 L1108.83 1445.72 L1108.83 1445.72  Z\" fill=\"#009af9\" fill-rule=\"evenodd\" fill-opacity=\"1\"/>\n",
       "<polyline clip-path=\"url(#clip822)\" style=\"stroke:#000000; stroke-linecap:round; stroke-linejoin:round; stroke-width:4; stroke-opacity:1; fill:none\" points=\"1108.83,1445.72 1108.83,1445.72 1131.79,1445.72 1108.83,1445.72 \"/>\n",
       "<path clip-path=\"url(#clip822)\" d=\"M1131.79 1445.72 L1131.79 1445.72 L1154.74 1445.72 L1154.74 1445.72 L1131.79 1445.72 L1131.79 1445.72  Z\" fill=\"#009af9\" fill-rule=\"evenodd\" fill-opacity=\"1\"/>\n",
       "<polyline clip-path=\"url(#clip822)\" style=\"stroke:#000000; stroke-linecap:round; stroke-linejoin:round; stroke-width:4; stroke-opacity:1; fill:none\" points=\"1131.79,1445.72 1131.79,1445.72 1154.74,1445.72 1131.79,1445.72 \"/>\n",
       "<path clip-path=\"url(#clip822)\" d=\"M1154.74 1445.72 L1154.74 1445.72 L1177.7 1445.72 L1177.7 1445.72 L1154.74 1445.72 L1154.74 1445.72  Z\" fill=\"#009af9\" fill-rule=\"evenodd\" fill-opacity=\"1\"/>\n",
       "<polyline clip-path=\"url(#clip822)\" style=\"stroke:#000000; stroke-linecap:round; stroke-linejoin:round; stroke-width:4; stroke-opacity:1; fill:none\" points=\"1154.74,1445.72 1154.74,1445.72 1177.7,1445.72 1154.74,1445.72 \"/>\n",
       "<path clip-path=\"url(#clip822)\" d=\"M1177.7 1445.72 L1177.7 1445.72 L1200.65 1445.72 L1200.65 1445.72 L1177.7 1445.72 L1177.7 1445.72  Z\" fill=\"#009af9\" fill-rule=\"evenodd\" fill-opacity=\"1\"/>\n",
       "<polyline clip-path=\"url(#clip822)\" style=\"stroke:#000000; stroke-linecap:round; stroke-linejoin:round; stroke-width:4; stroke-opacity:1; fill:none\" points=\"1177.7,1445.72 1177.7,1445.72 1200.65,1445.72 1177.7,1445.72 \"/>\n",
       "<path clip-path=\"url(#clip822)\" d=\"M1200.65 1445.72 L1200.65 1445.72 L1223.61 1445.72 L1223.61 1445.72 L1200.65 1445.72 L1200.65 1445.72  Z\" fill=\"#009af9\" fill-rule=\"evenodd\" fill-opacity=\"1\"/>\n",
       "<polyline clip-path=\"url(#clip822)\" style=\"stroke:#000000; stroke-linecap:round; stroke-linejoin:round; stroke-width:4; stroke-opacity:1; fill:none\" points=\"1200.65,1445.72 1200.65,1445.72 1223.61,1445.72 1200.65,1445.72 \"/>\n",
       "<path clip-path=\"url(#clip822)\" d=\"M1223.61 1445.72 L1223.61 1445.72 L1246.56 1445.72 L1246.56 1445.72 L1223.61 1445.72 L1223.61 1445.72  Z\" fill=\"#009af9\" fill-rule=\"evenodd\" fill-opacity=\"1\"/>\n",
       "<polyline clip-path=\"url(#clip822)\" style=\"stroke:#000000; stroke-linecap:round; stroke-linejoin:round; stroke-width:4; stroke-opacity:1; fill:none\" points=\"1223.61,1445.72 1223.61,1445.72 1246.56,1445.72 1223.61,1445.72 \"/>\n",
       "<path clip-path=\"url(#clip822)\" d=\"M1246.56 1445.72 L1246.56 1445.72 L1269.51 1445.72 L1269.51 1445.72 L1246.56 1445.72 L1246.56 1445.72  Z\" fill=\"#009af9\" fill-rule=\"evenodd\" fill-opacity=\"1\"/>\n",
       "<polyline clip-path=\"url(#clip822)\" style=\"stroke:#000000; stroke-linecap:round; stroke-linejoin:round; stroke-width:4; stroke-opacity:1; fill:none\" points=\"1246.56,1445.72 1246.56,1445.72 1269.51,1445.72 1246.56,1445.72 \"/>\n",
       "<path clip-path=\"url(#clip822)\" d=\"M1269.51 1445.72 L1269.51 1445.72 L1292.47 1445.72 L1292.47 1445.72 L1269.51 1445.72 L1269.51 1445.72  Z\" fill=\"#009af9\" fill-rule=\"evenodd\" fill-opacity=\"1\"/>\n",
       "<polyline clip-path=\"url(#clip822)\" style=\"stroke:#000000; stroke-linecap:round; stroke-linejoin:round; stroke-width:4; stroke-opacity:1; fill:none\" points=\"1269.51,1445.72 1269.51,1445.72 1292.47,1445.72 1269.51,1445.72 \"/>\n",
       "<path clip-path=\"url(#clip822)\" d=\"M1292.47 1445.72 L1292.47 1445.72 L1315.42 1445.72 L1315.42 1445.72 L1292.47 1445.72 L1292.47 1445.72  Z\" fill=\"#009af9\" fill-rule=\"evenodd\" fill-opacity=\"1\"/>\n",
       "<polyline clip-path=\"url(#clip822)\" style=\"stroke:#000000; stroke-linecap:round; stroke-linejoin:round; stroke-width:4; stroke-opacity:1; fill:none\" points=\"1292.47,1445.72 1292.47,1445.72 1315.42,1445.72 1292.47,1445.72 \"/>\n",
       "<path clip-path=\"url(#clip822)\" d=\"M1315.42 1445.72 L1315.42 1445.72 L1338.38 1445.72 L1338.38 1445.72 L1315.42 1445.72 L1315.42 1445.72  Z\" fill=\"#009af9\" fill-rule=\"evenodd\" fill-opacity=\"1\"/>\n",
       "<polyline clip-path=\"url(#clip822)\" style=\"stroke:#000000; stroke-linecap:round; stroke-linejoin:round; stroke-width:4; stroke-opacity:1; fill:none\" points=\"1315.42,1445.72 1315.42,1445.72 1338.38,1445.72 1315.42,1445.72 \"/>\n",
       "<path clip-path=\"url(#clip822)\" d=\"M1338.38 1445.72 L1338.38 1445.72 L1361.33 1445.72 L1361.33 1445.72 L1338.38 1445.72 L1338.38 1445.72  Z\" fill=\"#009af9\" fill-rule=\"evenodd\" fill-opacity=\"1\"/>\n",
       "<polyline clip-path=\"url(#clip822)\" style=\"stroke:#000000; stroke-linecap:round; stroke-linejoin:round; stroke-width:4; stroke-opacity:1; fill:none\" points=\"1338.38,1445.72 1338.38,1445.72 1361.33,1445.72 1338.38,1445.72 \"/>\n",
       "<path clip-path=\"url(#clip822)\" d=\"M1361.33 1445.72 L1361.33 1445.72 L1384.29 1445.72 L1384.29 1445.72 L1361.33 1445.72 L1361.33 1445.72  Z\" fill=\"#009af9\" fill-rule=\"evenodd\" fill-opacity=\"1\"/>\n",
       "<polyline clip-path=\"url(#clip822)\" style=\"stroke:#000000; stroke-linecap:round; stroke-linejoin:round; stroke-width:4; stroke-opacity:1; fill:none\" points=\"1361.33,1445.72 1361.33,1445.72 1384.29,1445.72 1361.33,1445.72 \"/>\n",
       "<path clip-path=\"url(#clip822)\" d=\"M1384.29 1445.71 L1384.29 1445.72 L1407.24 1445.72 L1407.24 1445.71 L1384.29 1445.71 L1384.29 1445.71  Z\" fill=\"#009af9\" fill-rule=\"evenodd\" fill-opacity=\"1\"/>\n",
       "<polyline clip-path=\"url(#clip822)\" style=\"stroke:#000000; stroke-linecap:round; stroke-linejoin:round; stroke-width:4; stroke-opacity:1; fill:none\" points=\"1384.29,1445.71 1384.29,1445.72 1407.24,1445.72 1407.24,1445.71 1384.29,1445.71 \"/>\n",
       "<path clip-path=\"url(#clip822)\" d=\"M1407.24 1445.72 L1407.24 1445.72 L1430.2 1445.72 L1430.2 1445.72 L1407.24 1445.72 L1407.24 1445.72  Z\" fill=\"#009af9\" fill-rule=\"evenodd\" fill-opacity=\"1\"/>\n",
       "<polyline clip-path=\"url(#clip822)\" style=\"stroke:#000000; stroke-linecap:round; stroke-linejoin:round; stroke-width:4; stroke-opacity:1; fill:none\" points=\"1407.24,1445.72 1407.24,1445.72 1430.2,1445.72 1407.24,1445.72 \"/>\n",
       "<path clip-path=\"url(#clip822)\" d=\"M1430.2 1445.72 L1430.2 1445.72 L1453.15 1445.72 L1453.15 1445.72 L1430.2 1445.72 L1430.2 1445.72  Z\" fill=\"#009af9\" fill-rule=\"evenodd\" fill-opacity=\"1\"/>\n",
       "<polyline clip-path=\"url(#clip822)\" style=\"stroke:#000000; stroke-linecap:round; stroke-linejoin:round; stroke-width:4; stroke-opacity:1; fill:none\" points=\"1430.2,1445.72 1430.2,1445.72 1453.15,1445.72 1430.2,1445.72 \"/>\n",
       "<path clip-path=\"url(#clip822)\" d=\"M1453.15 1445.72 L1453.15 1445.72 L1476.1 1445.72 L1476.1 1445.72 L1453.15 1445.72 L1453.15 1445.72  Z\" fill=\"#009af9\" fill-rule=\"evenodd\" fill-opacity=\"1\"/>\n",
       "<polyline clip-path=\"url(#clip822)\" style=\"stroke:#000000; stroke-linecap:round; stroke-linejoin:round; stroke-width:4; stroke-opacity:1; fill:none\" points=\"1453.15,1445.72 1453.15,1445.72 1476.1,1445.72 1453.15,1445.72 \"/>\n",
       "<path clip-path=\"url(#clip822)\" d=\"M1476.1 1445.71 L1476.1 1445.72 L1499.06 1445.72 L1499.06 1445.71 L1476.1 1445.71 L1476.1 1445.71  Z\" fill=\"#009af9\" fill-rule=\"evenodd\" fill-opacity=\"1\"/>\n",
       "<polyline clip-path=\"url(#clip822)\" style=\"stroke:#000000; stroke-linecap:round; stroke-linejoin:round; stroke-width:4; stroke-opacity:1; fill:none\" points=\"1476.1,1445.71 1476.1,1445.72 1499.06,1445.72 1499.06,1445.71 1476.1,1445.71 \"/>\n",
       "<path clip-path=\"url(#clip822)\" d=\"M1499.06 1445.72 L1499.06 1445.72 L1522.01 1445.72 L1522.01 1445.72 L1499.06 1445.72 L1499.06 1445.72  Z\" fill=\"#009af9\" fill-rule=\"evenodd\" fill-opacity=\"1\"/>\n",
       "<polyline clip-path=\"url(#clip822)\" style=\"stroke:#000000; stroke-linecap:round; stroke-linejoin:round; stroke-width:4; stroke-opacity:1; fill:none\" points=\"1499.06,1445.72 1499.06,1445.72 1522.01,1445.72 1499.06,1445.72 \"/>\n",
       "<path clip-path=\"url(#clip822)\" d=\"M1522.01 1445.72 L1522.01 1445.72 L1544.97 1445.72 L1544.97 1445.72 L1522.01 1445.72 L1522.01 1445.72  Z\" fill=\"#009af9\" fill-rule=\"evenodd\" fill-opacity=\"1\"/>\n",
       "<polyline clip-path=\"url(#clip822)\" style=\"stroke:#000000; stroke-linecap:round; stroke-linejoin:round; stroke-width:4; stroke-opacity:1; fill:none\" points=\"1522.01,1445.72 1522.01,1445.72 1544.97,1445.72 1522.01,1445.72 \"/>\n",
       "<path clip-path=\"url(#clip822)\" d=\"M1544.97 1445.72 L1544.97 1445.72 L1567.92 1445.72 L1567.92 1445.72 L1544.97 1445.72 L1544.97 1445.72  Z\" fill=\"#009af9\" fill-rule=\"evenodd\" fill-opacity=\"1\"/>\n",
       "<polyline clip-path=\"url(#clip822)\" style=\"stroke:#000000; stroke-linecap:round; stroke-linejoin:round; stroke-width:4; stroke-opacity:1; fill:none\" points=\"1544.97,1445.72 1544.97,1445.72 1567.92,1445.72 1544.97,1445.72 \"/>\n",
       "<path clip-path=\"url(#clip822)\" d=\"M1567.92 1445.72 L1567.92 1445.72 L1590.88 1445.72 L1590.88 1445.72 L1567.92 1445.72 L1567.92 1445.72  Z\" fill=\"#009af9\" fill-rule=\"evenodd\" fill-opacity=\"1\"/>\n",
       "<polyline clip-path=\"url(#clip822)\" style=\"stroke:#000000; stroke-linecap:round; stroke-linejoin:round; stroke-width:4; stroke-opacity:1; fill:none\" points=\"1567.92,1445.72 1567.92,1445.72 1590.88,1445.72 1567.92,1445.72 \"/>\n",
       "<path clip-path=\"url(#clip822)\" d=\"M1590.88 1445.72 L1590.88 1445.72 L1613.83 1445.72 L1613.83 1445.72 L1590.88 1445.72 L1590.88 1445.72  Z\" fill=\"#009af9\" fill-rule=\"evenodd\" fill-opacity=\"1\"/>\n",
       "<polyline clip-path=\"url(#clip822)\" style=\"stroke:#000000; stroke-linecap:round; stroke-linejoin:round; stroke-width:4; stroke-opacity:1; fill:none\" points=\"1590.88,1445.72 1590.88,1445.72 1613.83,1445.72 1590.88,1445.72 \"/>\n",
       "<path clip-path=\"url(#clip822)\" d=\"M1613.83 1445.72 L1613.83 1445.72 L1636.78 1445.72 L1636.78 1445.72 L1613.83 1445.72 L1613.83 1445.72  Z\" fill=\"#009af9\" fill-rule=\"evenodd\" fill-opacity=\"1\"/>\n",
       "<polyline clip-path=\"url(#clip822)\" style=\"stroke:#000000; stroke-linecap:round; stroke-linejoin:round; stroke-width:4; stroke-opacity:1; fill:none\" points=\"1613.83,1445.72 1613.83,1445.72 1636.78,1445.72 1613.83,1445.72 \"/>\n",
       "<path clip-path=\"url(#clip822)\" d=\"M1636.78 1445.72 L1636.78 1445.72 L1659.74 1445.72 L1659.74 1445.72 L1636.78 1445.72 L1636.78 1445.72  Z\" fill=\"#009af9\" fill-rule=\"evenodd\" fill-opacity=\"1\"/>\n",
       "<polyline clip-path=\"url(#clip822)\" style=\"stroke:#000000; stroke-linecap:round; stroke-linejoin:round; stroke-width:4; stroke-opacity:1; fill:none\" points=\"1636.78,1445.72 1636.78,1445.72 1659.74,1445.72 1636.78,1445.72 \"/>\n",
       "<path clip-path=\"url(#clip822)\" d=\"M1659.74 1445.72 L1659.74 1445.72 L1682.69 1445.72 L1682.69 1445.72 L1659.74 1445.72 L1659.74 1445.72  Z\" fill=\"#009af9\" fill-rule=\"evenodd\" fill-opacity=\"1\"/>\n",
       "<polyline clip-path=\"url(#clip822)\" style=\"stroke:#000000; stroke-linecap:round; stroke-linejoin:round; stroke-width:4; stroke-opacity:1; fill:none\" points=\"1659.74,1445.72 1659.74,1445.72 1682.69,1445.72 1659.74,1445.72 \"/>\n",
       "<path clip-path=\"url(#clip822)\" d=\"M1682.69 1445.72 L1682.69 1445.72 L1705.65 1445.72 L1705.65 1445.72 L1682.69 1445.72 L1682.69 1445.72  Z\" fill=\"#009af9\" fill-rule=\"evenodd\" fill-opacity=\"1\"/>\n",
       "<polyline clip-path=\"url(#clip822)\" style=\"stroke:#000000; stroke-linecap:round; stroke-linejoin:round; stroke-width:4; stroke-opacity:1; fill:none\" points=\"1682.69,1445.72 1682.69,1445.72 1705.65,1445.72 1682.69,1445.72 \"/>\n",
       "<path clip-path=\"url(#clip822)\" d=\"M1705.65 1445.72 L1705.65 1445.72 L1728.6 1445.72 L1728.6 1445.72 L1705.65 1445.72 L1705.65 1445.72  Z\" fill=\"#009af9\" fill-rule=\"evenodd\" fill-opacity=\"1\"/>\n",
       "<polyline clip-path=\"url(#clip822)\" style=\"stroke:#000000; stroke-linecap:round; stroke-linejoin:round; stroke-width:4; stroke-opacity:1; fill:none\" points=\"1705.65,1445.72 1705.65,1445.72 1728.6,1445.72 1705.65,1445.72 \"/>\n",
       "<path clip-path=\"url(#clip822)\" d=\"M1728.6 1445.72 L1728.6 1445.72 L1751.56 1445.72 L1751.56 1445.72 L1728.6 1445.72 L1728.6 1445.72  Z\" fill=\"#009af9\" fill-rule=\"evenodd\" fill-opacity=\"1\"/>\n",
       "<polyline clip-path=\"url(#clip822)\" style=\"stroke:#000000; stroke-linecap:round; stroke-linejoin:round; stroke-width:4; stroke-opacity:1; fill:none\" points=\"1728.6,1445.72 1728.6,1445.72 1751.56,1445.72 1728.6,1445.72 \"/>\n",
       "<path clip-path=\"url(#clip822)\" d=\"M1751.56 1445.72 L1751.56 1445.72 L1774.51 1445.72 L1774.51 1445.72 L1751.56 1445.72 L1751.56 1445.72  Z\" fill=\"#009af9\" fill-rule=\"evenodd\" fill-opacity=\"1\"/>\n",
       "<polyline clip-path=\"url(#clip822)\" style=\"stroke:#000000; stroke-linecap:round; stroke-linejoin:round; stroke-width:4; stroke-opacity:1; fill:none\" points=\"1751.56,1445.72 1751.56,1445.72 1774.51,1445.72 1751.56,1445.72 \"/>\n",
       "<path clip-path=\"url(#clip822)\" d=\"M1774.51 1445.72 L1774.51 1445.72 L1797.46 1445.72 L1797.46 1445.72 L1774.51 1445.72 L1774.51 1445.72  Z\" fill=\"#009af9\" fill-rule=\"evenodd\" fill-opacity=\"1\"/>\n",
       "<polyline clip-path=\"url(#clip822)\" style=\"stroke:#000000; stroke-linecap:round; stroke-linejoin:round; stroke-width:4; stroke-opacity:1; fill:none\" points=\"1774.51,1445.72 1774.51,1445.72 1797.46,1445.72 1774.51,1445.72 \"/>\n",
       "<path clip-path=\"url(#clip822)\" d=\"M1797.46 1445.72 L1797.46 1445.72 L1820.42 1445.72 L1820.42 1445.72 L1797.46 1445.72 L1797.46 1445.72  Z\" fill=\"#009af9\" fill-rule=\"evenodd\" fill-opacity=\"1\"/>\n",
       "<polyline clip-path=\"url(#clip822)\" style=\"stroke:#000000; stroke-linecap:round; stroke-linejoin:round; stroke-width:4; stroke-opacity:1; fill:none\" points=\"1797.46,1445.72 1797.46,1445.72 1820.42,1445.72 1797.46,1445.72 \"/>\n",
       "<path clip-path=\"url(#clip822)\" d=\"M1820.42 1445.72 L1820.42 1445.72 L1843.37 1445.72 L1843.37 1445.72 L1820.42 1445.72 L1820.42 1445.72  Z\" fill=\"#009af9\" fill-rule=\"evenodd\" fill-opacity=\"1\"/>\n",
       "<polyline clip-path=\"url(#clip822)\" style=\"stroke:#000000; stroke-linecap:round; stroke-linejoin:round; stroke-width:4; stroke-opacity:1; fill:none\" points=\"1820.42,1445.72 1820.42,1445.72 1843.37,1445.72 1820.42,1445.72 \"/>\n",
       "<path clip-path=\"url(#clip822)\" d=\"M1843.37 1445.72 L1843.37 1445.72 L1866.33 1445.72 L1866.33 1445.72 L1843.37 1445.72 L1843.37 1445.72  Z\" fill=\"#009af9\" fill-rule=\"evenodd\" fill-opacity=\"1\"/>\n",
       "<polyline clip-path=\"url(#clip822)\" style=\"stroke:#000000; stroke-linecap:round; stroke-linejoin:round; stroke-width:4; stroke-opacity:1; fill:none\" points=\"1843.37,1445.72 1843.37,1445.72 1866.33,1445.72 1843.37,1445.72 \"/>\n",
       "<path clip-path=\"url(#clip822)\" d=\"M1866.33 1445.72 L1866.33 1445.72 L1889.28 1445.72 L1889.28 1445.72 L1866.33 1445.72 L1866.33 1445.72  Z\" fill=\"#009af9\" fill-rule=\"evenodd\" fill-opacity=\"1\"/>\n",
       "<polyline clip-path=\"url(#clip822)\" style=\"stroke:#000000; stroke-linecap:round; stroke-linejoin:round; stroke-width:4; stroke-opacity:1; fill:none\" points=\"1866.33,1445.72 1866.33,1445.72 1889.28,1445.72 1866.33,1445.72 \"/>\n",
       "<path clip-path=\"url(#clip822)\" d=\"M1889.28 1445.72 L1889.28 1445.72 L1912.24 1445.72 L1912.24 1445.72 L1889.28 1445.72 L1889.28 1445.72  Z\" fill=\"#009af9\" fill-rule=\"evenodd\" fill-opacity=\"1\"/>\n",
       "<polyline clip-path=\"url(#clip822)\" style=\"stroke:#000000; stroke-linecap:round; stroke-linejoin:round; stroke-width:4; stroke-opacity:1; fill:none\" points=\"1889.28,1445.72 1889.28,1445.72 1912.24,1445.72 1889.28,1445.72 \"/>\n",
       "<path clip-path=\"url(#clip822)\" d=\"M1912.24 1445.72 L1912.24 1445.72 L1935.19 1445.72 L1935.19 1445.72 L1912.24 1445.72 L1912.24 1445.72  Z\" fill=\"#009af9\" fill-rule=\"evenodd\" fill-opacity=\"1\"/>\n",
       "<polyline clip-path=\"url(#clip822)\" style=\"stroke:#000000; stroke-linecap:round; stroke-linejoin:round; stroke-width:4; stroke-opacity:1; fill:none\" points=\"1912.24,1445.72 1912.24,1445.72 1935.19,1445.72 1912.24,1445.72 \"/>\n",
       "<path clip-path=\"url(#clip822)\" d=\"M1935.19 1445.72 L1935.19 1445.72 L1958.14 1445.72 L1958.14 1445.72 L1935.19 1445.72 L1935.19 1445.72  Z\" fill=\"#009af9\" fill-rule=\"evenodd\" fill-opacity=\"1\"/>\n",
       "<polyline clip-path=\"url(#clip822)\" style=\"stroke:#000000; stroke-linecap:round; stroke-linejoin:round; stroke-width:4; stroke-opacity:1; fill:none\" points=\"1935.19,1445.72 1935.19,1445.72 1958.14,1445.72 1935.19,1445.72 \"/>\n",
       "<path clip-path=\"url(#clip822)\" d=\"M1958.14 1445.72 L1958.14 1445.72 L1981.1 1445.72 L1981.1 1445.72 L1958.14 1445.72 L1958.14 1445.72  Z\" fill=\"#009af9\" fill-rule=\"evenodd\" fill-opacity=\"1\"/>\n",
       "<polyline clip-path=\"url(#clip822)\" style=\"stroke:#000000; stroke-linecap:round; stroke-linejoin:round; stroke-width:4; stroke-opacity:1; fill:none\" points=\"1958.14,1445.72 1958.14,1445.72 1981.1,1445.72 1958.14,1445.72 \"/>\n",
       "<path clip-path=\"url(#clip822)\" d=\"M1981.1 1445.72 L1981.1 1445.72 L2004.05 1445.72 L2004.05 1445.72 L1981.1 1445.72 L1981.1 1445.72  Z\" fill=\"#009af9\" fill-rule=\"evenodd\" fill-opacity=\"1\"/>\n",
       "<polyline clip-path=\"url(#clip822)\" style=\"stroke:#000000; stroke-linecap:round; stroke-linejoin:round; stroke-width:4; stroke-opacity:1; fill:none\" points=\"1981.1,1445.72 1981.1,1445.72 2004.05,1445.72 1981.1,1445.72 \"/>\n",
       "<path clip-path=\"url(#clip822)\" d=\"M2004.05 1445.72 L2004.05 1445.72 L2027.01 1445.72 L2027.01 1445.72 L2004.05 1445.72 L2004.05 1445.72  Z\" fill=\"#009af9\" fill-rule=\"evenodd\" fill-opacity=\"1\"/>\n",
       "<polyline clip-path=\"url(#clip822)\" style=\"stroke:#000000; stroke-linecap:round; stroke-linejoin:round; stroke-width:4; stroke-opacity:1; fill:none\" points=\"2004.05,1445.72 2004.05,1445.72 2027.01,1445.72 2004.05,1445.72 \"/>\n",
       "<path clip-path=\"url(#clip822)\" d=\"M2027.01 1445.72 L2027.01 1445.72 L2049.96 1445.72 L2049.96 1445.72 L2027.01 1445.72 L2027.01 1445.72  Z\" fill=\"#009af9\" fill-rule=\"evenodd\" fill-opacity=\"1\"/>\n",
       "<polyline clip-path=\"url(#clip822)\" style=\"stroke:#000000; stroke-linecap:round; stroke-linejoin:round; stroke-width:4; stroke-opacity:1; fill:none\" points=\"2027.01,1445.72 2027.01,1445.72 2049.96,1445.72 2027.01,1445.72 \"/>\n",
       "<path clip-path=\"url(#clip822)\" d=\"M2049.96 1445.72 L2049.96 1445.72 L2072.92 1445.72 L2072.92 1445.72 L2049.96 1445.72 L2049.96 1445.72  Z\" fill=\"#009af9\" fill-rule=\"evenodd\" fill-opacity=\"1\"/>\n",
       "<polyline clip-path=\"url(#clip822)\" style=\"stroke:#000000; stroke-linecap:round; stroke-linejoin:round; stroke-width:4; stroke-opacity:1; fill:none\" points=\"2049.96,1445.72 2049.96,1445.72 2072.92,1445.72 2049.96,1445.72 \"/>\n",
       "<path clip-path=\"url(#clip822)\" d=\"M2072.92 1445.72 L2072.92 1445.72 L2095.87 1445.72 L2095.87 1445.72 L2072.92 1445.72 L2072.92 1445.72  Z\" fill=\"#009af9\" fill-rule=\"evenodd\" fill-opacity=\"1\"/>\n",
       "<polyline clip-path=\"url(#clip822)\" style=\"stroke:#000000; stroke-linecap:round; stroke-linejoin:round; stroke-width:4; stroke-opacity:1; fill:none\" points=\"2072.92,1445.72 2072.92,1445.72 2095.87,1445.72 2072.92,1445.72 \"/>\n",
       "<path clip-path=\"url(#clip822)\" d=\"M2095.87 1445.72 L2095.87 1445.72 L2118.82 1445.72 L2118.82 1445.72 L2095.87 1445.72 L2095.87 1445.72  Z\" fill=\"#009af9\" fill-rule=\"evenodd\" fill-opacity=\"1\"/>\n",
       "<polyline clip-path=\"url(#clip822)\" style=\"stroke:#000000; stroke-linecap:round; stroke-linejoin:round; stroke-width:4; stroke-opacity:1; fill:none\" points=\"2095.87,1445.72 2095.87,1445.72 2118.82,1445.72 2095.87,1445.72 \"/>\n",
       "<path clip-path=\"url(#clip822)\" d=\"M2118.82 1445.72 L2118.82 1445.72 L2141.78 1445.72 L2141.78 1445.72 L2118.82 1445.72 L2118.82 1445.72  Z\" fill=\"#009af9\" fill-rule=\"evenodd\" fill-opacity=\"1\"/>\n",
       "<polyline clip-path=\"url(#clip822)\" style=\"stroke:#000000; stroke-linecap:round; stroke-linejoin:round; stroke-width:4; stroke-opacity:1; fill:none\" points=\"2118.82,1445.72 2118.82,1445.72 2141.78,1445.72 2118.82,1445.72 \"/>\n",
       "<path clip-path=\"url(#clip822)\" d=\"M2141.78 1445.72 L2141.78 1445.72 L2164.73 1445.72 L2164.73 1445.72 L2141.78 1445.72 L2141.78 1445.72  Z\" fill=\"#009af9\" fill-rule=\"evenodd\" fill-opacity=\"1\"/>\n",
       "<polyline clip-path=\"url(#clip822)\" style=\"stroke:#000000; stroke-linecap:round; stroke-linejoin:round; stroke-width:4; stroke-opacity:1; fill:none\" points=\"2141.78,1445.72 2141.78,1445.72 2164.73,1445.72 2141.78,1445.72 \"/>\n",
       "<path clip-path=\"url(#clip822)\" d=\"M2164.73 1445.72 L2164.73 1445.72 L2187.69 1445.72 L2187.69 1445.72 L2164.73 1445.72 L2164.73 1445.72  Z\" fill=\"#009af9\" fill-rule=\"evenodd\" fill-opacity=\"1\"/>\n",
       "<polyline clip-path=\"url(#clip822)\" style=\"stroke:#000000; stroke-linecap:round; stroke-linejoin:round; stroke-width:4; stroke-opacity:1; fill:none\" points=\"2164.73,1445.72 2164.73,1445.72 2187.69,1445.72 2164.73,1445.72 \"/>\n",
       "<path clip-path=\"url(#clip822)\" d=\"M2187.69 1445.72 L2187.69 1445.72 L2210.64 1445.72 L2210.64 1445.72 L2187.69 1445.72 L2187.69 1445.72  Z\" fill=\"#009af9\" fill-rule=\"evenodd\" fill-opacity=\"1\"/>\n",
       "<polyline clip-path=\"url(#clip822)\" style=\"stroke:#000000; stroke-linecap:round; stroke-linejoin:round; stroke-width:4; stroke-opacity:1; fill:none\" points=\"2187.69,1445.72 2187.69,1445.72 2210.64,1445.72 2187.69,1445.72 \"/>\n",
       "<path clip-path=\"url(#clip822)\" d=\"M2210.64 1445.72 L2210.64 1445.72 L2233.6 1445.72 L2233.6 1445.72 L2210.64 1445.72 L2210.64 1445.72  Z\" fill=\"#009af9\" fill-rule=\"evenodd\" fill-opacity=\"1\"/>\n",
       "<polyline clip-path=\"url(#clip822)\" style=\"stroke:#000000; stroke-linecap:round; stroke-linejoin:round; stroke-width:4; stroke-opacity:1; fill:none\" points=\"2210.64,1445.72 2210.64,1445.72 2233.6,1445.72 2210.64,1445.72 \"/>\n",
       "<circle clip-path=\"url(#clip822)\" style=\"fill:#009af9; stroke:none; fill-opacity:0\" cx=\"316.912\" cy=\"87.9763\" r=\"2\"/>\n",
       "<circle clip-path=\"url(#clip822)\" style=\"fill:#009af9; stroke:none; fill-opacity:0\" cx=\"339.866\" cy=\"1444.46\" r=\"2\"/>\n",
       "<circle clip-path=\"url(#clip822)\" style=\"fill:#009af9; stroke:none; fill-opacity:0\" cx=\"362.82\" cy=\"1445.49\" r=\"2\"/>\n",
       "<circle clip-path=\"url(#clip822)\" style=\"fill:#009af9; stroke:none; fill-opacity:0\" cx=\"385.774\" cy=\"1445.63\" r=\"2\"/>\n",
       "<circle clip-path=\"url(#clip822)\" style=\"fill:#009af9; stroke:none; fill-opacity:0\" cx=\"408.729\" cy=\"1445.67\" r=\"2\"/>\n",
       "<circle clip-path=\"url(#clip822)\" style=\"fill:#009af9; stroke:none; fill-opacity:0\" cx=\"431.683\" cy=\"1445.7\" r=\"2\"/>\n",
       "<circle clip-path=\"url(#clip822)\" style=\"fill:#009af9; stroke:none; fill-opacity:0\" cx=\"454.637\" cy=\"1445.7\" r=\"2\"/>\n",
       "<circle clip-path=\"url(#clip822)\" style=\"fill:#009af9; stroke:none; fill-opacity:0\" cx=\"477.592\" cy=\"1445.7\" r=\"2\"/>\n",
       "<circle clip-path=\"url(#clip822)\" style=\"fill:#009af9; stroke:none; fill-opacity:0\" cx=\"500.546\" cy=\"1445.71\" r=\"2\"/>\n",
       "<circle clip-path=\"url(#clip822)\" style=\"fill:#009af9; stroke:none; fill-opacity:0\" cx=\"523.5\" cy=\"1445.71\" r=\"2\"/>\n",
       "<circle clip-path=\"url(#clip822)\" style=\"fill:#009af9; stroke:none; fill-opacity:0\" cx=\"546.455\" cy=\"1445.71\" r=\"2\"/>\n",
       "<circle clip-path=\"url(#clip822)\" style=\"fill:#009af9; stroke:none; fill-opacity:0\" cx=\"569.409\" cy=\"1445.71\" r=\"2\"/>\n",
       "<circle clip-path=\"url(#clip822)\" style=\"fill:#009af9; stroke:none; fill-opacity:0\" cx=\"592.363\" cy=\"1445.71\" r=\"2\"/>\n",
       "<circle clip-path=\"url(#clip822)\" style=\"fill:#009af9; stroke:none; fill-opacity:0\" cx=\"615.317\" cy=\"1445.71\" r=\"2\"/>\n",
       "<circle clip-path=\"url(#clip822)\" style=\"fill:#009af9; stroke:none; fill-opacity:0\" cx=\"638.272\" cy=\"1445.71\" r=\"2\"/>\n",
       "<circle clip-path=\"url(#clip822)\" style=\"fill:#009af9; stroke:none; fill-opacity:0\" cx=\"661.226\" cy=\"1445.71\" r=\"2\"/>\n",
       "<circle clip-path=\"url(#clip822)\" style=\"fill:#009af9; stroke:none; fill-opacity:0\" cx=\"684.18\" cy=\"1445.71\" r=\"2\"/>\n",
       "<circle clip-path=\"url(#clip822)\" style=\"fill:#009af9; stroke:none; fill-opacity:0\" cx=\"707.135\" cy=\"1445.72\" r=\"2\"/>\n",
       "<circle clip-path=\"url(#clip822)\" style=\"fill:#009af9; stroke:none; fill-opacity:0\" cx=\"730.089\" cy=\"1445.71\" r=\"2\"/>\n",
       "<circle clip-path=\"url(#clip822)\" style=\"fill:#009af9; stroke:none; fill-opacity:0\" cx=\"753.043\" cy=\"1445.71\" r=\"2\"/>\n",
       "<circle clip-path=\"url(#clip822)\" style=\"fill:#009af9; stroke:none; fill-opacity:0\" cx=\"775.998\" cy=\"1445.71\" r=\"2\"/>\n",
       "<circle clip-path=\"url(#clip822)\" style=\"fill:#009af9; stroke:none; fill-opacity:0\" cx=\"798.952\" cy=\"1445.71\" r=\"2\"/>\n",
       "<circle clip-path=\"url(#clip822)\" style=\"fill:#009af9; stroke:none; fill-opacity:0\" cx=\"821.906\" cy=\"1445.72\" r=\"2\"/>\n",
       "<circle clip-path=\"url(#clip822)\" style=\"fill:#009af9; stroke:none; fill-opacity:0\" cx=\"844.86\" cy=\"1445.72\" r=\"2\"/>\n",
       "<circle clip-path=\"url(#clip822)\" style=\"fill:#009af9; stroke:none; fill-opacity:0\" cx=\"867.815\" cy=\"1445.71\" r=\"2\"/>\n",
       "<circle clip-path=\"url(#clip822)\" style=\"fill:#009af9; stroke:none; fill-opacity:0\" cx=\"890.769\" cy=\"1445.72\" r=\"2\"/>\n",
       "<circle clip-path=\"url(#clip822)\" style=\"fill:#009af9; stroke:none; fill-opacity:0\" cx=\"913.723\" cy=\"1445.71\" r=\"2\"/>\n",
       "<circle clip-path=\"url(#clip822)\" style=\"fill:#009af9; stroke:none; fill-opacity:0\" cx=\"936.678\" cy=\"1445.72\" r=\"2\"/>\n",
       "<circle clip-path=\"url(#clip822)\" style=\"fill:#009af9; stroke:none; fill-opacity:0\" cx=\"959.632\" cy=\"1445.71\" r=\"2\"/>\n",
       "<circle clip-path=\"url(#clip822)\" style=\"fill:#009af9; stroke:none; fill-opacity:0\" cx=\"982.586\" cy=\"1445.72\" r=\"2\"/>\n",
       "<circle clip-path=\"url(#clip822)\" style=\"fill:#009af9; stroke:none; fill-opacity:0\" cx=\"1005.54\" cy=\"1445.72\" r=\"2\"/>\n",
       "<circle clip-path=\"url(#clip822)\" style=\"fill:#009af9; stroke:none; fill-opacity:0\" cx=\"1028.49\" cy=\"1445.72\" r=\"2\"/>\n",
       "<circle clip-path=\"url(#clip822)\" style=\"fill:#009af9; stroke:none; fill-opacity:0\" cx=\"1051.45\" cy=\"1445.72\" r=\"2\"/>\n",
       "<circle clip-path=\"url(#clip822)\" style=\"fill:#009af9; stroke:none; fill-opacity:0\" cx=\"1074.4\" cy=\"1445.72\" r=\"2\"/>\n",
       "<circle clip-path=\"url(#clip822)\" style=\"fill:#009af9; stroke:none; fill-opacity:0\" cx=\"1097.36\" cy=\"1445.72\" r=\"2\"/>\n",
       "<circle clip-path=\"url(#clip822)\" style=\"fill:#009af9; stroke:none; fill-opacity:0\" cx=\"1120.31\" cy=\"1445.72\" r=\"2\"/>\n",
       "<circle clip-path=\"url(#clip822)\" style=\"fill:#009af9; stroke:none; fill-opacity:0\" cx=\"1143.27\" cy=\"1445.72\" r=\"2\"/>\n",
       "<circle clip-path=\"url(#clip822)\" style=\"fill:#009af9; stroke:none; fill-opacity:0\" cx=\"1166.22\" cy=\"1445.72\" r=\"2\"/>\n",
       "<circle clip-path=\"url(#clip822)\" style=\"fill:#009af9; stroke:none; fill-opacity:0\" cx=\"1189.17\" cy=\"1445.72\" r=\"2\"/>\n",
       "<circle clip-path=\"url(#clip822)\" style=\"fill:#009af9; stroke:none; fill-opacity:0\" cx=\"1212.13\" cy=\"1445.72\" r=\"2\"/>\n",
       "<circle clip-path=\"url(#clip822)\" style=\"fill:#009af9; stroke:none; fill-opacity:0\" cx=\"1235.08\" cy=\"1445.72\" r=\"2\"/>\n",
       "<circle clip-path=\"url(#clip822)\" style=\"fill:#009af9; stroke:none; fill-opacity:0\" cx=\"1258.04\" cy=\"1445.72\" r=\"2\"/>\n",
       "<circle clip-path=\"url(#clip822)\" style=\"fill:#009af9; stroke:none; fill-opacity:0\" cx=\"1280.99\" cy=\"1445.72\" r=\"2\"/>\n",
       "<circle clip-path=\"url(#clip822)\" style=\"fill:#009af9; stroke:none; fill-opacity:0\" cx=\"1303.95\" cy=\"1445.72\" r=\"2\"/>\n",
       "<circle clip-path=\"url(#clip822)\" style=\"fill:#009af9; stroke:none; fill-opacity:0\" cx=\"1326.9\" cy=\"1445.72\" r=\"2\"/>\n",
       "<circle clip-path=\"url(#clip822)\" style=\"fill:#009af9; stroke:none; fill-opacity:0\" cx=\"1349.86\" cy=\"1445.72\" r=\"2\"/>\n",
       "<circle clip-path=\"url(#clip822)\" style=\"fill:#009af9; stroke:none; fill-opacity:0\" cx=\"1372.81\" cy=\"1445.72\" r=\"2\"/>\n",
       "<circle clip-path=\"url(#clip822)\" style=\"fill:#009af9; stroke:none; fill-opacity:0\" cx=\"1395.76\" cy=\"1445.71\" r=\"2\"/>\n",
       "<circle clip-path=\"url(#clip822)\" style=\"fill:#009af9; stroke:none; fill-opacity:0\" cx=\"1418.72\" cy=\"1445.72\" r=\"2\"/>\n",
       "<circle clip-path=\"url(#clip822)\" style=\"fill:#009af9; stroke:none; fill-opacity:0\" cx=\"1441.67\" cy=\"1445.72\" r=\"2\"/>\n",
       "<circle clip-path=\"url(#clip822)\" style=\"fill:#009af9; stroke:none; fill-opacity:0\" cx=\"1464.63\" cy=\"1445.72\" r=\"2\"/>\n",
       "<circle clip-path=\"url(#clip822)\" style=\"fill:#009af9; stroke:none; fill-opacity:0\" cx=\"1487.58\" cy=\"1445.71\" r=\"2\"/>\n",
       "<circle clip-path=\"url(#clip822)\" style=\"fill:#009af9; stroke:none; fill-opacity:0\" cx=\"1510.54\" cy=\"1445.72\" r=\"2\"/>\n",
       "<circle clip-path=\"url(#clip822)\" style=\"fill:#009af9; stroke:none; fill-opacity:0\" cx=\"1533.49\" cy=\"1445.72\" r=\"2\"/>\n",
       "<circle clip-path=\"url(#clip822)\" style=\"fill:#009af9; stroke:none; fill-opacity:0\" cx=\"1556.44\" cy=\"1445.72\" r=\"2\"/>\n",
       "<circle clip-path=\"url(#clip822)\" style=\"fill:#009af9; stroke:none; fill-opacity:0\" cx=\"1579.4\" cy=\"1445.72\" r=\"2\"/>\n",
       "<circle clip-path=\"url(#clip822)\" style=\"fill:#009af9; stroke:none; fill-opacity:0\" cx=\"1602.35\" cy=\"1445.72\" r=\"2\"/>\n",
       "<circle clip-path=\"url(#clip822)\" style=\"fill:#009af9; stroke:none; fill-opacity:0\" cx=\"1625.31\" cy=\"1445.72\" r=\"2\"/>\n",
       "<circle clip-path=\"url(#clip822)\" style=\"fill:#009af9; stroke:none; fill-opacity:0\" cx=\"1648.26\" cy=\"1445.72\" r=\"2\"/>\n",
       "<circle clip-path=\"url(#clip822)\" style=\"fill:#009af9; stroke:none; fill-opacity:0\" cx=\"1671.22\" cy=\"1445.72\" r=\"2\"/>\n",
       "<circle clip-path=\"url(#clip822)\" style=\"fill:#009af9; stroke:none; fill-opacity:0\" cx=\"1694.17\" cy=\"1445.72\" r=\"2\"/>\n",
       "<circle clip-path=\"url(#clip822)\" style=\"fill:#009af9; stroke:none; fill-opacity:0\" cx=\"1717.12\" cy=\"1445.72\" r=\"2\"/>\n",
       "<circle clip-path=\"url(#clip822)\" style=\"fill:#009af9; stroke:none; fill-opacity:0\" cx=\"1740.08\" cy=\"1445.72\" r=\"2\"/>\n",
       "<circle clip-path=\"url(#clip822)\" style=\"fill:#009af9; stroke:none; fill-opacity:0\" cx=\"1763.03\" cy=\"1445.72\" r=\"2\"/>\n",
       "<circle clip-path=\"url(#clip822)\" style=\"fill:#009af9; stroke:none; fill-opacity:0\" cx=\"1785.99\" cy=\"1445.72\" r=\"2\"/>\n",
       "<circle clip-path=\"url(#clip822)\" style=\"fill:#009af9; stroke:none; fill-opacity:0\" cx=\"1808.94\" cy=\"1445.72\" r=\"2\"/>\n",
       "<circle clip-path=\"url(#clip822)\" style=\"fill:#009af9; stroke:none; fill-opacity:0\" cx=\"1831.9\" cy=\"1445.72\" r=\"2\"/>\n",
       "<circle clip-path=\"url(#clip822)\" style=\"fill:#009af9; stroke:none; fill-opacity:0\" cx=\"1854.85\" cy=\"1445.72\" r=\"2\"/>\n",
       "<circle clip-path=\"url(#clip822)\" style=\"fill:#009af9; stroke:none; fill-opacity:0\" cx=\"1877.8\" cy=\"1445.72\" r=\"2\"/>\n",
       "<circle clip-path=\"url(#clip822)\" style=\"fill:#009af9; stroke:none; fill-opacity:0\" cx=\"1900.76\" cy=\"1445.72\" r=\"2\"/>\n",
       "<circle clip-path=\"url(#clip822)\" style=\"fill:#009af9; stroke:none; fill-opacity:0\" cx=\"1923.71\" cy=\"1445.72\" r=\"2\"/>\n",
       "<circle clip-path=\"url(#clip822)\" style=\"fill:#009af9; stroke:none; fill-opacity:0\" cx=\"1946.67\" cy=\"1445.72\" r=\"2\"/>\n",
       "<circle clip-path=\"url(#clip822)\" style=\"fill:#009af9; stroke:none; fill-opacity:0\" cx=\"1969.62\" cy=\"1445.72\" r=\"2\"/>\n",
       "<circle clip-path=\"url(#clip822)\" style=\"fill:#009af9; stroke:none; fill-opacity:0\" cx=\"1992.58\" cy=\"1445.72\" r=\"2\"/>\n",
       "<circle clip-path=\"url(#clip822)\" style=\"fill:#009af9; stroke:none; fill-opacity:0\" cx=\"2015.53\" cy=\"1445.72\" r=\"2\"/>\n",
       "<circle clip-path=\"url(#clip822)\" style=\"fill:#009af9; stroke:none; fill-opacity:0\" cx=\"2038.48\" cy=\"1445.72\" r=\"2\"/>\n",
       "<circle clip-path=\"url(#clip822)\" style=\"fill:#009af9; stroke:none; fill-opacity:0\" cx=\"2061.44\" cy=\"1445.72\" r=\"2\"/>\n",
       "<circle clip-path=\"url(#clip822)\" style=\"fill:#009af9; stroke:none; fill-opacity:0\" cx=\"2084.39\" cy=\"1445.72\" r=\"2\"/>\n",
       "<circle clip-path=\"url(#clip822)\" style=\"fill:#009af9; stroke:none; fill-opacity:0\" cx=\"2107.35\" cy=\"1445.72\" r=\"2\"/>\n",
       "<circle clip-path=\"url(#clip822)\" style=\"fill:#009af9; stroke:none; fill-opacity:0\" cx=\"2130.3\" cy=\"1445.72\" r=\"2\"/>\n",
       "<circle clip-path=\"url(#clip822)\" style=\"fill:#009af9; stroke:none; fill-opacity:0\" cx=\"2153.26\" cy=\"1445.72\" r=\"2\"/>\n",
       "<circle clip-path=\"url(#clip822)\" style=\"fill:#009af9; stroke:none; fill-opacity:0\" cx=\"2176.21\" cy=\"1445.72\" r=\"2\"/>\n",
       "<circle clip-path=\"url(#clip822)\" style=\"fill:#009af9; stroke:none; fill-opacity:0\" cx=\"2199.16\" cy=\"1445.72\" r=\"2\"/>\n",
       "<circle clip-path=\"url(#clip822)\" style=\"fill:#009af9; stroke:none; fill-opacity:0\" cx=\"2222.12\" cy=\"1445.72\" r=\"2\"/>\n",
       "<path clip-path=\"url(#clip820)\" d=\"M2011.46 198.898 L2280.54 198.898 L2280.54 95.2176 L2011.46 95.2176  Z\" fill=\"#ffffff\" fill-rule=\"evenodd\" fill-opacity=\"1\"/>\n",
       "<polyline clip-path=\"url(#clip820)\" style=\"stroke:#000000; stroke-linecap:round; stroke-linejoin:round; stroke-width:4; stroke-opacity:1; fill:none\" points=\"2011.46,198.898 2280.54,198.898 2280.54,95.2176 2011.46,95.2176 2011.46,198.898 \"/>\n",
       "<path clip-path=\"url(#clip820)\" d=\"M2035.53 167.794 L2179.97 167.794 L2179.97 126.322 L2035.53 126.322 L2035.53 167.794  Z\" fill=\"#009af9\" fill-rule=\"evenodd\" fill-opacity=\"1\"/>\n",
       "<polyline clip-path=\"url(#clip820)\" style=\"stroke:#000000; stroke-linecap:round; stroke-linejoin:round; stroke-width:4; stroke-opacity:1; fill:none\" points=\"2035.53,167.794 2179.97,167.794 2179.97,126.322 2035.53,126.322 2035.53,167.794 \"/>\n",
       "<path clip-path=\"url(#clip820)\" d=\"M2217.88 166.745 Q2216.07 171.375 2214.36 172.787 Q2212.65 174.199 2209.78 174.199 L2206.38 174.199 L2206.38 170.634 L2208.88 170.634 Q2210.63 170.634 2211.61 169.8 Q2212.58 168.967 2213.76 165.865 L2214.52 163.921 L2204.04 138.412 L2208.55 138.412 L2216.65 158.689 L2224.76 138.412 L2229.27 138.412 L2217.88 166.745 Z\" fill=\"#000000\" fill-rule=\"nonzero\" fill-opacity=\"1\" /><path clip-path=\"url(#clip820)\" d=\"M2236.56 160.402 L2244.2 160.402 L2244.2 134.037 L2235.89 135.703 L2235.89 131.444 L2244.15 129.778 L2248.83 129.778 L2248.83 160.402 L2256.47 160.402 L2256.47 164.338 L2236.56 164.338 L2236.56 160.402 Z\" fill=\"#000000\" fill-rule=\"nonzero\" fill-opacity=\"1\" /></svg>\n"
      ]
     },
     "execution_count": 29,
     "metadata": {},
     "output_type": "execute_result"
    }
   ],
   "source": [
    "bins = 0:.01:maximum(fermat_liar_rate)\n",
    "println(maximum(fermat_liar_rate))\n",
    "histogram(fermat_liar_rate,bins=bins,normalize=:probability)"
   ]
  },
  {
   "cell_type": "code",
   "execution_count": 30,
   "id": "20db15d7",
   "metadata": {},
   "outputs": [
    {
     "name": "stdout",
     "output_type": "stream",
     "text": [
      "0.25\n"
     ]
    },
    {
     "data": {
      "image/svg+xml": [
       "<?xml version=\"1.0\" encoding=\"utf-8\"?>\n",
       "<svg xmlns=\"http://www.w3.org/2000/svg\" xmlns:xlink=\"http://www.w3.org/1999/xlink\" width=\"600\" height=\"400\" viewBox=\"0 0 2400 1600\">\n",
       "<defs>\n",
       "  <clipPath id=\"clip860\">\n",
       "    <rect x=\"0\" y=\"0\" width=\"2400\" height=\"1600\"/>\n",
       "  </clipPath>\n",
       "</defs>\n",
       "<path clip-path=\"url(#clip860)\" d=\"M0 1600 L2400 1600 L2400 0 L0 0  Z\" fill=\"#ffffff\" fill-rule=\"evenodd\" fill-opacity=\"1\"/>\n",
       "<defs>\n",
       "  <clipPath id=\"clip861\">\n",
       "    <rect x=\"480\" y=\"0\" width=\"1681\" height=\"1600\"/>\n",
       "  </clipPath>\n",
       "</defs>\n",
       "<path clip-path=\"url(#clip860)\" d=\"M186.274 1486.45 L2352.76 1486.45 L2352.76 47.2441 L186.274 47.2441  Z\" fill=\"#ffffff\" fill-rule=\"evenodd\" fill-opacity=\"1\"/>\n",
       "<defs>\n",
       "  <clipPath id=\"clip862\">\n",
       "    <rect x=\"186\" y=\"47\" width=\"2167\" height=\"1440\"/>\n",
       "  </clipPath>\n",
       "</defs>\n",
       "<polyline clip-path=\"url(#clip862)\" style=\"stroke:#000000; stroke-linecap:round; stroke-linejoin:round; stroke-width:2; stroke-opacity:0.1; fill:none\" points=\"305.434,1486.45 305.434,47.2441 \"/>\n",
       "<polyline clip-path=\"url(#clip862)\" style=\"stroke:#000000; stroke-linecap:round; stroke-linejoin:round; stroke-width:2; stroke-opacity:0.1; fill:none\" points=\"764.52,1486.45 764.52,47.2441 \"/>\n",
       "<polyline clip-path=\"url(#clip862)\" style=\"stroke:#000000; stroke-linecap:round; stroke-linejoin:round; stroke-width:2; stroke-opacity:0.1; fill:none\" points=\"1223.61,1486.45 1223.61,47.2441 \"/>\n",
       "<polyline clip-path=\"url(#clip862)\" style=\"stroke:#000000; stroke-linecap:round; stroke-linejoin:round; stroke-width:2; stroke-opacity:0.1; fill:none\" points=\"1682.69,1486.45 1682.69,47.2441 \"/>\n",
       "<polyline clip-path=\"url(#clip862)\" style=\"stroke:#000000; stroke-linecap:round; stroke-linejoin:round; stroke-width:2; stroke-opacity:0.1; fill:none\" points=\"2141.78,1486.45 2141.78,47.2441 \"/>\n",
       "<polyline clip-path=\"url(#clip860)\" style=\"stroke:#000000; stroke-linecap:round; stroke-linejoin:round; stroke-width:4; stroke-opacity:1; fill:none\" points=\"186.274,1486.45 2352.76,1486.45 \"/>\n",
       "<polyline clip-path=\"url(#clip860)\" style=\"stroke:#000000; stroke-linecap:round; stroke-linejoin:round; stroke-width:4; stroke-opacity:1; fill:none\" points=\"305.434,1486.45 305.434,1467.55 \"/>\n",
       "<polyline clip-path=\"url(#clip860)\" style=\"stroke:#000000; stroke-linecap:round; stroke-linejoin:round; stroke-width:4; stroke-opacity:1; fill:none\" points=\"764.52,1486.45 764.52,1467.55 \"/>\n",
       "<polyline clip-path=\"url(#clip860)\" style=\"stroke:#000000; stroke-linecap:round; stroke-linejoin:round; stroke-width:4; stroke-opacity:1; fill:none\" points=\"1223.61,1486.45 1223.61,1467.55 \"/>\n",
       "<polyline clip-path=\"url(#clip860)\" style=\"stroke:#000000; stroke-linecap:round; stroke-linejoin:round; stroke-width:4; stroke-opacity:1; fill:none\" points=\"1682.69,1486.45 1682.69,1467.55 \"/>\n",
       "<polyline clip-path=\"url(#clip860)\" style=\"stroke:#000000; stroke-linecap:round; stroke-linejoin:round; stroke-width:4; stroke-opacity:1; fill:none\" points=\"2141.78,1486.45 2141.78,1467.55 \"/>\n",
       "<path clip-path=\"url(#clip860)\" d=\"M282.819 1517.37 Q279.208 1517.37 277.379 1520.93 Q275.573 1524.47 275.573 1531.6 Q275.573 1538.71 277.379 1542.27 Q279.208 1545.82 282.819 1545.82 Q286.453 1545.82 288.259 1542.27 Q290.087 1538.71 290.087 1531.6 Q290.087 1524.47 288.259 1520.93 Q286.453 1517.37 282.819 1517.37 M282.819 1513.66 Q288.629 1513.66 291.684 1518.27 Q294.763 1522.85 294.763 1531.6 Q294.763 1540.33 291.684 1544.94 Q288.629 1549.52 282.819 1549.52 Q277.009 1549.52 273.93 1544.94 Q270.874 1540.33 270.874 1531.6 Q270.874 1522.85 273.93 1518.27 Q277.009 1513.66 282.819 1513.66 Z\" fill=\"#000000\" fill-rule=\"nonzero\" fill-opacity=\"1\" /><path clip-path=\"url(#clip860)\" d=\"M302.981 1542.97 L307.865 1542.97 L307.865 1548.85 L302.981 1548.85 L302.981 1542.97 Z\" fill=\"#000000\" fill-rule=\"nonzero\" fill-opacity=\"1\" /><path clip-path=\"url(#clip860)\" d=\"M328.05 1517.37 Q324.439 1517.37 322.61 1520.93 Q320.805 1524.47 320.805 1531.6 Q320.805 1538.71 322.61 1542.27 Q324.439 1545.82 328.05 1545.82 Q331.684 1545.82 333.49 1542.27 Q335.318 1538.71 335.318 1531.6 Q335.318 1524.47 333.49 1520.93 Q331.684 1517.37 328.05 1517.37 M328.05 1513.66 Q333.86 1513.66 336.916 1518.27 Q339.994 1522.85 339.994 1531.6 Q339.994 1540.33 336.916 1544.94 Q333.86 1549.52 328.05 1549.52 Q322.24 1549.52 319.161 1544.94 Q316.106 1540.33 316.106 1531.6 Q316.106 1522.85 319.161 1518.27 Q322.24 1513.66 328.05 1513.66 Z\" fill=\"#000000\" fill-rule=\"nonzero\" fill-opacity=\"1\" /><path clip-path=\"url(#clip860)\" d=\"M742.703 1517.37 Q739.092 1517.37 737.264 1520.93 Q735.458 1524.47 735.458 1531.6 Q735.458 1538.71 737.264 1542.27 Q739.092 1545.82 742.703 1545.82 Q746.338 1545.82 748.143 1542.27 Q749.972 1538.71 749.972 1531.6 Q749.972 1524.47 748.143 1520.93 Q746.338 1517.37 742.703 1517.37 M742.703 1513.66 Q748.513 1513.66 751.569 1518.27 Q754.648 1522.85 754.648 1531.6 Q754.648 1540.33 751.569 1544.94 Q748.513 1549.52 742.703 1549.52 Q736.893 1549.52 733.815 1544.94 Q730.759 1540.33 730.759 1531.6 Q730.759 1522.85 733.815 1518.27 Q736.893 1513.66 742.703 1513.66 Z\" fill=\"#000000\" fill-rule=\"nonzero\" fill-opacity=\"1\" /><path clip-path=\"url(#clip860)\" d=\"M762.865 1542.97 L767.75 1542.97 L767.75 1548.85 L762.865 1548.85 L762.865 1542.97 Z\" fill=\"#000000\" fill-rule=\"nonzero\" fill-opacity=\"1\" /><path clip-path=\"url(#clip860)\" d=\"M781.962 1544.91 L798.282 1544.91 L798.282 1548.85 L776.337 1548.85 L776.337 1544.91 Q778.999 1542.16 783.583 1537.53 Q788.189 1532.88 789.37 1531.53 Q791.615 1529.01 792.495 1527.27 Q793.398 1525.51 793.398 1523.82 Q793.398 1521.07 791.453 1519.33 Q789.532 1517.6 786.43 1517.6 Q784.231 1517.6 781.777 1518.36 Q779.347 1519.13 776.569 1520.68 L776.569 1515.95 Q779.393 1514.82 781.847 1514.24 Q784.3 1513.66 786.337 1513.66 Q791.708 1513.66 794.902 1516.35 Q798.097 1519.03 798.097 1523.52 Q798.097 1525.65 797.286 1527.57 Q796.499 1529.47 794.393 1532.07 Q793.814 1532.74 790.712 1535.95 Q787.611 1539.15 781.962 1544.91 Z\" fill=\"#000000\" fill-rule=\"nonzero\" fill-opacity=\"1\" /><path clip-path=\"url(#clip860)\" d=\"M1200.75 1517.37 Q1197.14 1517.37 1195.31 1520.93 Q1193.5 1524.47 1193.5 1531.6 Q1193.5 1538.71 1195.31 1542.27 Q1197.14 1545.82 1200.75 1545.82 Q1204.38 1545.82 1206.19 1542.27 Q1208.02 1538.71 1208.02 1531.6 Q1208.02 1524.47 1206.19 1520.93 Q1204.38 1517.37 1200.75 1517.37 M1200.75 1513.66 Q1206.56 1513.66 1209.61 1518.27 Q1212.69 1522.85 1212.69 1531.6 Q1212.69 1540.33 1209.61 1544.94 Q1206.56 1549.52 1200.75 1549.52 Q1194.94 1549.52 1191.86 1544.94 Q1188.8 1540.33 1188.8 1531.6 Q1188.8 1522.85 1191.86 1518.27 Q1194.94 1513.66 1200.75 1513.66 Z\" fill=\"#000000\" fill-rule=\"nonzero\" fill-opacity=\"1\" /><path clip-path=\"url(#clip860)\" d=\"M1220.91 1542.97 L1225.79 1542.97 L1225.79 1548.85 L1220.91 1548.85 L1220.91 1542.97 Z\" fill=\"#000000\" fill-rule=\"nonzero\" fill-opacity=\"1\" /><path clip-path=\"url(#clip860)\" d=\"M1248.83 1518.36 L1237.02 1536.81 L1248.83 1536.81 L1248.83 1518.36 M1247.6 1514.29 L1253.48 1514.29 L1253.48 1536.81 L1258.41 1536.81 L1258.41 1540.7 L1253.48 1540.7 L1253.48 1548.85 L1248.83 1548.85 L1248.83 1540.7 L1233.22 1540.7 L1233.22 1536.19 L1247.6 1514.29 Z\" fill=\"#000000\" fill-rule=\"nonzero\" fill-opacity=\"1\" /><path clip-path=\"url(#clip860)\" d=\"M1660 1517.37 Q1656.38 1517.37 1654.56 1520.93 Q1652.75 1524.47 1652.75 1531.6 Q1652.75 1538.71 1654.56 1542.27 Q1656.38 1545.82 1660 1545.82 Q1663.63 1545.82 1665.44 1542.27 Q1667.26 1538.71 1667.26 1531.6 Q1667.26 1524.47 1665.44 1520.93 Q1663.63 1517.37 1660 1517.37 M1660 1513.66 Q1665.81 1513.66 1668.86 1518.27 Q1671.94 1522.85 1671.94 1531.6 Q1671.94 1540.33 1668.86 1544.94 Q1665.81 1549.52 1660 1549.52 Q1654.19 1549.52 1651.11 1544.94 Q1648.05 1540.33 1648.05 1531.6 Q1648.05 1522.85 1651.11 1518.27 Q1654.19 1513.66 1660 1513.66 Z\" fill=\"#000000\" fill-rule=\"nonzero\" fill-opacity=\"1\" /><path clip-path=\"url(#clip860)\" d=\"M1680.16 1542.97 L1685.04 1542.97 L1685.04 1548.85 L1680.16 1548.85 L1680.16 1542.97 Z\" fill=\"#000000\" fill-rule=\"nonzero\" fill-opacity=\"1\" /><path clip-path=\"url(#clip860)\" d=\"M1705.81 1529.7 Q1702.66 1529.7 1700.81 1531.86 Q1698.98 1534.01 1698.98 1537.76 Q1698.98 1541.49 1700.81 1543.66 Q1702.66 1545.82 1705.81 1545.82 Q1708.95 1545.82 1710.78 1543.66 Q1712.63 1541.49 1712.63 1537.76 Q1712.63 1534.01 1710.78 1531.86 Q1708.95 1529.7 1705.81 1529.7 M1715.09 1515.05 L1715.09 1519.31 Q1713.33 1518.48 1711.52 1518.04 Q1709.74 1517.6 1707.98 1517.6 Q1703.35 1517.6 1700.9 1520.72 Q1698.47 1523.85 1698.12 1530.17 Q1699.49 1528.15 1701.55 1527.09 Q1703.61 1526 1706.08 1526 Q1711.29 1526 1714.3 1529.17 Q1717.33 1532.32 1717.33 1537.76 Q1717.33 1543.08 1714.19 1546.3 Q1711.04 1549.52 1705.81 1549.52 Q1699.81 1549.52 1696.64 1544.94 Q1693.47 1540.33 1693.47 1531.6 Q1693.47 1523.41 1697.36 1518.55 Q1701.25 1513.66 1707.8 1513.66 Q1709.56 1513.66 1711.34 1514.01 Q1713.14 1514.36 1715.09 1515.05 Z\" fill=\"#000000\" fill-rule=\"nonzero\" fill-opacity=\"1\" /><path clip-path=\"url(#clip860)\" d=\"M2119.21 1517.37 Q2115.6 1517.37 2113.77 1520.93 Q2111.96 1524.47 2111.96 1531.6 Q2111.96 1538.71 2113.77 1542.27 Q2115.6 1545.82 2119.21 1545.82 Q2122.84 1545.82 2124.65 1542.27 Q2126.48 1538.71 2126.48 1531.6 Q2126.48 1524.47 2124.65 1520.93 Q2122.84 1517.37 2119.21 1517.37 M2119.21 1513.66 Q2125.02 1513.66 2128.07 1518.27 Q2131.15 1522.85 2131.15 1531.6 Q2131.15 1540.33 2128.07 1544.94 Q2125.02 1549.52 2119.21 1549.52 Q2113.4 1549.52 2110.32 1544.94 Q2107.26 1540.33 2107.26 1531.6 Q2107.26 1522.85 2110.32 1518.27 Q2113.4 1513.66 2119.21 1513.66 Z\" fill=\"#000000\" fill-rule=\"nonzero\" fill-opacity=\"1\" /><path clip-path=\"url(#clip860)\" d=\"M2139.37 1542.97 L2144.26 1542.97 L2144.26 1548.85 L2139.37 1548.85 L2139.37 1542.97 Z\" fill=\"#000000\" fill-rule=\"nonzero\" fill-opacity=\"1\" /><path clip-path=\"url(#clip860)\" d=\"M2164.44 1532.44 Q2161.11 1532.44 2159.19 1534.22 Q2157.29 1536 2157.29 1539.13 Q2157.29 1542.25 2159.19 1544.03 Q2161.11 1545.82 2164.44 1545.82 Q2167.77 1545.82 2169.69 1544.03 Q2171.62 1542.23 2171.62 1539.13 Q2171.62 1536 2169.69 1534.22 Q2167.8 1532.44 2164.44 1532.44 M2159.76 1530.45 Q2156.76 1529.7 2155.07 1527.64 Q2153.4 1525.58 2153.4 1522.62 Q2153.4 1518.48 2156.34 1516.07 Q2159.3 1513.66 2164.44 1513.66 Q2169.6 1513.66 2172.54 1516.07 Q2175.48 1518.48 2175.48 1522.62 Q2175.48 1525.58 2173.79 1527.64 Q2172.13 1529.7 2169.14 1530.45 Q2172.52 1531.23 2174.39 1533.52 Q2176.29 1535.82 2176.29 1539.13 Q2176.29 1544.15 2173.21 1546.83 Q2170.16 1549.52 2164.44 1549.52 Q2158.72 1549.52 2155.64 1546.83 Q2152.59 1544.15 2152.59 1539.13 Q2152.59 1535.82 2154.49 1533.52 Q2156.38 1531.23 2159.76 1530.45 M2158.05 1523.06 Q2158.05 1525.75 2159.72 1527.25 Q2161.41 1528.76 2164.44 1528.76 Q2167.45 1528.76 2169.14 1527.25 Q2170.85 1525.75 2170.85 1523.06 Q2170.85 1520.38 2169.14 1518.87 Q2167.45 1517.37 2164.44 1517.37 Q2161.41 1517.37 2159.72 1518.87 Q2158.05 1520.38 2158.05 1523.06 Z\" fill=\"#000000\" fill-rule=\"nonzero\" fill-opacity=\"1\" /><polyline clip-path=\"url(#clip862)\" style=\"stroke:#000000; stroke-linecap:round; stroke-linejoin:round; stroke-width:2; stroke-opacity:0.1; fill:none\" points=\"186.274,1445.72 2352.76,1445.72 \"/>\n",
       "<polyline clip-path=\"url(#clip862)\" style=\"stroke:#000000; stroke-linecap:round; stroke-linejoin:round; stroke-width:2; stroke-opacity:0.1; fill:none\" points=\"186.274,1106.17 2352.76,1106.17 \"/>\n",
       "<polyline clip-path=\"url(#clip862)\" style=\"stroke:#000000; stroke-linecap:round; stroke-linejoin:round; stroke-width:2; stroke-opacity:0.1; fill:none\" points=\"186.274,766.634 2352.76,766.634 \"/>\n",
       "<polyline clip-path=\"url(#clip862)\" style=\"stroke:#000000; stroke-linecap:round; stroke-linejoin:round; stroke-width:2; stroke-opacity:0.1; fill:none\" points=\"186.274,427.093 2352.76,427.093 \"/>\n",
       "<polyline clip-path=\"url(#clip862)\" style=\"stroke:#000000; stroke-linecap:round; stroke-linejoin:round; stroke-width:2; stroke-opacity:0.1; fill:none\" points=\"186.274,87.5525 2352.76,87.5525 \"/>\n",
       "<polyline clip-path=\"url(#clip860)\" style=\"stroke:#000000; stroke-linecap:round; stroke-linejoin:round; stroke-width:4; stroke-opacity:1; fill:none\" points=\"186.274,1486.45 186.274,47.2441 \"/>\n",
       "<polyline clip-path=\"url(#clip860)\" style=\"stroke:#000000; stroke-linecap:round; stroke-linejoin:round; stroke-width:4; stroke-opacity:1; fill:none\" points=\"186.274,1445.72 205.172,1445.72 \"/>\n",
       "<polyline clip-path=\"url(#clip860)\" style=\"stroke:#000000; stroke-linecap:round; stroke-linejoin:round; stroke-width:4; stroke-opacity:1; fill:none\" points=\"186.274,1106.17 205.172,1106.17 \"/>\n",
       "<polyline clip-path=\"url(#clip860)\" style=\"stroke:#000000; stroke-linecap:round; stroke-linejoin:round; stroke-width:4; stroke-opacity:1; fill:none\" points=\"186.274,766.634 205.172,766.634 \"/>\n",
       "<polyline clip-path=\"url(#clip860)\" style=\"stroke:#000000; stroke-linecap:round; stroke-linejoin:round; stroke-width:4; stroke-opacity:1; fill:none\" points=\"186.274,427.093 205.172,427.093 \"/>\n",
       "<polyline clip-path=\"url(#clip860)\" style=\"stroke:#000000; stroke-linecap:round; stroke-linejoin:round; stroke-width:4; stroke-opacity:1; fill:none\" points=\"186.274,87.5525 205.172,87.5525 \"/>\n",
       "<path clip-path=\"url(#clip860)\" d=\"M62.9365 1431.51 Q59.3254 1431.51 57.4967 1435.08 Q55.6912 1438.62 55.6912 1445.75 Q55.6912 1452.86 57.4967 1456.42 Q59.3254 1459.96 62.9365 1459.96 Q66.5707 1459.96 68.3763 1456.42 Q70.205 1452.86 70.205 1445.75 Q70.205 1438.62 68.3763 1435.08 Q66.5707 1431.51 62.9365 1431.51 M62.9365 1427.81 Q68.7467 1427.81 71.8022 1432.42 Q74.8809 1437 74.8809 1445.75 Q74.8809 1454.48 71.8022 1459.08 Q68.7467 1463.67 62.9365 1463.67 Q57.1264 1463.67 54.0477 1459.08 Q50.9921 1454.48 50.9921 1445.75 Q50.9921 1437 54.0477 1432.42 Q57.1264 1427.81 62.9365 1427.81 Z\" fill=\"#000000\" fill-rule=\"nonzero\" fill-opacity=\"1\" /><path clip-path=\"url(#clip860)\" d=\"M83.0984 1457.12 L87.9827 1457.12 L87.9827 1463 L83.0984 1463 L83.0984 1457.12 Z\" fill=\"#000000\" fill-rule=\"nonzero\" fill-opacity=\"1\" /><path clip-path=\"url(#clip860)\" d=\"M108.168 1431.51 Q104.557 1431.51 102.728 1435.08 Q100.922 1438.62 100.922 1445.75 Q100.922 1452.86 102.728 1456.42 Q104.557 1459.96 108.168 1459.96 Q111.802 1459.96 113.608 1456.42 Q115.436 1452.86 115.436 1445.75 Q115.436 1438.62 113.608 1435.08 Q111.802 1431.51 108.168 1431.51 M108.168 1427.81 Q113.978 1427.81 117.033 1432.42 Q120.112 1437 120.112 1445.75 Q120.112 1454.48 117.033 1459.08 Q113.978 1463.67 108.168 1463.67 Q102.358 1463.67 99.2789 1459.08 Q96.2234 1454.48 96.2234 1445.75 Q96.2234 1437 99.2789 1432.42 Q102.358 1427.81 108.168 1427.81 Z\" fill=\"#000000\" fill-rule=\"nonzero\" fill-opacity=\"1\" /><path clip-path=\"url(#clip860)\" d=\"M138.33 1431.51 Q134.719 1431.51 132.89 1435.08 Q131.084 1438.62 131.084 1445.75 Q131.084 1452.86 132.89 1456.42 Q134.719 1459.96 138.33 1459.96 Q141.964 1459.96 143.769 1456.42 Q145.598 1452.86 145.598 1445.75 Q145.598 1438.62 143.769 1435.08 Q141.964 1431.51 138.33 1431.51 M138.33 1427.81 Q144.14 1427.81 147.195 1432.42 Q150.274 1437 150.274 1445.75 Q150.274 1454.48 147.195 1459.08 Q144.14 1463.67 138.33 1463.67 Q132.519 1463.67 129.441 1459.08 Q126.385 1454.48 126.385 1445.75 Q126.385 1437 129.441 1432.42 Q132.519 1427.81 138.33 1427.81 Z\" fill=\"#000000\" fill-rule=\"nonzero\" fill-opacity=\"1\" /><path clip-path=\"url(#clip860)\" d=\"M63.9319 1091.97 Q60.3208 1091.97 58.4921 1095.54 Q56.6865 1099.08 56.6865 1106.21 Q56.6865 1113.32 58.4921 1116.88 Q60.3208 1120.42 63.9319 1120.42 Q67.5661 1120.42 69.3717 1116.88 Q71.2004 1113.32 71.2004 1106.21 Q71.2004 1099.08 69.3717 1095.54 Q67.5661 1091.97 63.9319 1091.97 M63.9319 1088.27 Q69.742 1088.27 72.7976 1092.88 Q75.8763 1097.46 75.8763 1106.21 Q75.8763 1114.94 72.7976 1119.54 Q69.742 1124.13 63.9319 1124.13 Q58.1217 1124.13 55.043 1119.54 Q51.9875 1114.94 51.9875 1106.21 Q51.9875 1097.46 55.043 1092.88 Q58.1217 1088.27 63.9319 1088.27 Z\" fill=\"#000000\" fill-rule=\"nonzero\" fill-opacity=\"1\" /><path clip-path=\"url(#clip860)\" d=\"M84.0938 1117.58 L88.978 1117.58 L88.978 1123.45 L84.0938 1123.45 L84.0938 1117.58 Z\" fill=\"#000000\" fill-rule=\"nonzero\" fill-opacity=\"1\" /><path clip-path=\"url(#clip860)\" d=\"M103.191 1119.52 L119.51 1119.52 L119.51 1123.45 L97.566 1123.45 L97.566 1119.52 Q100.228 1116.77 104.811 1112.14 Q109.418 1107.48 110.598 1106.14 Q112.844 1103.62 113.723 1101.88 Q114.626 1100.12 114.626 1098.43 Q114.626 1095.68 112.682 1093.94 Q110.76 1092.21 107.658 1092.21 Q105.459 1092.21 103.006 1092.97 Q100.575 1093.73 97.7974 1095.28 L97.7974 1090.56 Q100.621 1089.43 103.075 1088.85 Q105.529 1088.27 107.566 1088.27 Q112.936 1088.27 116.131 1090.96 Q119.325 1093.64 119.325 1098.13 Q119.325 1100.26 118.515 1102.18 Q117.728 1104.08 115.621 1106.67 Q115.043 1107.34 111.941 1110.56 Q108.839 1113.76 103.191 1119.52 Z\" fill=\"#000000\" fill-rule=\"nonzero\" fill-opacity=\"1\" /><path clip-path=\"url(#clip860)\" d=\"M129.371 1088.89 L147.728 1088.89 L147.728 1092.83 L133.654 1092.83 L133.654 1101.3 Q134.672 1100.96 135.691 1100.79 Q136.709 1100.61 137.728 1100.61 Q143.515 1100.61 146.894 1103.78 Q150.274 1106.95 150.274 1112.37 Q150.274 1117.95 146.802 1121.05 Q143.33 1124.13 137.01 1124.13 Q134.834 1124.13 132.566 1123.76 Q130.32 1123.39 127.913 1122.64 L127.913 1117.95 Q129.996 1119.08 132.219 1119.64 Q134.441 1120.19 136.918 1120.19 Q140.922 1120.19 143.26 1118.08 Q145.598 1115.98 145.598 1112.37 Q145.598 1108.76 143.26 1106.65 Q140.922 1104.54 136.918 1104.54 Q135.043 1104.54 133.168 1104.96 Q131.316 1105.38 129.371 1106.26 L129.371 1088.89 Z\" fill=\"#000000\" fill-rule=\"nonzero\" fill-opacity=\"1\" /><path clip-path=\"url(#clip860)\" d=\"M62.9365 752.433 Q59.3254 752.433 57.4967 755.998 Q55.6912 759.539 55.6912 766.669 Q55.6912 773.775 57.4967 777.34 Q59.3254 780.882 62.9365 780.882 Q66.5707 780.882 68.3763 777.34 Q70.205 773.775 70.205 766.669 Q70.205 759.539 68.3763 755.998 Q66.5707 752.433 62.9365 752.433 M62.9365 748.729 Q68.7467 748.729 71.8022 753.336 Q74.8809 757.919 74.8809 766.669 Q74.8809 775.396 71.8022 780.002 Q68.7467 784.585 62.9365 784.585 Q57.1264 784.585 54.0477 780.002 Q50.9921 775.396 50.9921 766.669 Q50.9921 757.919 54.0477 753.336 Q57.1264 748.729 62.9365 748.729 Z\" fill=\"#000000\" fill-rule=\"nonzero\" fill-opacity=\"1\" /><path clip-path=\"url(#clip860)\" d=\"M83.0984 778.035 L87.9827 778.035 L87.9827 783.914 L83.0984 783.914 L83.0984 778.035 Z\" fill=\"#000000\" fill-rule=\"nonzero\" fill-opacity=\"1\" /><path clip-path=\"url(#clip860)\" d=\"M98.2141 749.354 L116.57 749.354 L116.57 753.289 L102.496 753.289 L102.496 761.761 Q103.515 761.414 104.534 761.252 Q105.552 761.067 106.571 761.067 Q112.358 761.067 115.737 764.238 Q119.117 767.41 119.117 772.826 Q119.117 778.405 115.645 781.507 Q112.172 784.585 105.853 784.585 Q103.677 784.585 101.409 784.215 Q99.1632 783.845 96.7558 783.104 L96.7558 778.405 Q98.8391 779.539 101.061 780.095 Q103.284 780.65 105.76 780.65 Q109.765 780.65 112.103 778.544 Q114.441 776.437 114.441 772.826 Q114.441 769.215 112.103 767.109 Q109.765 765.002 105.76 765.002 Q103.885 765.002 102.01 765.419 Q100.159 765.836 98.2141 766.715 L98.2141 749.354 Z\" fill=\"#000000\" fill-rule=\"nonzero\" fill-opacity=\"1\" /><path clip-path=\"url(#clip860)\" d=\"M138.33 752.433 Q134.719 752.433 132.89 755.998 Q131.084 759.539 131.084 766.669 Q131.084 773.775 132.89 777.34 Q134.719 780.882 138.33 780.882 Q141.964 780.882 143.769 777.34 Q145.598 773.775 145.598 766.669 Q145.598 759.539 143.769 755.998 Q141.964 752.433 138.33 752.433 M138.33 748.729 Q144.14 748.729 147.195 753.336 Q150.274 757.919 150.274 766.669 Q150.274 775.396 147.195 780.002 Q144.14 784.585 138.33 784.585 Q132.519 784.585 129.441 780.002 Q126.385 775.396 126.385 766.669 Q126.385 757.919 129.441 753.336 Q132.519 748.729 138.33 748.729 Z\" fill=\"#000000\" fill-rule=\"nonzero\" fill-opacity=\"1\" /><path clip-path=\"url(#clip860)\" d=\"M63.9319 412.892 Q60.3208 412.892 58.4921 416.457 Q56.6865 419.998 56.6865 427.128 Q56.6865 434.234 58.4921 437.799 Q60.3208 441.341 63.9319 441.341 Q67.5661 441.341 69.3717 437.799 Q71.2004 434.234 71.2004 427.128 Q71.2004 419.998 69.3717 416.457 Q67.5661 412.892 63.9319 412.892 M63.9319 409.188 Q69.742 409.188 72.7976 413.795 Q75.8763 418.378 75.8763 427.128 Q75.8763 435.855 72.7976 440.461 Q69.742 445.045 63.9319 445.045 Q58.1217 445.045 55.043 440.461 Q51.9875 435.855 51.9875 427.128 Q51.9875 418.378 55.043 413.795 Q58.1217 409.188 63.9319 409.188 Z\" fill=\"#000000\" fill-rule=\"nonzero\" fill-opacity=\"1\" /><path clip-path=\"url(#clip860)\" d=\"M84.0938 438.494 L88.978 438.494 L88.978 444.373 L84.0938 444.373 L84.0938 438.494 Z\" fill=\"#000000\" fill-rule=\"nonzero\" fill-opacity=\"1\" /><path clip-path=\"url(#clip860)\" d=\"M97.9826 409.813 L120.205 409.813 L120.205 411.804 L107.658 444.373 L102.774 444.373 L114.58 413.748 L97.9826 413.748 L97.9826 409.813 Z\" fill=\"#000000\" fill-rule=\"nonzero\" fill-opacity=\"1\" /><path clip-path=\"url(#clip860)\" d=\"M129.371 409.813 L147.728 409.813 L147.728 413.748 L133.654 413.748 L133.654 422.221 Q134.672 421.873 135.691 421.711 Q136.709 421.526 137.728 421.526 Q143.515 421.526 146.894 424.697 Q150.274 427.869 150.274 433.285 Q150.274 438.864 146.802 441.966 Q143.33 445.045 137.01 445.045 Q134.834 445.045 132.566 444.674 Q130.32 444.304 127.913 443.563 L127.913 438.864 Q129.996 439.998 132.219 440.554 Q134.441 441.109 136.918 441.109 Q140.922 441.109 143.26 439.003 Q145.598 436.897 145.598 433.285 Q145.598 429.674 143.26 427.568 Q140.922 425.461 136.918 425.461 Q135.043 425.461 133.168 425.878 Q131.316 426.295 129.371 427.174 L129.371 409.813 Z\" fill=\"#000000\" fill-rule=\"nonzero\" fill-opacity=\"1\" /><path clip-path=\"url(#clip860)\" d=\"M53.7467 100.897 L61.3856 100.897 L61.3856 74.5318 L53.0754 76.1984 L53.0754 71.9392 L61.3393 70.2725 L66.0152 70.2725 L66.0152 100.897 L73.654 100.897 L73.654 104.833 L53.7467 104.833 L53.7467 100.897 Z\" fill=\"#000000\" fill-rule=\"nonzero\" fill-opacity=\"1\" /><path clip-path=\"url(#clip860)\" d=\"M83.0984 98.9529 L87.9827 98.9529 L87.9827 104.833 L83.0984 104.833 L83.0984 98.9529 Z\" fill=\"#000000\" fill-rule=\"nonzero\" fill-opacity=\"1\" /><path clip-path=\"url(#clip860)\" d=\"M108.168 73.3512 Q104.557 73.3512 102.728 76.916 Q100.922 80.4577 100.922 87.5873 Q100.922 94.6937 102.728 98.2585 Q104.557 101.8 108.168 101.8 Q111.802 101.8 113.608 98.2585 Q115.436 94.6937 115.436 87.5873 Q115.436 80.4577 113.608 76.916 Q111.802 73.3512 108.168 73.3512 M108.168 69.6475 Q113.978 69.6475 117.033 74.254 Q120.112 78.8373 120.112 87.5873 Q120.112 96.3141 117.033 100.921 Q113.978 105.504 108.168 105.504 Q102.358 105.504 99.2789 100.921 Q96.2234 96.3141 96.2234 87.5873 Q96.2234 78.8373 99.2789 74.254 Q102.358 69.6475 108.168 69.6475 Z\" fill=\"#000000\" fill-rule=\"nonzero\" fill-opacity=\"1\" /><path clip-path=\"url(#clip860)\" d=\"M138.33 73.3512 Q134.719 73.3512 132.89 76.916 Q131.084 80.4577 131.084 87.5873 Q131.084 94.6937 132.89 98.2585 Q134.719 101.8 138.33 101.8 Q141.964 101.8 143.769 98.2585 Q145.598 94.6937 145.598 87.5873 Q145.598 80.4577 143.769 76.916 Q141.964 73.3512 138.33 73.3512 M138.33 69.6475 Q144.14 69.6475 147.195 74.254 Q150.274 78.8373 150.274 87.5873 Q150.274 96.3141 147.195 100.921 Q144.14 105.504 138.33 105.504 Q132.519 105.504 129.441 100.921 Q126.385 96.3141 126.385 87.5873 Q126.385 78.8373 129.441 74.254 Q132.519 69.6475 138.33 69.6475 Z\" fill=\"#000000\" fill-rule=\"nonzero\" fill-opacity=\"1\" /><path clip-path=\"url(#clip862)\" d=\"M305.434 87.9763 L305.434 1445.72 L328.389 1445.72 L328.389 87.9763 L305.434 87.9763 L305.434 87.9763  Z\" fill=\"#009af9\" fill-rule=\"evenodd\" fill-opacity=\"1\"/>\n",
       "<polyline clip-path=\"url(#clip862)\" style=\"stroke:#000000; stroke-linecap:round; stroke-linejoin:round; stroke-width:4; stroke-opacity:1; fill:none\" points=\"305.434,87.9763 305.434,1445.72 328.389,1445.72 328.389,87.9763 305.434,87.9763 \"/>\n",
       "<path clip-path=\"url(#clip862)\" d=\"M328.389 1445.37 L328.389 1445.72 L351.343 1445.72 L351.343 1445.37 L328.389 1445.37 L328.389 1445.37  Z\" fill=\"#009af9\" fill-rule=\"evenodd\" fill-opacity=\"1\"/>\n",
       "<polyline clip-path=\"url(#clip862)\" style=\"stroke:#000000; stroke-linecap:round; stroke-linejoin:round; stroke-width:4; stroke-opacity:1; fill:none\" points=\"328.389,1445.37 328.389,1445.72 351.343,1445.72 351.343,1445.37 328.389,1445.37 \"/>\n",
       "<path clip-path=\"url(#clip862)\" d=\"M351.343 1445.67 L351.343 1445.72 L374.297 1445.72 L374.297 1445.67 L351.343 1445.67 L351.343 1445.67  Z\" fill=\"#009af9\" fill-rule=\"evenodd\" fill-opacity=\"1\"/>\n",
       "<polyline clip-path=\"url(#clip862)\" style=\"stroke:#000000; stroke-linecap:round; stroke-linejoin:round; stroke-width:4; stroke-opacity:1; fill:none\" points=\"351.343,1445.67 351.343,1445.72 374.297,1445.72 374.297,1445.67 351.343,1445.67 \"/>\n",
       "<path clip-path=\"url(#clip862)\" d=\"M374.297 1445.7 L374.297 1445.72 L397.252 1445.72 L397.252 1445.7 L374.297 1445.7 L374.297 1445.7  Z\" fill=\"#009af9\" fill-rule=\"evenodd\" fill-opacity=\"1\"/>\n",
       "<polyline clip-path=\"url(#clip862)\" style=\"stroke:#000000; stroke-linecap:round; stroke-linejoin:round; stroke-width:4; stroke-opacity:1; fill:none\" points=\"374.297,1445.7 374.297,1445.72 397.252,1445.72 397.252,1445.7 374.297,1445.7 \"/>\n",
       "<path clip-path=\"url(#clip862)\" d=\"M397.252 1445.71 L397.252 1445.72 L420.206 1445.72 L420.206 1445.71 L397.252 1445.71 L397.252 1445.71  Z\" fill=\"#009af9\" fill-rule=\"evenodd\" fill-opacity=\"1\"/>\n",
       "<polyline clip-path=\"url(#clip862)\" style=\"stroke:#000000; stroke-linecap:round; stroke-linejoin:round; stroke-width:4; stroke-opacity:1; fill:none\" points=\"397.252,1445.71 397.252,1445.72 420.206,1445.72 420.206,1445.71 397.252,1445.71 \"/>\n",
       "<path clip-path=\"url(#clip862)\" d=\"M420.206 1445.71 L420.206 1445.72 L443.16 1445.72 L443.16 1445.71 L420.206 1445.71 L420.206 1445.71  Z\" fill=\"#009af9\" fill-rule=\"evenodd\" fill-opacity=\"1\"/>\n",
       "<polyline clip-path=\"url(#clip862)\" style=\"stroke:#000000; stroke-linecap:round; stroke-linejoin:round; stroke-width:4; stroke-opacity:1; fill:none\" points=\"420.206,1445.71 420.206,1445.72 443.16,1445.72 443.16,1445.71 420.206,1445.71 \"/>\n",
       "<path clip-path=\"url(#clip862)\" d=\"M443.16 1445.71 L443.16 1445.72 L466.114 1445.72 L466.114 1445.71 L443.16 1445.71 L443.16 1445.71  Z\" fill=\"#009af9\" fill-rule=\"evenodd\" fill-opacity=\"1\"/>\n",
       "<polyline clip-path=\"url(#clip862)\" style=\"stroke:#000000; stroke-linecap:round; stroke-linejoin:round; stroke-width:4; stroke-opacity:1; fill:none\" points=\"443.16,1445.71 443.16,1445.72 466.114,1445.72 466.114,1445.71 443.16,1445.71 \"/>\n",
       "<path clip-path=\"url(#clip862)\" d=\"M466.114 1445.71 L466.114 1445.72 L489.069 1445.72 L489.069 1445.71 L466.114 1445.71 L466.114 1445.71  Z\" fill=\"#009af9\" fill-rule=\"evenodd\" fill-opacity=\"1\"/>\n",
       "<polyline clip-path=\"url(#clip862)\" style=\"stroke:#000000; stroke-linecap:round; stroke-linejoin:round; stroke-width:4; stroke-opacity:1; fill:none\" points=\"466.114,1445.71 466.114,1445.72 489.069,1445.72 489.069,1445.71 466.114,1445.71 \"/>\n",
       "<path clip-path=\"url(#clip862)\" d=\"M489.069 1445.71 L489.069 1445.72 L512.023 1445.72 L512.023 1445.71 L489.069 1445.71 L489.069 1445.71  Z\" fill=\"#009af9\" fill-rule=\"evenodd\" fill-opacity=\"1\"/>\n",
       "<polyline clip-path=\"url(#clip862)\" style=\"stroke:#000000; stroke-linecap:round; stroke-linejoin:round; stroke-width:4; stroke-opacity:1; fill:none\" points=\"489.069,1445.71 489.069,1445.72 512.023,1445.72 512.023,1445.71 489.069,1445.71 \"/>\n",
       "<path clip-path=\"url(#clip862)\" d=\"M512.023 1445.71 L512.023 1445.72 L534.977 1445.72 L534.977 1445.71 L512.023 1445.71 L512.023 1445.71  Z\" fill=\"#009af9\" fill-rule=\"evenodd\" fill-opacity=\"1\"/>\n",
       "<polyline clip-path=\"url(#clip862)\" style=\"stroke:#000000; stroke-linecap:round; stroke-linejoin:round; stroke-width:4; stroke-opacity:1; fill:none\" points=\"512.023,1445.71 512.023,1445.72 534.977,1445.72 534.977,1445.71 512.023,1445.71 \"/>\n",
       "<path clip-path=\"url(#clip862)\" d=\"M534.977 1445.72 L534.977 1445.72 L557.932 1445.72 L557.932 1445.72 L534.977 1445.72 L534.977 1445.72  Z\" fill=\"#009af9\" fill-rule=\"evenodd\" fill-opacity=\"1\"/>\n",
       "<polyline clip-path=\"url(#clip862)\" style=\"stroke:#000000; stroke-linecap:round; stroke-linejoin:round; stroke-width:4; stroke-opacity:1; fill:none\" points=\"534.977,1445.72 534.977,1445.72 557.932,1445.72 534.977,1445.72 \"/>\n",
       "<path clip-path=\"url(#clip862)\" d=\"M557.932 1445.72 L557.932 1445.72 L580.886 1445.72 L580.886 1445.72 L557.932 1445.72 L557.932 1445.72  Z\" fill=\"#009af9\" fill-rule=\"evenodd\" fill-opacity=\"1\"/>\n",
       "<polyline clip-path=\"url(#clip862)\" style=\"stroke:#000000; stroke-linecap:round; stroke-linejoin:round; stroke-width:4; stroke-opacity:1; fill:none\" points=\"557.932,1445.72 557.932,1445.72 580.886,1445.72 557.932,1445.72 \"/>\n",
       "<path clip-path=\"url(#clip862)\" d=\"M580.886 1445.72 L580.886 1445.72 L603.84 1445.72 L603.84 1445.72 L580.886 1445.72 L580.886 1445.72  Z\" fill=\"#009af9\" fill-rule=\"evenodd\" fill-opacity=\"1\"/>\n",
       "<polyline clip-path=\"url(#clip862)\" style=\"stroke:#000000; stroke-linecap:round; stroke-linejoin:round; stroke-width:4; stroke-opacity:1; fill:none\" points=\"580.886,1445.72 580.886,1445.72 603.84,1445.72 580.886,1445.72 \"/>\n",
       "<path clip-path=\"url(#clip862)\" d=\"M603.84 1445.72 L603.84 1445.72 L626.795 1445.72 L626.795 1445.72 L603.84 1445.72 L603.84 1445.72  Z\" fill=\"#009af9\" fill-rule=\"evenodd\" fill-opacity=\"1\"/>\n",
       "<polyline clip-path=\"url(#clip862)\" style=\"stroke:#000000; stroke-linecap:round; stroke-linejoin:round; stroke-width:4; stroke-opacity:1; fill:none\" points=\"603.84,1445.72 603.84,1445.72 626.795,1445.72 603.84,1445.72 \"/>\n",
       "<path clip-path=\"url(#clip862)\" d=\"M626.795 1445.72 L626.795 1445.72 L649.749 1445.72 L649.749 1445.72 L626.795 1445.72 L626.795 1445.72  Z\" fill=\"#009af9\" fill-rule=\"evenodd\" fill-opacity=\"1\"/>\n",
       "<polyline clip-path=\"url(#clip862)\" style=\"stroke:#000000; stroke-linecap:round; stroke-linejoin:round; stroke-width:4; stroke-opacity:1; fill:none\" points=\"626.795,1445.72 626.795,1445.72 649.749,1445.72 626.795,1445.72 \"/>\n",
       "<path clip-path=\"url(#clip862)\" d=\"M649.749 1445.72 L649.749 1445.72 L672.703 1445.72 L672.703 1445.72 L649.749 1445.72 L649.749 1445.72  Z\" fill=\"#009af9\" fill-rule=\"evenodd\" fill-opacity=\"1\"/>\n",
       "<polyline clip-path=\"url(#clip862)\" style=\"stroke:#000000; stroke-linecap:round; stroke-linejoin:round; stroke-width:4; stroke-opacity:1; fill:none\" points=\"649.749,1445.72 649.749,1445.72 672.703,1445.72 649.749,1445.72 \"/>\n",
       "<path clip-path=\"url(#clip862)\" d=\"M672.703 1445.71 L672.703 1445.72 L695.657 1445.72 L695.657 1445.71 L672.703 1445.71 L672.703 1445.71  Z\" fill=\"#009af9\" fill-rule=\"evenodd\" fill-opacity=\"1\"/>\n",
       "<polyline clip-path=\"url(#clip862)\" style=\"stroke:#000000; stroke-linecap:round; stroke-linejoin:round; stroke-width:4; stroke-opacity:1; fill:none\" points=\"672.703,1445.71 672.703,1445.72 695.657,1445.72 695.657,1445.71 672.703,1445.71 \"/>\n",
       "<path clip-path=\"url(#clip862)\" d=\"M695.657 1445.72 L695.657 1445.72 L718.612 1445.72 L718.612 1445.72 L695.657 1445.72 L695.657 1445.72  Z\" fill=\"#009af9\" fill-rule=\"evenodd\" fill-opacity=\"1\"/>\n",
       "<polyline clip-path=\"url(#clip862)\" style=\"stroke:#000000; stroke-linecap:round; stroke-linejoin:round; stroke-width:4; stroke-opacity:1; fill:none\" points=\"695.657,1445.72 695.657,1445.72 718.612,1445.72 695.657,1445.72 \"/>\n",
       "<path clip-path=\"url(#clip862)\" d=\"M718.612 1445.72 L718.612 1445.72 L741.566 1445.72 L741.566 1445.72 L718.612 1445.72 L718.612 1445.72  Z\" fill=\"#009af9\" fill-rule=\"evenodd\" fill-opacity=\"1\"/>\n",
       "<polyline clip-path=\"url(#clip862)\" style=\"stroke:#000000; stroke-linecap:round; stroke-linejoin:round; stroke-width:4; stroke-opacity:1; fill:none\" points=\"718.612,1445.72 718.612,1445.72 741.566,1445.72 718.612,1445.72 \"/>\n",
       "<path clip-path=\"url(#clip862)\" d=\"M741.566 1445.72 L741.566 1445.72 L764.52 1445.72 L764.52 1445.72 L741.566 1445.72 L741.566 1445.72  Z\" fill=\"#009af9\" fill-rule=\"evenodd\" fill-opacity=\"1\"/>\n",
       "<polyline clip-path=\"url(#clip862)\" style=\"stroke:#000000; stroke-linecap:round; stroke-linejoin:round; stroke-width:4; stroke-opacity:1; fill:none\" points=\"741.566,1445.72 741.566,1445.72 764.52,1445.72 741.566,1445.72 \"/>\n",
       "<path clip-path=\"url(#clip862)\" d=\"M764.52 1445.72 L764.52 1445.72 L787.475 1445.72 L787.475 1445.72 L764.52 1445.72 L764.52 1445.72  Z\" fill=\"#009af9\" fill-rule=\"evenodd\" fill-opacity=\"1\"/>\n",
       "<polyline clip-path=\"url(#clip862)\" style=\"stroke:#000000; stroke-linecap:round; stroke-linejoin:round; stroke-width:4; stroke-opacity:1; fill:none\" points=\"764.52,1445.72 764.52,1445.72 787.475,1445.72 764.52,1445.72 \"/>\n",
       "<path clip-path=\"url(#clip862)\" d=\"M787.475 1445.72 L787.475 1445.72 L810.429 1445.72 L810.429 1445.72 L787.475 1445.72 L787.475 1445.72  Z\" fill=\"#009af9\" fill-rule=\"evenodd\" fill-opacity=\"1\"/>\n",
       "<polyline clip-path=\"url(#clip862)\" style=\"stroke:#000000; stroke-linecap:round; stroke-linejoin:round; stroke-width:4; stroke-opacity:1; fill:none\" points=\"787.475,1445.72 787.475,1445.72 810.429,1445.72 787.475,1445.72 \"/>\n",
       "<path clip-path=\"url(#clip862)\" d=\"M810.429 1445.72 L810.429 1445.72 L833.383 1445.72 L833.383 1445.72 L810.429 1445.72 L810.429 1445.72  Z\" fill=\"#009af9\" fill-rule=\"evenodd\" fill-opacity=\"1\"/>\n",
       "<polyline clip-path=\"url(#clip862)\" style=\"stroke:#000000; stroke-linecap:round; stroke-linejoin:round; stroke-width:4; stroke-opacity:1; fill:none\" points=\"810.429,1445.72 810.429,1445.72 833.383,1445.72 810.429,1445.72 \"/>\n",
       "<path clip-path=\"url(#clip862)\" d=\"M833.383 1445.72 L833.383 1445.72 L856.338 1445.72 L856.338 1445.72 L833.383 1445.72 L833.383 1445.72  Z\" fill=\"#009af9\" fill-rule=\"evenodd\" fill-opacity=\"1\"/>\n",
       "<polyline clip-path=\"url(#clip862)\" style=\"stroke:#000000; stroke-linecap:round; stroke-linejoin:round; stroke-width:4; stroke-opacity:1; fill:none\" points=\"833.383,1445.72 833.383,1445.72 856.338,1445.72 833.383,1445.72 \"/>\n",
       "<path clip-path=\"url(#clip862)\" d=\"M856.338 1445.72 L856.338 1445.72 L879.292 1445.72 L879.292 1445.72 L856.338 1445.72 L856.338 1445.72  Z\" fill=\"#009af9\" fill-rule=\"evenodd\" fill-opacity=\"1\"/>\n",
       "<polyline clip-path=\"url(#clip862)\" style=\"stroke:#000000; stroke-linecap:round; stroke-linejoin:round; stroke-width:4; stroke-opacity:1; fill:none\" points=\"856.338,1445.72 856.338,1445.72 879.292,1445.72 856.338,1445.72 \"/>\n",
       "<path clip-path=\"url(#clip862)\" d=\"M879.292 1445.71 L879.292 1445.72 L902.246 1445.72 L902.246 1445.71 L879.292 1445.71 L879.292 1445.71  Z\" fill=\"#009af9\" fill-rule=\"evenodd\" fill-opacity=\"1\"/>\n",
       "<polyline clip-path=\"url(#clip862)\" style=\"stroke:#000000; stroke-linecap:round; stroke-linejoin:round; stroke-width:4; stroke-opacity:1; fill:none\" points=\"879.292,1445.71 879.292,1445.72 902.246,1445.72 902.246,1445.71 879.292,1445.71 \"/>\n",
       "<path clip-path=\"url(#clip862)\" d=\"M902.246 1445.72 L902.246 1445.72 L925.2 1445.72 L925.2 1445.72 L902.246 1445.72 L902.246 1445.72  Z\" fill=\"#009af9\" fill-rule=\"evenodd\" fill-opacity=\"1\"/>\n",
       "<polyline clip-path=\"url(#clip862)\" style=\"stroke:#000000; stroke-linecap:round; stroke-linejoin:round; stroke-width:4; stroke-opacity:1; fill:none\" points=\"902.246,1445.72 902.246,1445.72 925.2,1445.72 902.246,1445.72 \"/>\n",
       "<path clip-path=\"url(#clip862)\" d=\"M925.2 1445.72 L925.2 1445.72 L948.155 1445.72 L948.155 1445.72 L925.2 1445.72 L925.2 1445.72  Z\" fill=\"#009af9\" fill-rule=\"evenodd\" fill-opacity=\"1\"/>\n",
       "<polyline clip-path=\"url(#clip862)\" style=\"stroke:#000000; stroke-linecap:round; stroke-linejoin:round; stroke-width:4; stroke-opacity:1; fill:none\" points=\"925.2,1445.72 925.2,1445.72 948.155,1445.72 925.2,1445.72 \"/>\n",
       "<path clip-path=\"url(#clip862)\" d=\"M948.155 1445.72 L948.155 1445.72 L971.109 1445.72 L971.109 1445.72 L948.155 1445.72 L948.155 1445.72  Z\" fill=\"#009af9\" fill-rule=\"evenodd\" fill-opacity=\"1\"/>\n",
       "<polyline clip-path=\"url(#clip862)\" style=\"stroke:#000000; stroke-linecap:round; stroke-linejoin:round; stroke-width:4; stroke-opacity:1; fill:none\" points=\"948.155,1445.72 948.155,1445.72 971.109,1445.72 948.155,1445.72 \"/>\n",
       "<path clip-path=\"url(#clip862)\" d=\"M971.109 1445.72 L971.109 1445.72 L994.063 1445.72 L994.063 1445.72 L971.109 1445.72 L971.109 1445.72  Z\" fill=\"#009af9\" fill-rule=\"evenodd\" fill-opacity=\"1\"/>\n",
       "<polyline clip-path=\"url(#clip862)\" style=\"stroke:#000000; stroke-linecap:round; stroke-linejoin:round; stroke-width:4; stroke-opacity:1; fill:none\" points=\"971.109,1445.72 971.109,1445.72 994.063,1445.72 971.109,1445.72 \"/>\n",
       "<path clip-path=\"url(#clip862)\" d=\"M994.063 1445.72 L994.063 1445.72 L1017.02 1445.72 L1017.02 1445.72 L994.063 1445.72 L994.063 1445.72  Z\" fill=\"#009af9\" fill-rule=\"evenodd\" fill-opacity=\"1\"/>\n",
       "<polyline clip-path=\"url(#clip862)\" style=\"stroke:#000000; stroke-linecap:round; stroke-linejoin:round; stroke-width:4; stroke-opacity:1; fill:none\" points=\"994.063,1445.72 994.063,1445.72 1017.02,1445.72 994.063,1445.72 \"/>\n",
       "<path clip-path=\"url(#clip862)\" d=\"M1017.02 1445.72 L1017.02 1445.72 L1039.97 1445.72 L1039.97 1445.72 L1017.02 1445.72 L1017.02 1445.72  Z\" fill=\"#009af9\" fill-rule=\"evenodd\" fill-opacity=\"1\"/>\n",
       "<polyline clip-path=\"url(#clip862)\" style=\"stroke:#000000; stroke-linecap:round; stroke-linejoin:round; stroke-width:4; stroke-opacity:1; fill:none\" points=\"1017.02,1445.72 1017.02,1445.72 1039.97,1445.72 1017.02,1445.72 \"/>\n",
       "<path clip-path=\"url(#clip862)\" d=\"M1039.97 1445.72 L1039.97 1445.72 L1062.93 1445.72 L1062.93 1445.72 L1039.97 1445.72 L1039.97 1445.72  Z\" fill=\"#009af9\" fill-rule=\"evenodd\" fill-opacity=\"1\"/>\n",
       "<polyline clip-path=\"url(#clip862)\" style=\"stroke:#000000; stroke-linecap:round; stroke-linejoin:round; stroke-width:4; stroke-opacity:1; fill:none\" points=\"1039.97,1445.72 1039.97,1445.72 1062.93,1445.72 1039.97,1445.72 \"/>\n",
       "<path clip-path=\"url(#clip862)\" d=\"M1062.93 1445.72 L1062.93 1445.72 L1085.88 1445.72 L1085.88 1445.72 L1062.93 1445.72 L1062.93 1445.72  Z\" fill=\"#009af9\" fill-rule=\"evenodd\" fill-opacity=\"1\"/>\n",
       "<polyline clip-path=\"url(#clip862)\" style=\"stroke:#000000; stroke-linecap:round; stroke-linejoin:round; stroke-width:4; stroke-opacity:1; fill:none\" points=\"1062.93,1445.72 1062.93,1445.72 1085.88,1445.72 1062.93,1445.72 \"/>\n",
       "<path clip-path=\"url(#clip862)\" d=\"M1085.88 1445.72 L1085.88 1445.72 L1108.83 1445.72 L1108.83 1445.72 L1085.88 1445.72 L1085.88 1445.72  Z\" fill=\"#009af9\" fill-rule=\"evenodd\" fill-opacity=\"1\"/>\n",
       "<polyline clip-path=\"url(#clip862)\" style=\"stroke:#000000; stroke-linecap:round; stroke-linejoin:round; stroke-width:4; stroke-opacity:1; fill:none\" points=\"1085.88,1445.72 1085.88,1445.72 1108.83,1445.72 1085.88,1445.72 \"/>\n",
       "<path clip-path=\"url(#clip862)\" d=\"M1108.83 1445.72 L1108.83 1445.72 L1131.79 1445.72 L1131.79 1445.72 L1108.83 1445.72 L1108.83 1445.72  Z\" fill=\"#009af9\" fill-rule=\"evenodd\" fill-opacity=\"1\"/>\n",
       "<polyline clip-path=\"url(#clip862)\" style=\"stroke:#000000; stroke-linecap:round; stroke-linejoin:round; stroke-width:4; stroke-opacity:1; fill:none\" points=\"1108.83,1445.72 1108.83,1445.72 1131.79,1445.72 1108.83,1445.72 \"/>\n",
       "<path clip-path=\"url(#clip862)\" d=\"M1131.79 1445.72 L1131.79 1445.72 L1154.74 1445.72 L1154.74 1445.72 L1131.79 1445.72 L1131.79 1445.72  Z\" fill=\"#009af9\" fill-rule=\"evenodd\" fill-opacity=\"1\"/>\n",
       "<polyline clip-path=\"url(#clip862)\" style=\"stroke:#000000; stroke-linecap:round; stroke-linejoin:round; stroke-width:4; stroke-opacity:1; fill:none\" points=\"1131.79,1445.72 1131.79,1445.72 1154.74,1445.72 1131.79,1445.72 \"/>\n",
       "<path clip-path=\"url(#clip862)\" d=\"M1154.74 1445.72 L1154.74 1445.72 L1177.7 1445.72 L1177.7 1445.72 L1154.74 1445.72 L1154.74 1445.72  Z\" fill=\"#009af9\" fill-rule=\"evenodd\" fill-opacity=\"1\"/>\n",
       "<polyline clip-path=\"url(#clip862)\" style=\"stroke:#000000; stroke-linecap:round; stroke-linejoin:round; stroke-width:4; stroke-opacity:1; fill:none\" points=\"1154.74,1445.72 1154.74,1445.72 1177.7,1445.72 1154.74,1445.72 \"/>\n",
       "<path clip-path=\"url(#clip862)\" d=\"M1177.7 1445.72 L1177.7 1445.72 L1200.65 1445.72 L1200.65 1445.72 L1177.7 1445.72 L1177.7 1445.72  Z\" fill=\"#009af9\" fill-rule=\"evenodd\" fill-opacity=\"1\"/>\n",
       "<polyline clip-path=\"url(#clip862)\" style=\"stroke:#000000; stroke-linecap:round; stroke-linejoin:round; stroke-width:4; stroke-opacity:1; fill:none\" points=\"1177.7,1445.72 1177.7,1445.72 1200.65,1445.72 1177.7,1445.72 \"/>\n",
       "<path clip-path=\"url(#clip862)\" d=\"M1200.65 1445.72 L1200.65 1445.72 L1223.61 1445.72 L1223.61 1445.72 L1200.65 1445.72 L1200.65 1445.72  Z\" fill=\"#009af9\" fill-rule=\"evenodd\" fill-opacity=\"1\"/>\n",
       "<polyline clip-path=\"url(#clip862)\" style=\"stroke:#000000; stroke-linecap:round; stroke-linejoin:round; stroke-width:4; stroke-opacity:1; fill:none\" points=\"1200.65,1445.72 1200.65,1445.72 1223.61,1445.72 1200.65,1445.72 \"/>\n",
       "<path clip-path=\"url(#clip862)\" d=\"M1223.61 1445.72 L1223.61 1445.72 L1246.56 1445.72 L1246.56 1445.72 L1223.61 1445.72 L1223.61 1445.72  Z\" fill=\"#009af9\" fill-rule=\"evenodd\" fill-opacity=\"1\"/>\n",
       "<polyline clip-path=\"url(#clip862)\" style=\"stroke:#000000; stroke-linecap:round; stroke-linejoin:round; stroke-width:4; stroke-opacity:1; fill:none\" points=\"1223.61,1445.72 1223.61,1445.72 1246.56,1445.72 1223.61,1445.72 \"/>\n",
       "<path clip-path=\"url(#clip862)\" d=\"M1246.56 1445.72 L1246.56 1445.72 L1269.51 1445.72 L1269.51 1445.72 L1246.56 1445.72 L1246.56 1445.72  Z\" fill=\"#009af9\" fill-rule=\"evenodd\" fill-opacity=\"1\"/>\n",
       "<polyline clip-path=\"url(#clip862)\" style=\"stroke:#000000; stroke-linecap:round; stroke-linejoin:round; stroke-width:4; stroke-opacity:1; fill:none\" points=\"1246.56,1445.72 1246.56,1445.72 1269.51,1445.72 1246.56,1445.72 \"/>\n",
       "<path clip-path=\"url(#clip862)\" d=\"M1269.51 1445.72 L1269.51 1445.72 L1292.47 1445.72 L1292.47 1445.72 L1269.51 1445.72 L1269.51 1445.72  Z\" fill=\"#009af9\" fill-rule=\"evenodd\" fill-opacity=\"1\"/>\n",
       "<polyline clip-path=\"url(#clip862)\" style=\"stroke:#000000; stroke-linecap:round; stroke-linejoin:round; stroke-width:4; stroke-opacity:1; fill:none\" points=\"1269.51,1445.72 1269.51,1445.72 1292.47,1445.72 1269.51,1445.72 \"/>\n",
       "<path clip-path=\"url(#clip862)\" d=\"M1292.47 1445.72 L1292.47 1445.72 L1315.42 1445.72 L1315.42 1445.72 L1292.47 1445.72 L1292.47 1445.72  Z\" fill=\"#009af9\" fill-rule=\"evenodd\" fill-opacity=\"1\"/>\n",
       "<polyline clip-path=\"url(#clip862)\" style=\"stroke:#000000; stroke-linecap:round; stroke-linejoin:round; stroke-width:4; stroke-opacity:1; fill:none\" points=\"1292.47,1445.72 1292.47,1445.72 1315.42,1445.72 1292.47,1445.72 \"/>\n",
       "<path clip-path=\"url(#clip862)\" d=\"M1315.42 1445.72 L1315.42 1445.72 L1338.38 1445.72 L1338.38 1445.72 L1315.42 1445.72 L1315.42 1445.72  Z\" fill=\"#009af9\" fill-rule=\"evenodd\" fill-opacity=\"1\"/>\n",
       "<polyline clip-path=\"url(#clip862)\" style=\"stroke:#000000; stroke-linecap:round; stroke-linejoin:round; stroke-width:4; stroke-opacity:1; fill:none\" points=\"1315.42,1445.72 1315.42,1445.72 1338.38,1445.72 1315.42,1445.72 \"/>\n",
       "<path clip-path=\"url(#clip862)\" d=\"M1338.38 1445.72 L1338.38 1445.72 L1361.33 1445.72 L1361.33 1445.72 L1338.38 1445.72 L1338.38 1445.72  Z\" fill=\"#009af9\" fill-rule=\"evenodd\" fill-opacity=\"1\"/>\n",
       "<polyline clip-path=\"url(#clip862)\" style=\"stroke:#000000; stroke-linecap:round; stroke-linejoin:round; stroke-width:4; stroke-opacity:1; fill:none\" points=\"1338.38,1445.72 1338.38,1445.72 1361.33,1445.72 1338.38,1445.72 \"/>\n",
       "<path clip-path=\"url(#clip862)\" d=\"M1361.33 1445.72 L1361.33 1445.72 L1384.29 1445.72 L1384.29 1445.72 L1361.33 1445.72 L1361.33 1445.72  Z\" fill=\"#009af9\" fill-rule=\"evenodd\" fill-opacity=\"1\"/>\n",
       "<polyline clip-path=\"url(#clip862)\" style=\"stroke:#000000; stroke-linecap:round; stroke-linejoin:round; stroke-width:4; stroke-opacity:1; fill:none\" points=\"1361.33,1445.72 1361.33,1445.72 1384.29,1445.72 1361.33,1445.72 \"/>\n",
       "<path clip-path=\"url(#clip862)\" d=\"M1384.29 1445.72 L1384.29 1445.72 L1407.24 1445.72 L1407.24 1445.72 L1384.29 1445.72 L1384.29 1445.72  Z\" fill=\"#009af9\" fill-rule=\"evenodd\" fill-opacity=\"1\"/>\n",
       "<polyline clip-path=\"url(#clip862)\" style=\"stroke:#000000; stroke-linecap:round; stroke-linejoin:round; stroke-width:4; stroke-opacity:1; fill:none\" points=\"1384.29,1445.72 1384.29,1445.72 1407.24,1445.72 1384.29,1445.72 \"/>\n",
       "<path clip-path=\"url(#clip862)\" d=\"M1407.24 1445.72 L1407.24 1445.72 L1430.2 1445.72 L1430.2 1445.72 L1407.24 1445.72 L1407.24 1445.72  Z\" fill=\"#009af9\" fill-rule=\"evenodd\" fill-opacity=\"1\"/>\n",
       "<polyline clip-path=\"url(#clip862)\" style=\"stroke:#000000; stroke-linecap:round; stroke-linejoin:round; stroke-width:4; stroke-opacity:1; fill:none\" points=\"1407.24,1445.72 1407.24,1445.72 1430.2,1445.72 1407.24,1445.72 \"/>\n",
       "<path clip-path=\"url(#clip862)\" d=\"M1430.2 1445.72 L1430.2 1445.72 L1453.15 1445.72 L1453.15 1445.72 L1430.2 1445.72 L1430.2 1445.72  Z\" fill=\"#009af9\" fill-rule=\"evenodd\" fill-opacity=\"1\"/>\n",
       "<polyline clip-path=\"url(#clip862)\" style=\"stroke:#000000; stroke-linecap:round; stroke-linejoin:round; stroke-width:4; stroke-opacity:1; fill:none\" points=\"1430.2,1445.72 1430.2,1445.72 1453.15,1445.72 1430.2,1445.72 \"/>\n",
       "<path clip-path=\"url(#clip862)\" d=\"M1453.15 1445.72 L1453.15 1445.72 L1476.1 1445.72 L1476.1 1445.72 L1453.15 1445.72 L1453.15 1445.72  Z\" fill=\"#009af9\" fill-rule=\"evenodd\" fill-opacity=\"1\"/>\n",
       "<polyline clip-path=\"url(#clip862)\" style=\"stroke:#000000; stroke-linecap:round; stroke-linejoin:round; stroke-width:4; stroke-opacity:1; fill:none\" points=\"1453.15,1445.72 1453.15,1445.72 1476.1,1445.72 1453.15,1445.72 \"/>\n",
       "<path clip-path=\"url(#clip862)\" d=\"M1476.1 1445.72 L1476.1 1445.72 L1499.06 1445.72 L1499.06 1445.72 L1476.1 1445.72 L1476.1 1445.72  Z\" fill=\"#009af9\" fill-rule=\"evenodd\" fill-opacity=\"1\"/>\n",
       "<polyline clip-path=\"url(#clip862)\" style=\"stroke:#000000; stroke-linecap:round; stroke-linejoin:round; stroke-width:4; stroke-opacity:1; fill:none\" points=\"1476.1,1445.72 1476.1,1445.72 1499.06,1445.72 1476.1,1445.72 \"/>\n",
       "<path clip-path=\"url(#clip862)\" d=\"M1499.06 1445.72 L1499.06 1445.72 L1522.01 1445.72 L1522.01 1445.72 L1499.06 1445.72 L1499.06 1445.72  Z\" fill=\"#009af9\" fill-rule=\"evenodd\" fill-opacity=\"1\"/>\n",
       "<polyline clip-path=\"url(#clip862)\" style=\"stroke:#000000; stroke-linecap:round; stroke-linejoin:round; stroke-width:4; stroke-opacity:1; fill:none\" points=\"1499.06,1445.72 1499.06,1445.72 1522.01,1445.72 1499.06,1445.72 \"/>\n",
       "<path clip-path=\"url(#clip862)\" d=\"M1522.01 1445.72 L1522.01 1445.72 L1544.97 1445.72 L1544.97 1445.72 L1522.01 1445.72 L1522.01 1445.72  Z\" fill=\"#009af9\" fill-rule=\"evenodd\" fill-opacity=\"1\"/>\n",
       "<polyline clip-path=\"url(#clip862)\" style=\"stroke:#000000; stroke-linecap:round; stroke-linejoin:round; stroke-width:4; stroke-opacity:1; fill:none\" points=\"1522.01,1445.72 1522.01,1445.72 1544.97,1445.72 1522.01,1445.72 \"/>\n",
       "<path clip-path=\"url(#clip862)\" d=\"M1544.97 1445.72 L1544.97 1445.72 L1567.92 1445.72 L1567.92 1445.72 L1544.97 1445.72 L1544.97 1445.72  Z\" fill=\"#009af9\" fill-rule=\"evenodd\" fill-opacity=\"1\"/>\n",
       "<polyline clip-path=\"url(#clip862)\" style=\"stroke:#000000; stroke-linecap:round; stroke-linejoin:round; stroke-width:4; stroke-opacity:1; fill:none\" points=\"1544.97,1445.72 1544.97,1445.72 1567.92,1445.72 1544.97,1445.72 \"/>\n",
       "<path clip-path=\"url(#clip862)\" d=\"M1567.92 1445.72 L1567.92 1445.72 L1590.88 1445.72 L1590.88 1445.72 L1567.92 1445.72 L1567.92 1445.72  Z\" fill=\"#009af9\" fill-rule=\"evenodd\" fill-opacity=\"1\"/>\n",
       "<polyline clip-path=\"url(#clip862)\" style=\"stroke:#000000; stroke-linecap:round; stroke-linejoin:round; stroke-width:4; stroke-opacity:1; fill:none\" points=\"1567.92,1445.72 1567.92,1445.72 1590.88,1445.72 1567.92,1445.72 \"/>\n",
       "<path clip-path=\"url(#clip862)\" d=\"M1590.88 1445.72 L1590.88 1445.72 L1613.83 1445.72 L1613.83 1445.72 L1590.88 1445.72 L1590.88 1445.72  Z\" fill=\"#009af9\" fill-rule=\"evenodd\" fill-opacity=\"1\"/>\n",
       "<polyline clip-path=\"url(#clip862)\" style=\"stroke:#000000; stroke-linecap:round; stroke-linejoin:round; stroke-width:4; stroke-opacity:1; fill:none\" points=\"1590.88,1445.72 1590.88,1445.72 1613.83,1445.72 1590.88,1445.72 \"/>\n",
       "<path clip-path=\"url(#clip862)\" d=\"M1613.83 1445.72 L1613.83 1445.72 L1636.78 1445.72 L1636.78 1445.72 L1613.83 1445.72 L1613.83 1445.72  Z\" fill=\"#009af9\" fill-rule=\"evenodd\" fill-opacity=\"1\"/>\n",
       "<polyline clip-path=\"url(#clip862)\" style=\"stroke:#000000; stroke-linecap:round; stroke-linejoin:round; stroke-width:4; stroke-opacity:1; fill:none\" points=\"1613.83,1445.72 1613.83,1445.72 1636.78,1445.72 1613.83,1445.72 \"/>\n",
       "<path clip-path=\"url(#clip862)\" d=\"M1636.78 1445.72 L1636.78 1445.72 L1659.74 1445.72 L1659.74 1445.72 L1636.78 1445.72 L1636.78 1445.72  Z\" fill=\"#009af9\" fill-rule=\"evenodd\" fill-opacity=\"1\"/>\n",
       "<polyline clip-path=\"url(#clip862)\" style=\"stroke:#000000; stroke-linecap:round; stroke-linejoin:round; stroke-width:4; stroke-opacity:1; fill:none\" points=\"1636.78,1445.72 1636.78,1445.72 1659.74,1445.72 1636.78,1445.72 \"/>\n",
       "<path clip-path=\"url(#clip862)\" d=\"M1659.74 1445.72 L1659.74 1445.72 L1682.69 1445.72 L1682.69 1445.72 L1659.74 1445.72 L1659.74 1445.72  Z\" fill=\"#009af9\" fill-rule=\"evenodd\" fill-opacity=\"1\"/>\n",
       "<polyline clip-path=\"url(#clip862)\" style=\"stroke:#000000; stroke-linecap:round; stroke-linejoin:round; stroke-width:4; stroke-opacity:1; fill:none\" points=\"1659.74,1445.72 1659.74,1445.72 1682.69,1445.72 1659.74,1445.72 \"/>\n",
       "<path clip-path=\"url(#clip862)\" d=\"M1682.69 1445.72 L1682.69 1445.72 L1705.65 1445.72 L1705.65 1445.72 L1682.69 1445.72 L1682.69 1445.72  Z\" fill=\"#009af9\" fill-rule=\"evenodd\" fill-opacity=\"1\"/>\n",
       "<polyline clip-path=\"url(#clip862)\" style=\"stroke:#000000; stroke-linecap:round; stroke-linejoin:round; stroke-width:4; stroke-opacity:1; fill:none\" points=\"1682.69,1445.72 1682.69,1445.72 1705.65,1445.72 1682.69,1445.72 \"/>\n",
       "<path clip-path=\"url(#clip862)\" d=\"M1705.65 1445.72 L1705.65 1445.72 L1728.6 1445.72 L1728.6 1445.72 L1705.65 1445.72 L1705.65 1445.72  Z\" fill=\"#009af9\" fill-rule=\"evenodd\" fill-opacity=\"1\"/>\n",
       "<polyline clip-path=\"url(#clip862)\" style=\"stroke:#000000; stroke-linecap:round; stroke-linejoin:round; stroke-width:4; stroke-opacity:1; fill:none\" points=\"1705.65,1445.72 1705.65,1445.72 1728.6,1445.72 1705.65,1445.72 \"/>\n",
       "<path clip-path=\"url(#clip862)\" d=\"M1728.6 1445.72 L1728.6 1445.72 L1751.56 1445.72 L1751.56 1445.72 L1728.6 1445.72 L1728.6 1445.72  Z\" fill=\"#009af9\" fill-rule=\"evenodd\" fill-opacity=\"1\"/>\n",
       "<polyline clip-path=\"url(#clip862)\" style=\"stroke:#000000; stroke-linecap:round; stroke-linejoin:round; stroke-width:4; stroke-opacity:1; fill:none\" points=\"1728.6,1445.72 1728.6,1445.72 1751.56,1445.72 1728.6,1445.72 \"/>\n",
       "<path clip-path=\"url(#clip862)\" d=\"M1751.56 1445.72 L1751.56 1445.72 L1774.51 1445.72 L1774.51 1445.72 L1751.56 1445.72 L1751.56 1445.72  Z\" fill=\"#009af9\" fill-rule=\"evenodd\" fill-opacity=\"1\"/>\n",
       "<polyline clip-path=\"url(#clip862)\" style=\"stroke:#000000; stroke-linecap:round; stroke-linejoin:round; stroke-width:4; stroke-opacity:1; fill:none\" points=\"1751.56,1445.72 1751.56,1445.72 1774.51,1445.72 1751.56,1445.72 \"/>\n",
       "<path clip-path=\"url(#clip862)\" d=\"M1774.51 1445.72 L1774.51 1445.72 L1797.46 1445.72 L1797.46 1445.72 L1774.51 1445.72 L1774.51 1445.72  Z\" fill=\"#009af9\" fill-rule=\"evenodd\" fill-opacity=\"1\"/>\n",
       "<polyline clip-path=\"url(#clip862)\" style=\"stroke:#000000; stroke-linecap:round; stroke-linejoin:round; stroke-width:4; stroke-opacity:1; fill:none\" points=\"1774.51,1445.72 1774.51,1445.72 1797.46,1445.72 1774.51,1445.72 \"/>\n",
       "<path clip-path=\"url(#clip862)\" d=\"M1797.46 1445.72 L1797.46 1445.72 L1820.42 1445.72 L1820.42 1445.72 L1797.46 1445.72 L1797.46 1445.72  Z\" fill=\"#009af9\" fill-rule=\"evenodd\" fill-opacity=\"1\"/>\n",
       "<polyline clip-path=\"url(#clip862)\" style=\"stroke:#000000; stroke-linecap:round; stroke-linejoin:round; stroke-width:4; stroke-opacity:1; fill:none\" points=\"1797.46,1445.72 1797.46,1445.72 1820.42,1445.72 1797.46,1445.72 \"/>\n",
       "<path clip-path=\"url(#clip862)\" d=\"M1820.42 1445.72 L1820.42 1445.72 L1843.37 1445.72 L1843.37 1445.72 L1820.42 1445.72 L1820.42 1445.72  Z\" fill=\"#009af9\" fill-rule=\"evenodd\" fill-opacity=\"1\"/>\n",
       "<polyline clip-path=\"url(#clip862)\" style=\"stroke:#000000; stroke-linecap:round; stroke-linejoin:round; stroke-width:4; stroke-opacity:1; fill:none\" points=\"1820.42,1445.72 1820.42,1445.72 1843.37,1445.72 1820.42,1445.72 \"/>\n",
       "<path clip-path=\"url(#clip862)\" d=\"M1843.37 1445.72 L1843.37 1445.72 L1866.33 1445.72 L1866.33 1445.72 L1843.37 1445.72 L1843.37 1445.72  Z\" fill=\"#009af9\" fill-rule=\"evenodd\" fill-opacity=\"1\"/>\n",
       "<polyline clip-path=\"url(#clip862)\" style=\"stroke:#000000; stroke-linecap:round; stroke-linejoin:round; stroke-width:4; stroke-opacity:1; fill:none\" points=\"1843.37,1445.72 1843.37,1445.72 1866.33,1445.72 1843.37,1445.72 \"/>\n",
       "<path clip-path=\"url(#clip862)\" d=\"M1866.33 1445.72 L1866.33 1445.72 L1889.28 1445.72 L1889.28 1445.72 L1866.33 1445.72 L1866.33 1445.72  Z\" fill=\"#009af9\" fill-rule=\"evenodd\" fill-opacity=\"1\"/>\n",
       "<polyline clip-path=\"url(#clip862)\" style=\"stroke:#000000; stroke-linecap:round; stroke-linejoin:round; stroke-width:4; stroke-opacity:1; fill:none\" points=\"1866.33,1445.72 1866.33,1445.72 1889.28,1445.72 1866.33,1445.72 \"/>\n",
       "<path clip-path=\"url(#clip862)\" d=\"M1889.28 1445.72 L1889.28 1445.72 L1912.24 1445.72 L1912.24 1445.72 L1889.28 1445.72 L1889.28 1445.72  Z\" fill=\"#009af9\" fill-rule=\"evenodd\" fill-opacity=\"1\"/>\n",
       "<polyline clip-path=\"url(#clip862)\" style=\"stroke:#000000; stroke-linecap:round; stroke-linejoin:round; stroke-width:4; stroke-opacity:1; fill:none\" points=\"1889.28,1445.72 1889.28,1445.72 1912.24,1445.72 1889.28,1445.72 \"/>\n",
       "<path clip-path=\"url(#clip862)\" d=\"M1912.24 1445.72 L1912.24 1445.72 L1935.19 1445.72 L1935.19 1445.72 L1912.24 1445.72 L1912.24 1445.72  Z\" fill=\"#009af9\" fill-rule=\"evenodd\" fill-opacity=\"1\"/>\n",
       "<polyline clip-path=\"url(#clip862)\" style=\"stroke:#000000; stroke-linecap:round; stroke-linejoin:round; stroke-width:4; stroke-opacity:1; fill:none\" points=\"1912.24,1445.72 1912.24,1445.72 1935.19,1445.72 1912.24,1445.72 \"/>\n",
       "<path clip-path=\"url(#clip862)\" d=\"M1935.19 1445.72 L1935.19 1445.72 L1958.14 1445.72 L1958.14 1445.72 L1935.19 1445.72 L1935.19 1445.72  Z\" fill=\"#009af9\" fill-rule=\"evenodd\" fill-opacity=\"1\"/>\n",
       "<polyline clip-path=\"url(#clip862)\" style=\"stroke:#000000; stroke-linecap:round; stroke-linejoin:round; stroke-width:4; stroke-opacity:1; fill:none\" points=\"1935.19,1445.72 1935.19,1445.72 1958.14,1445.72 1935.19,1445.72 \"/>\n",
       "<path clip-path=\"url(#clip862)\" d=\"M1958.14 1445.72 L1958.14 1445.72 L1981.1 1445.72 L1981.1 1445.72 L1958.14 1445.72 L1958.14 1445.72  Z\" fill=\"#009af9\" fill-rule=\"evenodd\" fill-opacity=\"1\"/>\n",
       "<polyline clip-path=\"url(#clip862)\" style=\"stroke:#000000; stroke-linecap:round; stroke-linejoin:round; stroke-width:4; stroke-opacity:1; fill:none\" points=\"1958.14,1445.72 1958.14,1445.72 1981.1,1445.72 1958.14,1445.72 \"/>\n",
       "<path clip-path=\"url(#clip862)\" d=\"M1981.1 1445.72 L1981.1 1445.72 L2004.05 1445.72 L2004.05 1445.72 L1981.1 1445.72 L1981.1 1445.72  Z\" fill=\"#009af9\" fill-rule=\"evenodd\" fill-opacity=\"1\"/>\n",
       "<polyline clip-path=\"url(#clip862)\" style=\"stroke:#000000; stroke-linecap:round; stroke-linejoin:round; stroke-width:4; stroke-opacity:1; fill:none\" points=\"1981.1,1445.72 1981.1,1445.72 2004.05,1445.72 1981.1,1445.72 \"/>\n",
       "<path clip-path=\"url(#clip862)\" d=\"M2004.05 1445.72 L2004.05 1445.72 L2027.01 1445.72 L2027.01 1445.72 L2004.05 1445.72 L2004.05 1445.72  Z\" fill=\"#009af9\" fill-rule=\"evenodd\" fill-opacity=\"1\"/>\n",
       "<polyline clip-path=\"url(#clip862)\" style=\"stroke:#000000; stroke-linecap:round; stroke-linejoin:round; stroke-width:4; stroke-opacity:1; fill:none\" points=\"2004.05,1445.72 2004.05,1445.72 2027.01,1445.72 2004.05,1445.72 \"/>\n",
       "<path clip-path=\"url(#clip862)\" d=\"M2027.01 1445.72 L2027.01 1445.72 L2049.96 1445.72 L2049.96 1445.72 L2027.01 1445.72 L2027.01 1445.72  Z\" fill=\"#009af9\" fill-rule=\"evenodd\" fill-opacity=\"1\"/>\n",
       "<polyline clip-path=\"url(#clip862)\" style=\"stroke:#000000; stroke-linecap:round; stroke-linejoin:round; stroke-width:4; stroke-opacity:1; fill:none\" points=\"2027.01,1445.72 2027.01,1445.72 2049.96,1445.72 2027.01,1445.72 \"/>\n",
       "<path clip-path=\"url(#clip862)\" d=\"M2049.96 1445.72 L2049.96 1445.72 L2072.92 1445.72 L2072.92 1445.72 L2049.96 1445.72 L2049.96 1445.72  Z\" fill=\"#009af9\" fill-rule=\"evenodd\" fill-opacity=\"1\"/>\n",
       "<polyline clip-path=\"url(#clip862)\" style=\"stroke:#000000; stroke-linecap:round; stroke-linejoin:round; stroke-width:4; stroke-opacity:1; fill:none\" points=\"2049.96,1445.72 2049.96,1445.72 2072.92,1445.72 2049.96,1445.72 \"/>\n",
       "<path clip-path=\"url(#clip862)\" d=\"M2072.92 1445.72 L2072.92 1445.72 L2095.87 1445.72 L2095.87 1445.72 L2072.92 1445.72 L2072.92 1445.72  Z\" fill=\"#009af9\" fill-rule=\"evenodd\" fill-opacity=\"1\"/>\n",
       "<polyline clip-path=\"url(#clip862)\" style=\"stroke:#000000; stroke-linecap:round; stroke-linejoin:round; stroke-width:4; stroke-opacity:1; fill:none\" points=\"2072.92,1445.72 2072.92,1445.72 2095.87,1445.72 2072.92,1445.72 \"/>\n",
       "<path clip-path=\"url(#clip862)\" d=\"M2095.87 1445.72 L2095.87 1445.72 L2118.82 1445.72 L2118.82 1445.72 L2095.87 1445.72 L2095.87 1445.72  Z\" fill=\"#009af9\" fill-rule=\"evenodd\" fill-opacity=\"1\"/>\n",
       "<polyline clip-path=\"url(#clip862)\" style=\"stroke:#000000; stroke-linecap:round; stroke-linejoin:round; stroke-width:4; stroke-opacity:1; fill:none\" points=\"2095.87,1445.72 2095.87,1445.72 2118.82,1445.72 2095.87,1445.72 \"/>\n",
       "<path clip-path=\"url(#clip862)\" d=\"M2118.82 1445.72 L2118.82 1445.72 L2141.78 1445.72 L2141.78 1445.72 L2118.82 1445.72 L2118.82 1445.72  Z\" fill=\"#009af9\" fill-rule=\"evenodd\" fill-opacity=\"1\"/>\n",
       "<polyline clip-path=\"url(#clip862)\" style=\"stroke:#000000; stroke-linecap:round; stroke-linejoin:round; stroke-width:4; stroke-opacity:1; fill:none\" points=\"2118.82,1445.72 2118.82,1445.72 2141.78,1445.72 2118.82,1445.72 \"/>\n",
       "<path clip-path=\"url(#clip862)\" d=\"M2141.78 1445.72 L2141.78 1445.72 L2164.73 1445.72 L2164.73 1445.72 L2141.78 1445.72 L2141.78 1445.72  Z\" fill=\"#009af9\" fill-rule=\"evenodd\" fill-opacity=\"1\"/>\n",
       "<polyline clip-path=\"url(#clip862)\" style=\"stroke:#000000; stroke-linecap:round; stroke-linejoin:round; stroke-width:4; stroke-opacity:1; fill:none\" points=\"2141.78,1445.72 2141.78,1445.72 2164.73,1445.72 2141.78,1445.72 \"/>\n",
       "<path clip-path=\"url(#clip862)\" d=\"M2164.73 1445.72 L2164.73 1445.72 L2187.69 1445.72 L2187.69 1445.72 L2164.73 1445.72 L2164.73 1445.72  Z\" fill=\"#009af9\" fill-rule=\"evenodd\" fill-opacity=\"1\"/>\n",
       "<polyline clip-path=\"url(#clip862)\" style=\"stroke:#000000; stroke-linecap:round; stroke-linejoin:round; stroke-width:4; stroke-opacity:1; fill:none\" points=\"2164.73,1445.72 2164.73,1445.72 2187.69,1445.72 2164.73,1445.72 \"/>\n",
       "<path clip-path=\"url(#clip862)\" d=\"M2187.69 1445.72 L2187.69 1445.72 L2210.64 1445.72 L2210.64 1445.72 L2187.69 1445.72 L2187.69 1445.72  Z\" fill=\"#009af9\" fill-rule=\"evenodd\" fill-opacity=\"1\"/>\n",
       "<polyline clip-path=\"url(#clip862)\" style=\"stroke:#000000; stroke-linecap:round; stroke-linejoin:round; stroke-width:4; stroke-opacity:1; fill:none\" points=\"2187.69,1445.72 2187.69,1445.72 2210.64,1445.72 2187.69,1445.72 \"/>\n",
       "<path clip-path=\"url(#clip862)\" d=\"M2210.64 1445.72 L2210.64 1445.72 L2233.6 1445.72 L2233.6 1445.72 L2210.64 1445.72 L2210.64 1445.72  Z\" fill=\"#009af9\" fill-rule=\"evenodd\" fill-opacity=\"1\"/>\n",
       "<polyline clip-path=\"url(#clip862)\" style=\"stroke:#000000; stroke-linecap:round; stroke-linejoin:round; stroke-width:4; stroke-opacity:1; fill:none\" points=\"2210.64,1445.72 2210.64,1445.72 2233.6,1445.72 2210.64,1445.72 \"/>\n",
       "<circle clip-path=\"url(#clip862)\" style=\"fill:#009af9; stroke:none; fill-opacity:0\" cx=\"316.912\" cy=\"87.9763\" r=\"2\"/>\n",
       "<circle clip-path=\"url(#clip862)\" style=\"fill:#009af9; stroke:none; fill-opacity:0\" cx=\"339.866\" cy=\"1445.37\" r=\"2\"/>\n",
       "<circle clip-path=\"url(#clip862)\" style=\"fill:#009af9; stroke:none; fill-opacity:0\" cx=\"362.82\" cy=\"1445.67\" r=\"2\"/>\n",
       "<circle clip-path=\"url(#clip862)\" style=\"fill:#009af9; stroke:none; fill-opacity:0\" cx=\"385.774\" cy=\"1445.7\" r=\"2\"/>\n",
       "<circle clip-path=\"url(#clip862)\" style=\"fill:#009af9; stroke:none; fill-opacity:0\" cx=\"408.729\" cy=\"1445.71\" r=\"2\"/>\n",
       "<circle clip-path=\"url(#clip862)\" style=\"fill:#009af9; stroke:none; fill-opacity:0\" cx=\"431.683\" cy=\"1445.71\" r=\"2\"/>\n",
       "<circle clip-path=\"url(#clip862)\" style=\"fill:#009af9; stroke:none; fill-opacity:0\" cx=\"454.637\" cy=\"1445.71\" r=\"2\"/>\n",
       "<circle clip-path=\"url(#clip862)\" style=\"fill:#009af9; stroke:none; fill-opacity:0\" cx=\"477.592\" cy=\"1445.71\" r=\"2\"/>\n",
       "<circle clip-path=\"url(#clip862)\" style=\"fill:#009af9; stroke:none; fill-opacity:0\" cx=\"500.546\" cy=\"1445.71\" r=\"2\"/>\n",
       "<circle clip-path=\"url(#clip862)\" style=\"fill:#009af9; stroke:none; fill-opacity:0\" cx=\"523.5\" cy=\"1445.71\" r=\"2\"/>\n",
       "<circle clip-path=\"url(#clip862)\" style=\"fill:#009af9; stroke:none; fill-opacity:0\" cx=\"546.455\" cy=\"1445.72\" r=\"2\"/>\n",
       "<circle clip-path=\"url(#clip862)\" style=\"fill:#009af9; stroke:none; fill-opacity:0\" cx=\"569.409\" cy=\"1445.72\" r=\"2\"/>\n",
       "<circle clip-path=\"url(#clip862)\" style=\"fill:#009af9; stroke:none; fill-opacity:0\" cx=\"592.363\" cy=\"1445.72\" r=\"2\"/>\n",
       "<circle clip-path=\"url(#clip862)\" style=\"fill:#009af9; stroke:none; fill-opacity:0\" cx=\"615.317\" cy=\"1445.72\" r=\"2\"/>\n",
       "<circle clip-path=\"url(#clip862)\" style=\"fill:#009af9; stroke:none; fill-opacity:0\" cx=\"638.272\" cy=\"1445.72\" r=\"2\"/>\n",
       "<circle clip-path=\"url(#clip862)\" style=\"fill:#009af9; stroke:none; fill-opacity:0\" cx=\"661.226\" cy=\"1445.72\" r=\"2\"/>\n",
       "<circle clip-path=\"url(#clip862)\" style=\"fill:#009af9; stroke:none; fill-opacity:0\" cx=\"684.18\" cy=\"1445.71\" r=\"2\"/>\n",
       "<circle clip-path=\"url(#clip862)\" style=\"fill:#009af9; stroke:none; fill-opacity:0\" cx=\"707.135\" cy=\"1445.72\" r=\"2\"/>\n",
       "<circle clip-path=\"url(#clip862)\" style=\"fill:#009af9; stroke:none; fill-opacity:0\" cx=\"730.089\" cy=\"1445.72\" r=\"2\"/>\n",
       "<circle clip-path=\"url(#clip862)\" style=\"fill:#009af9; stroke:none; fill-opacity:0\" cx=\"753.043\" cy=\"1445.72\" r=\"2\"/>\n",
       "<circle clip-path=\"url(#clip862)\" style=\"fill:#009af9; stroke:none; fill-opacity:0\" cx=\"775.998\" cy=\"1445.72\" r=\"2\"/>\n",
       "<circle clip-path=\"url(#clip862)\" style=\"fill:#009af9; stroke:none; fill-opacity:0\" cx=\"798.952\" cy=\"1445.72\" r=\"2\"/>\n",
       "<circle clip-path=\"url(#clip862)\" style=\"fill:#009af9; stroke:none; fill-opacity:0\" cx=\"821.906\" cy=\"1445.72\" r=\"2\"/>\n",
       "<circle clip-path=\"url(#clip862)\" style=\"fill:#009af9; stroke:none; fill-opacity:0\" cx=\"844.86\" cy=\"1445.72\" r=\"2\"/>\n",
       "<circle clip-path=\"url(#clip862)\" style=\"fill:#009af9; stroke:none; fill-opacity:0\" cx=\"867.815\" cy=\"1445.72\" r=\"2\"/>\n",
       "<circle clip-path=\"url(#clip862)\" style=\"fill:#009af9; stroke:none; fill-opacity:0\" cx=\"890.769\" cy=\"1445.71\" r=\"2\"/>\n",
       "<circle clip-path=\"url(#clip862)\" style=\"fill:#009af9; stroke:none; fill-opacity:0\" cx=\"913.723\" cy=\"1445.72\" r=\"2\"/>\n",
       "<circle clip-path=\"url(#clip862)\" style=\"fill:#009af9; stroke:none; fill-opacity:0\" cx=\"936.678\" cy=\"1445.72\" r=\"2\"/>\n",
       "<circle clip-path=\"url(#clip862)\" style=\"fill:#009af9; stroke:none; fill-opacity:0\" cx=\"959.632\" cy=\"1445.72\" r=\"2\"/>\n",
       "<circle clip-path=\"url(#clip862)\" style=\"fill:#009af9; stroke:none; fill-opacity:0\" cx=\"982.586\" cy=\"1445.72\" r=\"2\"/>\n",
       "<circle clip-path=\"url(#clip862)\" style=\"fill:#009af9; stroke:none; fill-opacity:0\" cx=\"1005.54\" cy=\"1445.72\" r=\"2\"/>\n",
       "<circle clip-path=\"url(#clip862)\" style=\"fill:#009af9; stroke:none; fill-opacity:0\" cx=\"1028.49\" cy=\"1445.72\" r=\"2\"/>\n",
       "<circle clip-path=\"url(#clip862)\" style=\"fill:#009af9; stroke:none; fill-opacity:0\" cx=\"1051.45\" cy=\"1445.72\" r=\"2\"/>\n",
       "<circle clip-path=\"url(#clip862)\" style=\"fill:#009af9; stroke:none; fill-opacity:0\" cx=\"1074.4\" cy=\"1445.72\" r=\"2\"/>\n",
       "<circle clip-path=\"url(#clip862)\" style=\"fill:#009af9; stroke:none; fill-opacity:0\" cx=\"1097.36\" cy=\"1445.72\" r=\"2\"/>\n",
       "<circle clip-path=\"url(#clip862)\" style=\"fill:#009af9; stroke:none; fill-opacity:0\" cx=\"1120.31\" cy=\"1445.72\" r=\"2\"/>\n",
       "<circle clip-path=\"url(#clip862)\" style=\"fill:#009af9; stroke:none; fill-opacity:0\" cx=\"1143.27\" cy=\"1445.72\" r=\"2\"/>\n",
       "<circle clip-path=\"url(#clip862)\" style=\"fill:#009af9; stroke:none; fill-opacity:0\" cx=\"1166.22\" cy=\"1445.72\" r=\"2\"/>\n",
       "<circle clip-path=\"url(#clip862)\" style=\"fill:#009af9; stroke:none; fill-opacity:0\" cx=\"1189.17\" cy=\"1445.72\" r=\"2\"/>\n",
       "<circle clip-path=\"url(#clip862)\" style=\"fill:#009af9; stroke:none; fill-opacity:0\" cx=\"1212.13\" cy=\"1445.72\" r=\"2\"/>\n",
       "<circle clip-path=\"url(#clip862)\" style=\"fill:#009af9; stroke:none; fill-opacity:0\" cx=\"1235.08\" cy=\"1445.72\" r=\"2\"/>\n",
       "<circle clip-path=\"url(#clip862)\" style=\"fill:#009af9; stroke:none; fill-opacity:0\" cx=\"1258.04\" cy=\"1445.72\" r=\"2\"/>\n",
       "<circle clip-path=\"url(#clip862)\" style=\"fill:#009af9; stroke:none; fill-opacity:0\" cx=\"1280.99\" cy=\"1445.72\" r=\"2\"/>\n",
       "<circle clip-path=\"url(#clip862)\" style=\"fill:#009af9; stroke:none; fill-opacity:0\" cx=\"1303.95\" cy=\"1445.72\" r=\"2\"/>\n",
       "<circle clip-path=\"url(#clip862)\" style=\"fill:#009af9; stroke:none; fill-opacity:0\" cx=\"1326.9\" cy=\"1445.72\" r=\"2\"/>\n",
       "<circle clip-path=\"url(#clip862)\" style=\"fill:#009af9; stroke:none; fill-opacity:0\" cx=\"1349.86\" cy=\"1445.72\" r=\"2\"/>\n",
       "<circle clip-path=\"url(#clip862)\" style=\"fill:#009af9; stroke:none; fill-opacity:0\" cx=\"1372.81\" cy=\"1445.72\" r=\"2\"/>\n",
       "<circle clip-path=\"url(#clip862)\" style=\"fill:#009af9; stroke:none; fill-opacity:0\" cx=\"1395.76\" cy=\"1445.72\" r=\"2\"/>\n",
       "<circle clip-path=\"url(#clip862)\" style=\"fill:#009af9; stroke:none; fill-opacity:0\" cx=\"1418.72\" cy=\"1445.72\" r=\"2\"/>\n",
       "<circle clip-path=\"url(#clip862)\" style=\"fill:#009af9; stroke:none; fill-opacity:0\" cx=\"1441.67\" cy=\"1445.72\" r=\"2\"/>\n",
       "<circle clip-path=\"url(#clip862)\" style=\"fill:#009af9; stroke:none; fill-opacity:0\" cx=\"1464.63\" cy=\"1445.72\" r=\"2\"/>\n",
       "<circle clip-path=\"url(#clip862)\" style=\"fill:#009af9; stroke:none; fill-opacity:0\" cx=\"1487.58\" cy=\"1445.72\" r=\"2\"/>\n",
       "<circle clip-path=\"url(#clip862)\" style=\"fill:#009af9; stroke:none; fill-opacity:0\" cx=\"1510.54\" cy=\"1445.72\" r=\"2\"/>\n",
       "<circle clip-path=\"url(#clip862)\" style=\"fill:#009af9; stroke:none; fill-opacity:0\" cx=\"1533.49\" cy=\"1445.72\" r=\"2\"/>\n",
       "<circle clip-path=\"url(#clip862)\" style=\"fill:#009af9; stroke:none; fill-opacity:0\" cx=\"1556.44\" cy=\"1445.72\" r=\"2\"/>\n",
       "<circle clip-path=\"url(#clip862)\" style=\"fill:#009af9; stroke:none; fill-opacity:0\" cx=\"1579.4\" cy=\"1445.72\" r=\"2\"/>\n",
       "<circle clip-path=\"url(#clip862)\" style=\"fill:#009af9; stroke:none; fill-opacity:0\" cx=\"1602.35\" cy=\"1445.72\" r=\"2\"/>\n",
       "<circle clip-path=\"url(#clip862)\" style=\"fill:#009af9; stroke:none; fill-opacity:0\" cx=\"1625.31\" cy=\"1445.72\" r=\"2\"/>\n",
       "<circle clip-path=\"url(#clip862)\" style=\"fill:#009af9; stroke:none; fill-opacity:0\" cx=\"1648.26\" cy=\"1445.72\" r=\"2\"/>\n",
       "<circle clip-path=\"url(#clip862)\" style=\"fill:#009af9; stroke:none; fill-opacity:0\" cx=\"1671.22\" cy=\"1445.72\" r=\"2\"/>\n",
       "<circle clip-path=\"url(#clip862)\" style=\"fill:#009af9; stroke:none; fill-opacity:0\" cx=\"1694.17\" cy=\"1445.72\" r=\"2\"/>\n",
       "<circle clip-path=\"url(#clip862)\" style=\"fill:#009af9; stroke:none; fill-opacity:0\" cx=\"1717.12\" cy=\"1445.72\" r=\"2\"/>\n",
       "<circle clip-path=\"url(#clip862)\" style=\"fill:#009af9; stroke:none; fill-opacity:0\" cx=\"1740.08\" cy=\"1445.72\" r=\"2\"/>\n",
       "<circle clip-path=\"url(#clip862)\" style=\"fill:#009af9; stroke:none; fill-opacity:0\" cx=\"1763.03\" cy=\"1445.72\" r=\"2\"/>\n",
       "<circle clip-path=\"url(#clip862)\" style=\"fill:#009af9; stroke:none; fill-opacity:0\" cx=\"1785.99\" cy=\"1445.72\" r=\"2\"/>\n",
       "<circle clip-path=\"url(#clip862)\" style=\"fill:#009af9; stroke:none; fill-opacity:0\" cx=\"1808.94\" cy=\"1445.72\" r=\"2\"/>\n",
       "<circle clip-path=\"url(#clip862)\" style=\"fill:#009af9; stroke:none; fill-opacity:0\" cx=\"1831.9\" cy=\"1445.72\" r=\"2\"/>\n",
       "<circle clip-path=\"url(#clip862)\" style=\"fill:#009af9; stroke:none; fill-opacity:0\" cx=\"1854.85\" cy=\"1445.72\" r=\"2\"/>\n",
       "<circle clip-path=\"url(#clip862)\" style=\"fill:#009af9; stroke:none; fill-opacity:0\" cx=\"1877.8\" cy=\"1445.72\" r=\"2\"/>\n",
       "<circle clip-path=\"url(#clip862)\" style=\"fill:#009af9; stroke:none; fill-opacity:0\" cx=\"1900.76\" cy=\"1445.72\" r=\"2\"/>\n",
       "<circle clip-path=\"url(#clip862)\" style=\"fill:#009af9; stroke:none; fill-opacity:0\" cx=\"1923.71\" cy=\"1445.72\" r=\"2\"/>\n",
       "<circle clip-path=\"url(#clip862)\" style=\"fill:#009af9; stroke:none; fill-opacity:0\" cx=\"1946.67\" cy=\"1445.72\" r=\"2\"/>\n",
       "<circle clip-path=\"url(#clip862)\" style=\"fill:#009af9; stroke:none; fill-opacity:0\" cx=\"1969.62\" cy=\"1445.72\" r=\"2\"/>\n",
       "<circle clip-path=\"url(#clip862)\" style=\"fill:#009af9; stroke:none; fill-opacity:0\" cx=\"1992.58\" cy=\"1445.72\" r=\"2\"/>\n",
       "<circle clip-path=\"url(#clip862)\" style=\"fill:#009af9; stroke:none; fill-opacity:0\" cx=\"2015.53\" cy=\"1445.72\" r=\"2\"/>\n",
       "<circle clip-path=\"url(#clip862)\" style=\"fill:#009af9; stroke:none; fill-opacity:0\" cx=\"2038.48\" cy=\"1445.72\" r=\"2\"/>\n",
       "<circle clip-path=\"url(#clip862)\" style=\"fill:#009af9; stroke:none; fill-opacity:0\" cx=\"2061.44\" cy=\"1445.72\" r=\"2\"/>\n",
       "<circle clip-path=\"url(#clip862)\" style=\"fill:#009af9; stroke:none; fill-opacity:0\" cx=\"2084.39\" cy=\"1445.72\" r=\"2\"/>\n",
       "<circle clip-path=\"url(#clip862)\" style=\"fill:#009af9; stroke:none; fill-opacity:0\" cx=\"2107.35\" cy=\"1445.72\" r=\"2\"/>\n",
       "<circle clip-path=\"url(#clip862)\" style=\"fill:#009af9; stroke:none; fill-opacity:0\" cx=\"2130.3\" cy=\"1445.72\" r=\"2\"/>\n",
       "<circle clip-path=\"url(#clip862)\" style=\"fill:#009af9; stroke:none; fill-opacity:0\" cx=\"2153.26\" cy=\"1445.72\" r=\"2\"/>\n",
       "<circle clip-path=\"url(#clip862)\" style=\"fill:#009af9; stroke:none; fill-opacity:0\" cx=\"2176.21\" cy=\"1445.72\" r=\"2\"/>\n",
       "<circle clip-path=\"url(#clip862)\" style=\"fill:#009af9; stroke:none; fill-opacity:0\" cx=\"2199.16\" cy=\"1445.72\" r=\"2\"/>\n",
       "<circle clip-path=\"url(#clip862)\" style=\"fill:#009af9; stroke:none; fill-opacity:0\" cx=\"2222.12\" cy=\"1445.72\" r=\"2\"/>\n",
       "<path clip-path=\"url(#clip860)\" d=\"M2011.46 198.898 L2280.54 198.898 L2280.54 95.2176 L2011.46 95.2176  Z\" fill=\"#ffffff\" fill-rule=\"evenodd\" fill-opacity=\"1\"/>\n",
       "<polyline clip-path=\"url(#clip860)\" style=\"stroke:#000000; stroke-linecap:round; stroke-linejoin:round; stroke-width:4; stroke-opacity:1; fill:none\" points=\"2011.46,198.898 2280.54,198.898 2280.54,95.2176 2011.46,95.2176 2011.46,198.898 \"/>\n",
       "<path clip-path=\"url(#clip860)\" d=\"M2035.53 167.794 L2179.97 167.794 L2179.97 126.322 L2035.53 126.322 L2035.53 167.794  Z\" fill=\"#009af9\" fill-rule=\"evenodd\" fill-opacity=\"1\"/>\n",
       "<polyline clip-path=\"url(#clip860)\" style=\"stroke:#000000; stroke-linecap:round; stroke-linejoin:round; stroke-width:4; stroke-opacity:1; fill:none\" points=\"2035.53,167.794 2179.97,167.794 2179.97,126.322 2035.53,126.322 2035.53,167.794 \"/>\n",
       "<path clip-path=\"url(#clip860)\" d=\"M2217.88 166.745 Q2216.07 171.375 2214.36 172.787 Q2212.65 174.199 2209.78 174.199 L2206.38 174.199 L2206.38 170.634 L2208.88 170.634 Q2210.63 170.634 2211.61 169.8 Q2212.58 168.967 2213.76 165.865 L2214.52 163.921 L2204.04 138.412 L2208.55 138.412 L2216.65 158.689 L2224.76 138.412 L2229.27 138.412 L2217.88 166.745 Z\" fill=\"#000000\" fill-rule=\"nonzero\" fill-opacity=\"1\" /><path clip-path=\"url(#clip860)\" d=\"M2236.56 160.402 L2244.2 160.402 L2244.2 134.037 L2235.89 135.703 L2235.89 131.444 L2244.15 129.778 L2248.83 129.778 L2248.83 160.402 L2256.47 160.402 L2256.47 164.338 L2236.56 164.338 L2236.56 160.402 Z\" fill=\"#000000\" fill-rule=\"nonzero\" fill-opacity=\"1\" /></svg>\n"
      ]
     },
     "execution_count": 30,
     "metadata": {},
     "output_type": "execute_result"
    }
   ],
   "source": [
    "println(maximum(miller_rabin_liar_rate))\n",
    "histogram(miller_rabin_liar_rate,bins=bins,normalize=:probability)"
   ]
  },
  {
   "cell_type": "code",
   "execution_count": 31,
   "id": "571fcff3",
   "metadata": {},
   "outputs": [
    {
     "data": {
      "text/plain": [
       "4.75e-6"
      ]
     },
     "execution_count": 31,
     "metadata": {},
     "output_type": "execute_result"
    }
   ],
   "source": [
    "mean(miller_rabin_liar_rate)"
   ]
  },
  {
   "cell_type": "code",
   "execution_count": null,
   "id": "4cae09b4",
   "metadata": {},
   "outputs": [],
   "source": []
  }
 ],
 "metadata": {
  "kernelspec": {
   "display_name": "Julia 1.8.3",
   "language": "julia",
   "name": "julia-1.8"
  },
  "language_info": {
   "file_extension": ".jl",
   "mimetype": "application/julia",
   "name": "julia",
   "version": "1.8.3"
  }
 },
 "nbformat": 4,
 "nbformat_minor": 5
}
